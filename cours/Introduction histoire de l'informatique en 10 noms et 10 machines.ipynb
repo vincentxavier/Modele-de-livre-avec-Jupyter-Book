{
 "cells": [
  {
   "cell_type": "markdown",
   "metadata": {},
   "source": [
    "# Introduction\n",
    "Emplois du temps, présentation du professeur..."
   ]
  },
  {
   "cell_type": "markdown",
   "metadata": {
    "slideshow": {
     "slide_type": "slide"
    }
   },
   "source": [
    "# Histoire de l'informatique en 10 noms et 10 objets\n",
    "\n",
    "- En moins de deux heures, je souhaite vous montrer un rapide aperçu de la longue histoire de l'informatique\n",
    "    - en 10 noms de personnes importantes\n",
    "    - et en 10 objets."
   ]
  },
  {
   "cell_type": "markdown",
   "metadata": {
    "slideshow": {
     "slide_type": "slide"
    }
   },
   "source": [
    "## Objet 1/10 : Tablette mésopotamienne en argile\n",
    "\n",
    "- Environ en $-2500$ en Mésopotamie ;\n",
    "- Des centaines de tablettes en argiles ont été retrouvées, parfois avec des écrits mathématiques ;\n",
    "- Certaines tablettes contiennent des méthodes de calculs, par exemple pour calculer une approximation de $\\lceil\\sqrt{a}\\rceil$ pour un entier $a\\in\\mathbb{N}$ par la méthode dite des Babyloniens."
   ]
  },
  {
   "cell_type": "markdown",
   "metadata": {
    "slideshow": {
     "slide_type": "subslide"
    }
   },
   "source": [
    "Tablette en argile YBC 7289 (conservée à Yale) :\n",
    "\n",
    "<img src=\"https://upload.wikimedia.org/wikipedia/commons/0/0b/Ybc7289-bw.jpg\" width=\"300px\">\n",
    "\n",
    "- Tablette estimée à -1800 / -1600 av JC, donnant une valeur approchée de la longueur de la diagonale d’un carré unité, $\\sqrt{2}$, à six chiffres décimaux après la virgule :\n",
    "\n",
    "- Les Babyloniens avaient une méthode efficace, systématique, pour faire ce genre de calculs."
   ]
  },
  {
   "cell_type": "markdown",
   "metadata": {
    "slideshow": {
     "slide_type": "subslide"
    }
   },
   "source": [
    "- Cette méthode est un excellent exemple d'algorithme numérique, conçu dans un autre système de numération (base 16)\n",
    "- $\\leftrightharpoons$ MATHS : c'est en fait un cas particulier de la méthode de Newton, appliqué à résoudre l'équation $f(x)=0$ à la fonction de convexe et de classe $\\mathcal{C}^2$, $f(x)=x^2-a$ ;\n",
    "\n",
    "- On utilisera cette algorithme en démo en TP."
   ]
  },
  {
   "cell_type": "markdown",
   "metadata": {
    "slideshow": {
     "slide_type": "slide"
    }
   },
   "source": [
    "## Personnage 1/10 : Euclide (-300)\n",
    "\n",
    "- Né aux alentours de -300 en Grèce ;\n",
    "- Retenu et connu pour ses écrits de mathématiques ;\n",
    "- Ses livres contiennent aussi beaucoup de prototypes d'algorithmes sur des structures algébriques (droites etc) et des nombres ;\n",
    "- Un bon exemple : le calcul du PGCD par la méthode d'Euclide (récursive ou non)"
   ]
  },
  {
   "cell_type": "markdown",
   "metadata": {
    "slideshow": {
     "slide_type": "slide"
    }
   },
   "source": [
    "## Objet 2/10 : divers sextants et compas astronomiques\n",
    "\n",
    "- Utilisés pour s'orienter et trouver la direction en mer, ils sont connus des Chinois depuis -300 au moins ;\n",
    "- Une machine mécanique pour traiter des données analogiques, c'est un début de calculateur mécanique non générique et non programmable ;\n",
    "\n",
    "- Suite : horloge numérique, plus ou moins avancées (cf. celle de la cathédrale ici à Strasbourg !)."
   ]
  },
  {
   "cell_type": "markdown",
   "metadata": {
    "slideshow": {
     "slide_type": "slide"
    }
   },
   "source": [
    "## Personnage 2/10 : Al-Khwârizmî (~780-850)\n",
    "\n",
    "<img src=\"https://upload.wikimedia.org/wikipedia/commons/thumb/3/31/1983_CPA_5426.jpg/440px-1983_CPA_5426.jpg\" width=\"200px\">\n",
    "\n",
    "- Né en 650 en Perse (actuel Iran) ;\n",
    "- Retenu et connu pour ses écrits de mathématiques, l'introduction du zéro indien en occident, et une carrière prolifique en maths ;\n",
    "- Ses écrits contiennent aussi beaucoup d'algorithmes sur des nombres, par exemple pour l'extraction de racines carrées et autres ;\n",
    "- La version latinisée de son nom a donné le mot *al-gorithme*."
   ]
  },
  {
   "cell_type": "markdown",
   "metadata": {
    "slideshow": {
     "slide_type": "slide"
    }
   },
   "source": [
    "## Objet 3/10 : Métiers à tisser de Jacquard (1801)\n",
    "\n",
    "- Le métier Jacquard est un métier à tisser (i.e., fabriquer le tissu) mis au point par le Lyonnais Joseph Marie Jacquard en 1801, premier système mécanique programmable avec des *cartes perforées* ;\n",
    "- Ce sont des machines programmables, mais pas encore des ordinateurs au sens où elles ne manipulent pas des nombres, elles fabriquent des tissus c'est tout (et c'est déjà incroyable) ;\n",
    "- Des modèles évolués et entièrement automatisés sont encore utilisés de part le monde aujourd'hui.\n"
   ]
  },
  {
   "cell_type": "markdown",
   "metadata": {
    "slideshow": {
     "slide_type": "slide"
    }
   },
   "source": [
    "## Personnage 3/10 : Ada Lovelace (1815-1852)\n",
    "\n",
    "<img src=\"https://upload.wikimedia.org/wikipedia/commons/thumb/b/b7/Ada_Byron_daguerreotype_by_Antoine_Claudet_1843_or_1850_-_cropped.png/520px-Ada_Byron_daguerreotype_by_Antoine_Claudet_1843_or_1850_-_cropped.png\" width=\"100px\">\n",
    "\n",
    "- Fille du Baron Lord Byron, elle reçoit une excellente éducation notamment en mathématiques. Elle rencontre Charles Babbage à 17 ans ;\n",
    "- Elle est généralement considérée comme la première \"programmeuse\" (ou \"codeuse\") de l'histoire, pour avoir décrit un programme dans un langage non naturel (sur papier), pour calculer les nombres de Bernoulli. Ce programme était destiné à être exécuté sur la *machine analytique* de Babbage ;\n",
    "- Elle meurt jeune, et reste inconnue du grand public pendant très longtemps (comme beaucoup de femmes importantes)."
   ]
  },
  {
   "cell_type": "markdown",
   "metadata": {
    "slideshow": {
     "slide_type": "slide"
    }
   },
   "source": [
    "## Objet 4/10 : machine à calculer de Babbage\n",
    "\n",
    "- Suite des machines à diviser et multiplier, elles-mêmes descendantes des bouliers chinois ;\n",
    "- En France, Pascal développe sa Pascaline en 1645, qui permet de faire des opérations arithméthiques en utilisant des roues dentées mécaniques et des composants finement arrangés entre eux ;\n",
    "\n",
    "- La machine de Babbage ne sera jamais vraiment terminée, il travaille avec Ada Lovelace toute leur vie dessus ;\n",
    "- Un modèle réel est terminé et mis en fonction en 2002, et il fonctionne comme prévu dans leurs écrits."
   ]
  },
  {
   "cell_type": "markdown",
   "metadata": {
    "slideshow": {
     "slide_type": "subslide"
    }
   },
   "source": [
    "<img src=\"https://upload.wikimedia.org/wikipedia/commons/thumb/c/cf/Diagram_for_the_computation_of_Bernoulli_numbers.jpg/660px-Diagram_for_the_computation_of_Bernoulli_numbers.jpg\" width=\"900px\">\n",
    "Programme pour calculer des nombres de Bernoulli avec la machine à calculer de Babbage."
   ]
  },
  {
   "cell_type": "markdown",
   "metadata": {
    "slideshow": {
     "slide_type": "slide"
    }
   },
   "source": [
    "## Personnage 4/10 : Alonzo Church (1903-1995)\n",
    "\n",
    "- Mathématicien et logicien Américain, il fonde à Princeton une équipe de recherche qui sera au cœur de toutes les plus grandes avancées en informatique théorique des années 1930 ;\n",
    "- Il y cotoie d'autres grands noms de l'histoire de l'informartique, comme John von Neumann, ses étudiants  Stephen Kleene, John Barkley Rosser et Alan Turing, et rencontre aussi Kurt Gödel ;\n",
    "\n",
    "- Il fonde notamment le $\\lambda$-calcul, et proposera la \"thèse de Church-Turing\" qui est un énoncé informel énonçant que tous les modèles de calculs sont équivalents et aussi puissants et expressifs (machines de Turing, $\\lambda$-calcul, fonctions récursives, langages de programmation, etc.)."
   ]
  },
  {
   "cell_type": "markdown",
   "metadata": {
    "slideshow": {
     "slide_type": "slide"
    }
   },
   "source": [
    "## Objet 5/10 : ordinateur ENIAC en 1945\n",
    "\n",
    "- Il s'agit probablement du premier ordinateur au sens moderne du terme, entièrement électronique, et au sens de la complétude selon Church-Turing ;\n",
    "- Il succède aux ordinateurs Z3 des Allemands (1941-1945) et aux calculateurs Collosus de l'équipe de Turing (1941-45) et est contemporain des Harvard Mark I et II ;\n",
    "- Fabriqué à Princeton en 1945, il est à l'époque l'ordinateur (générique) le plus puissant, déjà bien plus puissant qu'une calculatrice de bureau moderne :\n",
    "\n",
    "> Sa capacité est de 20 nombres à 10 chiffres signés permettant chacun de réaliser 5 000 additions simples chaque seconde (pour un total de 100 000 additions par seconde). Il ne peut en revanche gérer que 357 multiplications ou 38 divisions par seconde."
   ]
  },
  {
   "cell_type": "markdown",
   "metadata": {
    "slideshow": {
     "slide_type": "subslide"
    }
   },
   "source": [
    "- Il occupe une pièce entière, tombe en panne très souvent, fonctionne avec des tubes à vide ;\n",
    "\n",
    "- En 1954, les premiers micro-transistors en silicium commenceront à remplacer les tubes à vide car ils sont plus fiables, plus petits. En 1971, Intel inventera les premiers micro-processeurs qui lanceront la loi de Moore encore valable aujourd'hui."
   ]
  },
  {
   "cell_type": "markdown",
   "metadata": {
    "slideshow": {
     "slide_type": "slide"
    }
   },
   "source": [
    "## Personnage 5/10 : Alan Turing (1912-1954)\n",
    "\n",
    "- Pour résoudre le problème fondamental de la décidabilité en arithmétique, il présente en 1936 une expérience de pensée que l'on nommera ensuite machine de Turing et des concepts de programme et de programmation, qui prendront tout leur sens avec la diffusion des ordinateurs, après la WW2 ;"
   ]
  },
  {
   "cell_type": "markdown",
   "metadata": {
    "slideshow": {
     "slide_type": "fragment"
    }
   },
   "source": [
    "- Durant la seconde guerre mondiale (WW2) il est à la tête d'un groupe de mathématicien britannique qui essaient de combattre les méthodes de chiffrement utilisées quotidiennement par l'armée nazie pour la transmission de leur messages. Concrètement, réussir à deviner plus rapidement des morceau de message (chiffrés via des machines ENIGMA) peut sauver des vies en mer en évitant des bombardements et des attaques de missiles ;"
   ]
  },
  {
   "cell_type": "markdown",
   "metadata": {
    "slideshow": {
     "slide_type": "subslide"
    }
   },
   "source": [
    "- Il est persécuté pour son homosexualité vers 1952 et se suicide à cause de la décision judiciaire de le castrer chimiquement. Il n'est pardonné par le gourvenement britannique que 60 ans plus tard (2013) ;\n",
    "\n",
    "- Sa vie est racontée dans le film *The Imitation Game*.\n",
    "\n",
    "----"
   ]
  },
  {
   "cell_type": "markdown",
   "metadata": {
    "slideshow": {
     "slide_type": "slide"
    }
   },
   "source": [
    "## Objet 6/10 : ordinateurs embarqués pour la mission Apollo en 1969\n",
    "\n",
    "<img src=\"https://upload.wikimedia.org/wikipedia/commons/thumb/d/db/Margaret_Hamilton_-_restoration.jpg/340px-Margaret_Hamilton_-_restoration.jpg\" width=\"150px\">\n",
    "\n",
    "- La course à la conquête spatiale se voit s'affronter l'URSS et les USA entre 1945 et 1969. L'URSS gagne chaque étape sauf la dernière, le premier vol habité à se poser sur la Lune ;\n",
    "- Le code source de la mission Apollo est constitué de plusieurs dizaines de milliers de lignes de code assembleur, et sort d'une équipe du MIT dirigée par Margaret Hamilton ;\n",
    "- La mission est un succès en 1969, malgré un bogue logiciel qui sera corrigé en temps réel depuis la Terre."
   ]
  },
  {
   "cell_type": "markdown",
   "metadata": {
    "slideshow": {
     "slide_type": "slide"
    }
   },
   "source": [
    "## Personnage 6/10 : Grace Hopper (1906-1992)\n",
    "\n",
    "<img src=\"https://upload.wikimedia.org/wikipedia/commons/thumb/a/ad/Commodore_Grace_M._Hopper%2C_USN_%28covered%29.jpg/560px-Commodore_Grace_M._Hopper%2C_USN_%28covered%29.jpg\" width=\"100px\">\n",
    "\n",
    "- Militaire de carrière, elle fut amirale de la marine des USA ;\n",
    "- On lui doit notamment l'invention du premier compilateur, qui permet d'écrire des programmes dans des langages dits de plus hauts niveaux que le binaire ou l'assembleur. C'est l'invention du compilateur qui permet l'utilisation de langages compilés comme le FORTRAN, le C ou le Java, et aussi le OCaml ;\n",
    "- Elle invente aussi le COBOL comme le premier de ces langages proche de la langue anglaise et loin du binaire ;\n",
    "- Le COBOL reste (malheureusement) utilisé 60 ans plus tard, notamment par les finances publiques aux USA pour les calculs des impôts."
   ]
  },
  {
   "cell_type": "markdown",
   "metadata": {
    "slideshow": {
     "slide_type": "slide"
    }
   },
   "source": [
    "## Objet 7/10 : baladeurs Walkman de Sony en 1979\n",
    "\n",
    "<img src=\"https://upload.wikimedia.org/wikipedia/commons/thumb/4/4e/Original_Sony_Walkman_TPS-L2.JPG/440px-Original_Sony_Walkman_TPS-L2.JPG\" width=\"150px\">\n",
    "\n",
    "- En 1979, Sony sort le premier baladeur portable permettant d'écouter de la musique avec des petits écouteurs (pas de sans fil à l'époque) et des cassettes audio ;\n",
    "- Des modèles plus avancés apporteront la radio FM ;\n",
    "- 200 millions d'unité seront produites entre 1979 et 2010 ;"
   ]
  },
  {
   "cell_type": "markdown",
   "metadata": {
    "slideshow": {
     "slide_type": "slide"
    }
   },
   "source": [
    "## Personnage 7/10 : Steve Jobs (1955-2011)\n",
    "\n",
    "<img src=\"https://upload.wikimedia.org/wikipedia/commons/thumb/b/b9/Steve_Jobs_Headshot_2010-CROP.jpg/1024px-Steve_Jobs_Headshot_2010-CROP.jpg\" width=\"150px\">\n",
    "\n",
    "- Internationnalement connu même hors de l'enseignement de l'informatique, Steve Jobs était un des fondateurs d'Apple et son PDG pendant plus de 30 ans ;\n",
    "- Il a aussi œuvré aux studios Pixar dans les années 1990, et on lui doit par exemple Toy Story en 1995 en tant que producteur exécutif ;\n",
    "- Il reste un symbole pour ses travaux sur le design et la conception d'appareils révolutionnaires durant 20 ans, comme les iMac, les iPod en 2001 (baladeurs MP3 portables), les iPhone en 2007 (téléphones intelligents) et les iPad en (tablettes)."
   ]
  },
  {
   "cell_type": "markdown",
   "metadata": {
    "slideshow": {
     "slide_type": "slide"
    }
   },
   "source": [
    "## Objet 8/10 : ordinateurs personnels sous Apple II et MS DOS, jusqu'au PC ou serveurs sous Windows et Apple, UNIX et Linux\n",
    "\n",
    "- Dans les années 1980 sont crées les deux entreprises Apple et Microsoft, qui amènent les ordinateurs personnels (PC) dans tous les foyers aisés aux USA et en Europe ;\n",
    "- C'est le début de l'ère de l'ordinateur familial, qui est utilisé aussi bien par les enfants pour les jeux vidéos que les parents pour la comptabilité et l'accès progressif aux informations en ligne avec Internet dans les années 1990 ;\n",
    "\n",
    "- Parallèlement, les ordinateurs professionnels dans les universités étaient sous UNIX depuis les années 1970, et depuis les années 1980 le projet GNU et le noyau Linux deviennent des alternatives libres et gratuites à UNIX, qui disparaît rapidement du paysage ;\n",
    "\n",
    "- Désormais, le monde est partagé entre Windows et Apple pour les ordinateurs personnels, quasiment dominé par Linux pour les serveurs et super-calculateurs."
   ]
  },
  {
   "cell_type": "markdown",
   "metadata": {
    "slideshow": {
     "slide_type": "slide"
    }
   },
   "source": [
    "## Personnage 8/10 : Bill Gates (1955-)\n",
    "\n",
    "<img src=\"https://upload.wikimedia.org/wikipedia/commons/thumb/a/af/Bill_Gates_-_Nov._8%2C_2019.jpg/520px-Bill_Gates_-_Nov._8%2C_2019.jpg\" width=\"150px\">\n",
    "\n",
    "- Il est internationnalement connu pour être un des fondateurs de Microsoft, et avoir été l'homme le plus riche du monde pendant longtemps ;\n",
    "- Programmeur de génie, son entreprise Microsoft a été la principale entreprise à amener un ordinateur personnel (PC) chez chaque famille ;\n",
    "- Depuis son départ progressif de Microsoft en 2006 et sa retraite, il se consacre à sa fondation (*Bill & Melinda Gates Foundation*), qui œuvre notamment pour les questions de lutte contre les inégalités, les maladies, et la crise climatique."
   ]
  },
  {
   "cell_type": "markdown",
   "metadata": {
    "slideshow": {
     "slide_type": "slide"
    }
   },
   "source": [
    "## Objet 9/10 : des consoles de jeux comme la NES et la Game Boy en 1989 à un smartphone Android de Google en 2010 : 20 ans de progrès au cœur de la main\n",
    "\n",
    "- Dans les années 1980, les consoles de jeux d'entreprises japonaises, comme Nintendo avec la NES ou la Game Boy, deviennent très populaires et se retrouvent branchés aux toutes nouvelles télévisions couleurs partout en Europe de l'Ouest et aux USA ;\n",
    "- La Game Boy est la première console portable, et le début de 30 ans d'innovation, de miniaturisation qui amènent jusqu'à la Nintendo Switch récemment ;\n",
    "- Parallèlement au succès de l'iPhone voit arriver le succès des smartphones sous Android, désormais leader du marché des smartphones."
   ]
  },
  {
   "cell_type": "markdown",
   "metadata": {
    "slideshow": {
     "slide_type": "slide"
    }
   },
   "source": [
    "## Personnage 9/10 : Tim Berners Lee (1955-)\n",
    "\n",
    "<img src=\"https://upload.wikimedia.org/wikipedia/commons/thumb/3/3a/Tim_Berners-Lee_closeup.jpg/520px-Tim_Berners-Lee_closeup.jpg\" width=\"200px\">\n",
    "\n",
    "- Alors physicien au CERN, il est retenu comme un des trois inventeurs du langage HTML (balisage pour des documents web) en 1992, en inventant le concept de *lien hypertexte* ;\n",
    "- Il est aussi et surtout un des inventeurs du World Wide Web en 1991, et dirige depuis 30 ans le W3C, qui œuvre à garder le web comme un standard ouvert et libre."
   ]
  },
  {
   "cell_type": "markdown",
   "metadata": {
    "slideshow": {
     "slide_type": "slide"
    }
   },
   "source": [
    "## Objet 10/10 : un drone volant sur Mars basé sur un noyau Linux et piloté à distance par la NASA en 2021\n",
    "\n",
    "- En 2021, la mission Curiosity de la NASA est un succès et un petit drone volant est déployé à la surface de Mars ;\n",
    "- Il est notamment mis en avant par la NASA que les systèmes d'exploitation de ses drones sont désormais basés sur des noyaux Linux ;\n",
    "- De façon humouristique, beaucoup disent alors que Mars devient la deuxième planète à avoir plus d'ordinateurs tournant sur Linux que sur Windows !"
   ]
  },
  {
   "cell_type": "markdown",
   "metadata": {
    "slideshow": {
     "slide_type": "slide"
    }
   },
   "source": [
    "## Personnage 10/10 : Yann LeCun (1960-)\n",
    "\n",
    "<img src=\"https://upload.wikimedia.org/wikipedia/commons/thumb/2/22/Yann_LeCun_-_2018_%28cropped%29.jpg/800px-Yann_LeCun_-_2018_%28cropped%29.jpg\" width=\"150px\">\n",
    "\n",
    "- Dans les années 2010, ses travaux sur les réseaux de neurones convolutionnels (CNN) deviennent populaires suite à un succès dans une compétition annuelle de reconnaissance d'image ;\n",
    "- Il n'a rien inventé sur les CNN, mais simplement bien utilisé des travaux précédents. Par contre, on lui doit d'avoir beaucoup œuvré pour populariser ces méthodes, dites d'apprentissage profond (*deep learning*) ;\n",
    "- Il est désormais en charge de la recherche chez Facebook, depuis quelques années."
   ]
  },
  {
   "cell_type": "markdown",
   "metadata": {},
   "source": [
    "## Conclusion\n",
    "\n",
    "- Il manque des morceaux et des personnes importantes ;\n",
    "- Mais voici un petit aperçu de l'historique de l'informatique telle que je la vois."
   ]
  }
 ],
 "metadata": {
  "celltoolbar": "Diaporama",
  "kernelspec": {
   "display_name": "Python 3",
   "language": "python",
   "name": "python3"
  },
  "language_info": {
   "codemirror_mode": {
    "name": "ipython",
    "version": 3
   },
   "file_extension": ".py",
   "mimetype": "text/x-python",
   "name": "python",
   "nbconvert_exporter": "python",
   "pygments_lexer": "ipython3",
   "version": "3.6.9"
  },
  "toc": {
   "base_numbering": 1,
   "nav_menu": {},
   "number_sections": true,
   "sideBar": true,
   "skip_h1_title": false,
   "title_cell": "Table of Contents",
   "title_sidebar": "Contents",
   "toc_cell": false,
   "toc_position": {
    "height": "369.5px",
    "left": "64px",
    "top": "82.3833px",
    "width": "443.55px"
   },
   "toc_section_display": true,
   "toc_window_display": false
  },
  "varInspector": {
   "cols": {
    "lenName": 16,
    "lenType": 16,
    "lenVar": 40
   },
   "kernels_config": {
    "python": {
     "delete_cmd_postfix": "",
     "delete_cmd_prefix": "del ",
     "library": "var_list.py",
     "varRefreshCmd": "print(var_dic_list())"
    },
    "r": {
     "delete_cmd_postfix": ") ",
     "delete_cmd_prefix": "rm(",
     "library": "var_list.r",
     "varRefreshCmd": "cat(var_dic_list()) "
    }
   },
   "types_to_exclude": [
    "module",
    "function",
    "builtin_function_or_method",
    "instance",
    "_Feature"
   ],
   "window_display": false
  }
 },
 "nbformat": 4,
 "nbformat_minor": 4
}
