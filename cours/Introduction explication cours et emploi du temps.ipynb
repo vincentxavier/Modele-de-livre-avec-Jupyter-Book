{
 "cells": [
  {
   "cell_type": "markdown",
   "metadata": {
    "slideshow": {
     "slide_type": "slide"
    }
   },
   "source": [
    "# Introduction - informatique en MP2I\n",
    "\n",
    "Premier cours, quelques informations générales."
   ]
  },
  {
   "cell_type": "markdown",
   "metadata": {
    "slideshow": {
     "slide_type": "slide"
    }
   },
   "source": [
    "## Avec qui ? Lilian Besson\n",
    "Ou plutôt, *qui suis-je en quelques minutes*.\n",
    "\n",
    "- Site web : <https://besson.link>\n",
    "- Mail : `mp2i.2021@besson.link`\n",
    "- Études avant ce poste : MPSI/MP* à Marseille 2009/11, ENS Cachan puis Paris-Saclay 2011/16, thèse à CentraleSupélec Rennes et Inria Lille 2016/19 ;\n",
    "- Postes avant cette année : prof maths et info à École Centrale Mahindra en Inde en 2014/15, colles à Lakanal à Sceaux en 2015/16, à l'ENSAI et l'ENS Rennes depuis 2016, plein temps à l'ENS Rennes (depuis deux ans)."
   ]
  },
  {
   "cell_type": "markdown",
   "metadata": {
    "slideshow": {
     "slide_type": "slide"
    }
   },
   "source": [
    "## Emploi du temps"
   ]
  },
  {
   "cell_type": "markdown",
   "metadata": {
    "slideshow": {
     "slide_type": "subslide"
    }
   },
   "source": [
    "### Vue globale\n",
    "\n",
    "TODO emploi du temps global à insérer ici ?\n",
    "\n",
    "![](TODO.png)"
   ]
  },
  {
   "cell_type": "markdown",
   "metadata": {
    "slideshow": {
     "slide_type": "subslide"
    }
   },
   "source": [
    "### Pour l'informatique\n",
    "\n",
    "TODO: mettre à jour les dates exactes."
   ]
  },
  {
   "cell_type": "markdown",
   "metadata": {
    "slideshow": {
     "slide_type": "fragment"
    }
   },
   "source": [
    "1. Cours magistraux : 2h le mardi matin, 10h05-12h05 ;"
   ]
  },
  {
   "cell_type": "markdown",
   "metadata": {
    "slideshow": {
     "slide_type": "fragment"
    }
   },
   "source": [
    "2. TP/TD : 2h le jeudi matin, groupe 1 à 08h-10h, groupe 2 à 10h05-12h05.\n",
    "    * En alternance une semaine sur deux : TD puis TP puis TD, etc.\n",
    "    * TP (code) à rendre un TP sur deux en binôme, ou QCM écrit à faire en fin de TD ;"
   ]
  },
  {
   "cell_type": "markdown",
   "metadata": {
    "slideshow": {
     "slide_type": "fragment"
    }
   },
   "source": [
    "3. Colles : 1h par mois, par trinôme. 30 minutes de préparation, 25 minutes de passage. Avec moi au premier semestre (au moins) ;"
   ]
  },
  {
   "cell_type": "markdown",
   "metadata": {
    "slideshow": {
     "slide_type": "fragment"
    }
   },
   "source": [
    "4. DS : de 2h à 4h un samedi matin par mois."
   ]
  },
  {
   "cell_type": "markdown",
   "metadata": {
    "slideshow": {
     "slide_type": "slide"
    }
   },
   "source": [
    "## Organisation des séances\n",
    "\n",
    "- 2h sans pause mais avec un petit QCM interactif tous les 15/20 minutes pour rythmer le cours ;\n",
    "- Vous devez être interactifs ;\n",
    "- N'ayez jamais peur de poser une question, d'interrompre le cours ;\n",
    "- Prenez des notes papiers ou sur votre ordinateur ;"
   ]
  },
  {
   "cell_type": "markdown",
   "metadata": {
    "slideshow": {
     "slide_type": "fragment"
    }
   },
   "source": [
    "- Je recommande le livre \"99 conseils pour bien réussir sa prépa scientifique\" ;\n",
    "\n",
    "- J'essaierai de vous donner souvent des petits conseils méthodologiques et plus génériques que le cours d'informatique."
   ]
  },
  {
   "cell_type": "markdown",
   "metadata": {
    "slideshow": {
     "slide_type": "subslide"
    }
   },
   "source": [
    "### Exemple de *QCM interactif*\n",
    "\n",
    "Est-ce que le langage OCaml sera étudié cette année ?\n",
    "\n",
    "1. Oui ;\n",
    "2. Non ;\n"
   ]
  },
  {
   "cell_type": "markdown",
   "metadata": {
    "slideshow": {
     "slide_type": "fragment"
    }
   },
   "source": [
    "*Réponse* : 1. Oui."
   ]
  },
  {
   "cell_type": "markdown",
   "metadata": {
    "slideshow": {
     "slide_type": "subslide"
    }
   },
   "source": [
    "### Exemple de *QCM interactif* (2/2)\n",
    "\n",
    "Est-ce que la logique du premier ordre sera étudiée cette année ?\n",
    "\n",
    "1. Oui ;\n",
    "2. Non ;\n"
   ]
  },
  {
   "cell_type": "markdown",
   "metadata": {
    "slideshow": {
     "slide_type": "fragment"
    }
   },
   "source": [
    "*Réponse* : 2. Non."
   ]
  },
  {
   "cell_type": "markdown",
   "metadata": {
    "slideshow": {
     "slide_type": "slide"
    }
   },
   "source": [
    "## Nous allons programmer ensemble, souvent"
   ]
  },
  {
   "cell_type": "markdown",
   "metadata": {
    "slideshow": {
     "slide_type": "subslide"
    }
   },
   "source": [
    "### En dehors du cours d'informatique, en Python\n",
    "\n",
    "- Un langage que vous avez normalement déjà croisé au lycée, au moins en cours de maths ;\n",
    "- Nous verrons des fois des liens entre Python et d'autres langages, et certains algorithmes seront des fois montrés en Python par comparaison ;\n",
    "- Aucune évaluation sur du Python en cours d'info en MP2I, ce sera fait en maths, physique et SI."
   ]
  },
  {
   "cell_type": "code",
   "execution_count": 3,
   "metadata": {
    "ExecuteTime": {
     "end_time": "2021-08-04T15:30:00.486037Z",
     "start_time": "2021-08-04T15:30:00.482655Z"
    },
    "slideshow": {
     "slide_type": "fragment"
    }
   },
   "outputs": [
    {
     "name": "stdout",
     "output_type": "stream",
     "text": [
      "Ceci est du code Python, interprété ici\n"
     ]
    }
   ],
   "source": [
    "print(\"Ceci est du code Python, interprété ici\")"
   ]
  },
  {
   "cell_type": "code",
   "execution_count": 4,
   "metadata": {
    "ExecuteTime": {
     "end_time": "2021-08-04T15:30:07.887366Z",
     "start_time": "2021-08-04T15:30:00.925556Z"
    },
    "slideshow": {
     "slide_type": "fragment"
    }
   },
   "outputs": [
    {
     "name": "stdout",
     "output_type": "stream",
     "text": [
      "876 ns ± 262 ns per loop (mean ± std. dev. of 7 runs, 1000000 loops each)\n"
     ]
    }
   ],
   "source": [
    "%timeit 2**1023"
   ]
  },
  {
   "cell_type": "markdown",
   "metadata": {
    "slideshow": {
     "slide_type": "fragment"
    }
   },
   "source": [
    "Python est un très bon langage pour manipuler des données numériques, faire des graphiques et des calculs facilement, mais il est assez éloigné de la machine (du hardware) donc il se prête moins bien aux considérations sur la gestion de la mémoire (cf. cours et TP en C en novembre)."
   ]
  },
  {
   "cell_type": "markdown",
   "metadata": {
    "slideshow": {
     "slide_type": "subslide"
    }
   },
   "source": [
    "### En cours d'informatique, en OCaml et en C\n",
    "\n",
    "- Deux langages que vous avez probablement jamais croisé jusqu'ici ;\n",
    "- Aucune connaissance a priori ne sera nécessaire.\n",
    "\n",
    "- Programmation en OCaml : on commence la semaine prochaine ;\n",
    "- Progtrammation en C : je pense commencer après les vacances de la Toussaint."
   ]
  },
  {
   "cell_type": "markdown",
   "metadata": {
    "slideshow": {
     "slide_type": "subslide"
    }
   },
   "source": [
    "### En cours d'informatique, aussi un peu dans d'autres langages\n",
    "\n",
    "- En avril/mai, nous ferons aussi des *bases de données* et donc du **langage SQL**, qui est exigible aux concours ;\n",
    "- Pour se déplacer et manipuler fichiers et dossiers durant les TP, vous utiliserez un peu de **langage Bash**, qui n'est pas exigible aux concours ;\n",
    "- Pour les TP, j'espère vous faire écrire des petits `Makefile`, mais là aussi c'est hors programme."
   ]
  },
  {
   "cell_type": "markdown",
   "metadata": {
    "slideshow": {
     "slide_type": "slide"
    }
   },
   "source": [
    "## Conclusion de cette présentation\n",
    "\n",
    "- Je suis ravi de vous rencontrer !\n",
    "- On va travailler ensemble 5 heures (puis 7h) par semaine, au premier semestre, puis 7h au second ;\n",
    "- On va programmer en OCaml et en C, et écrire quelques lignes de Bash et Makefiles en TP ;\n",
    "\n",
    "Suite ?\n",
    "- Conseils méthodologiques ;\n",
    "- Rapide histoire de l'informatique en 10 personnes et 10 machines."
   ]
  }
 ],
 "metadata": {
  "celltoolbar": "Diaporama",
  "kernelspec": {
   "display_name": "Python 3",
   "language": "python",
   "name": "python3"
  },
  "language_info": {
   "codemirror_mode": {
    "name": "ipython",
    "version": 3
   },
   "file_extension": ".py",
   "mimetype": "text/x-python",
   "name": "python",
   "nbconvert_exporter": "python",
   "pygments_lexer": "ipython3",
   "version": "3.8.10"
  },
  "toc": {
   "base_numbering": 1,
   "nav_menu": {},
   "number_sections": true,
   "sideBar": true,
   "skip_h1_title": false,
   "title_cell": "Table of Contents",
   "title_sidebar": "Contents",
   "toc_cell": false,
   "toc_position": {
    "height": "369.5px",
    "left": "64px",
    "top": "82.3833px",
    "width": "443.55px"
   },
   "toc_section_display": true,
   "toc_window_display": false
  },
  "varInspector": {
   "cols": {
    "lenName": 16,
    "lenType": 16,
    "lenVar": 40
   },
   "kernels_config": {
    "python": {
     "delete_cmd_postfix": "",
     "delete_cmd_prefix": "del ",
     "library": "var_list.py",
     "varRefreshCmd": "print(var_dic_list())"
    },
    "r": {
     "delete_cmd_postfix": ") ",
     "delete_cmd_prefix": "rm(",
     "library": "var_list.r",
     "varRefreshCmd": "cat(var_dic_list()) "
    }
   },
   "types_to_exclude": [
    "module",
    "function",
    "builtin_function_or_method",
    "instance",
    "_Feature"
   ],
   "window_display": false
  }
 },
 "nbformat": 4,
 "nbformat_minor": 4
}
