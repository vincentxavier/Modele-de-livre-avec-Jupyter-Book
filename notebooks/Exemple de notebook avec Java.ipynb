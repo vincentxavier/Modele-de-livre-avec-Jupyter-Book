{
 "cells": [
  {
   "cell_type": "markdown",
   "metadata": {
    "slideshow": {
     "slide_type": "slide"
    }
   },
   "source": [
    "# Exemple de notebook avec Java"
   ]
  },
  {
   "cell_type": "markdown",
   "metadata": {},
   "source": [
    "## Explications\n",
    "\n",
    "Le kernel Java n'est pas installé par défaut avec Jupyter.\n",
    "\n",
    "Il faut installer [IJava](https://github.com/SpencerPark/IJava)."
   ]
  },
  {
   "cell_type": "markdown",
   "metadata": {
    "slideshow": {
     "slide_type": "slide"
    }
   },
   "source": [
    "## Exemples"
   ]
  },
  {
   "cell_type": "markdown",
   "metadata": {
    "slideshow": {
     "slide_type": "subslide"
    }
   },
   "source": [
    "### Un exemple écrit par un de mes anciens élèves\n",
    "\n",
    "Cf. [ce petit challenge arithmético-algorithmique](https://perso.crans.org/besson/notebooks/F%C3%A9vrier%202021%20un%20mini%20challenge%20arithm%C3%A9tico-algorithmique.html)."
   ]
  },
  {
   "cell_type": "code",
   "execution_count": 3,
   "metadata": {
    "ExecuteTime": {
     "end_time": "2021-02-08T22:47+0000",
     "start_time": "2021-02-08T22:47:18.456Z"
    }
   },
   "outputs": [
    {
     "data": {
      "text/plain": [
       "9"
      ]
     },
     "execution_count": 3,
     "metadata": {},
     "output_type": "execute_result"
    }
   ],
   "source": [
    "// ceci est du code Java 9 et pas Python !\n",
    "// On a besoin des dépendances suivantes :\n",
    "import java.util.Calendar;           // pour Calendar.FEBRUARY, .YEAR, .MONDAY\n",
    "import java.util.GregorianCalendar;  // pour \n",
    "import java.util.stream.IntStream;   // pour cet IntStream\n",
    "\n",
    "IntStream.rangeClosed(1994, 2077)\n",
    "         //.parallel()  // ce .parallel() est inutile, il y a trop peu de valeurs\n",
    "         .mapToObj(i -> new GregorianCalendar(i, Calendar.FEBRUARY, 1))\n",
    "         .filter(calendar -> !calendar.isLeapYear(calendar.get(Calendar.YEAR)))\n",
    "         .filter(calendar -> calendar.get(Calendar.DAY_OF_WEEK) == Calendar.MONDAY)\n",
    "         .count();"
   ]
  },
  {
   "cell_type": "markdown",
   "metadata": {
    "slideshow": {
     "slide_type": "subslide"
    }
   },
   "source": [
    "### D'autres exemples ?\n",
    "\n",
    "TODO: plus tard !\n",
    "\n",
    "TODO prendre quelques cellules de notebooks dans <https://perso.crans.org/besson/teach/INF1_L1_Rennes1_2020-21/>"
   ]
  },
  {
   "cell_type": "markdown",
   "metadata": {
    "slideshow": {
     "slide_type": "slide"
    }
   },
   "source": [
    "## Pour en apprendre plus\n",
    "\n",
    "- Ce WikiBooks : <https://fr.wikibooks.org/wiki/Programmation_Java> (sous licence libre) ;"
   ]
  }
 ],
 "metadata": {
  "celltoolbar": "Diaporama",
  "kernelspec": {
   "display_name": "Java",
   "language": "java",
   "name": "java"
  },
  "language_info": {
   "codemirror_mode": "java",
   "file_extension": ".jshell",
   "mimetype": "text/x-java-source",
   "name": "Java",
   "pygments_lexer": "java",
   "version": "11.0.10+9-Ubuntu-0ubuntu1.18.04"
  },
  "toc": {
   "base_numbering": 1,
   "nav_menu": {},
   "number_sections": true,
   "sideBar": true,
   "skip_h1_title": false,
   "title_cell": "Table of Contents",
   "title_sidebar": "Contents",
   "toc_cell": false,
   "toc_position": {},
   "toc_section_display": true,
   "toc_window_display": true
  },
  "varInspector": {
   "cols": {
    "lenName": 16,
    "lenType": 16,
    "lenVar": 40
   },
   "kernels_config": {
    "python": {
     "delete_cmd_postfix": "",
     "delete_cmd_prefix": "del ",
     "library": "var_list.py",
     "varRefreshCmd": "print(var_dic_list())"
    },
    "r": {
     "delete_cmd_postfix": ") ",
     "delete_cmd_prefix": "rm(",
     "library": "var_list.r",
     "varRefreshCmd": "cat(var_dic_list()) "
    }
   },
   "types_to_exclude": [
    "module",
    "function",
    "builtin_function_or_method",
    "instance",
    "_Feature"
   ],
   "window_display": false
  }
 },
 "nbformat": 4,
 "nbformat_minor": 5
}
