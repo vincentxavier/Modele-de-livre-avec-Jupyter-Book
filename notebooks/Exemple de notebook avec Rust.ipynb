{
 "cells": [
  {
   "cell_type": "markdown",
   "id": "bacterial-gates",
   "metadata": {},
   "source": [
    "# Exemple de notebook avec Rust"
   ]
  },
  {
   "cell_type": "markdown",
   "id": "unauthorized-fitness",
   "metadata": {},
   "source": [
    "## Explications\n",
    "\n",
    "Le kernel Rust n'est pas installé par défaut avec Jupyter.\n",
    "\n",
    "Il faut installer [evcxr](https://github.com/google/evcxr/blob/master/evcxr_jupyter/README.md#installation) et le kernel evcxr_jupyter."
   ]
  },
  {
   "cell_type": "markdown",
   "id": "satisfactory-essex",
   "metadata": {},
   "source": [
    "## Exemples"
   ]
  },
  {
   "cell_type": "markdown",
   "id": "dress-column",
   "metadata": {},
   "source": [
    "### Un exemple écrit par un de mes anciens élèves\n",
    "\n",
    "Cf. [ce petit challenge arithmético-algorithmique](https://perso.crans.org/besson/notebooks/F%C3%A9vrier%202021%20un%20mini%20challenge%20arithm%C3%A9tico-algorithmique.html)."
   ]
  },
  {
   "cell_type": "code",
   "execution_count": 3,
   "id": "authentic-lotus",
   "metadata": {
    "ExecuteTime": {
     "end_time": "2021-02-08T22:40:40.231412874+00:00",
     "start_time": "2021-02-08T22:40:19.857Z"
    }
   },
   "outputs": [],
   "source": [
    ":dep chrono = \"0.4\"\n",
    "use chrono::TimeZone;\n",
    "use chrono::Datelike;\n",
    "\n",
    "fn main() {\n",
    "    let n = (1994..=2077)\n",
    "        .filter(|n| chrono::Utc.ymd_opt(*n, 2, 29) == chrono::LocalResult::None)\n",
    "        .map(|n| chrono::Utc.ymd(n, 2, 1))\n",
    "        .filter(|t| t.weekday() == chrono::Weekday::Mon)\n",
    "        .count();\n",
    "        \n",
    "    println!(\"{}\", n);\n",
    "}"
   ]
  },
  {
   "cell_type": "code",
   "execution_count": 6,
   "id": "grand-penguin",
   "metadata": {
    "ExecuteTime": {
     "end_time": "2021-02-08T22:40:49.307040979+00:00",
     "start_time": "2021-02-08T22:40:48.489Z"
    }
   },
   "outputs": [
    {
     "name": "stdout",
     "output_type": "stream",
     "text": [
      "9\n"
     ]
    },
    {
     "data": {
      "text/plain": [
       "()"
      ]
     },
     "execution_count": 6,
     "metadata": {},
     "output_type": "execute_result"
    }
   ],
   "source": [
    "main()"
   ]
  },
  {
   "cell_type": "markdown",
   "id": "matched-george",
   "metadata": {},
   "source": [
    "### D'autres exemples ?\n",
    "\n",
    "TODO: plus tard !\n",
    "\n",
    "```{warning}\n",
    "Je ne suis pas encore très expérimenté en Rust.\n",
    "```"
   ]
  },
  {
   "cell_type": "markdown",
   "id": "strange-archive",
   "metadata": {},
   "source": [
    "## Pour en apprendre plus\n",
    "\n",
    "- Ce petit tutoriel pour installer Rust : https://rustup.rs/ ;\n",
    "- https://fasterthanli.me/articles/a-half-hour-to-learn-rust ;\n",
    "- Ce livre : https://doc.rust-lang.org/stable/book/"
   ]
  }
 ],
 "metadata": {
  "kernelspec": {
   "display_name": "Rust",
   "language": "rust",
   "name": "rust"
  },
  "language_info": {
   "codemirror_mode": "rust",
   "file_extension": ".rs",
   "mimetype": "text/rust",
   "name": "Rust",
   "pygment_lexer": "rust",
   "version": ""
  },
  "toc": {
   "base_numbering": 1,
   "nav_menu": {},
   "number_sections": true,
   "sideBar": true,
   "skip_h1_title": false,
   "title_cell": "Table of Contents",
   "title_sidebar": "Contents",
   "toc_cell": true,
   "toc_position": {},
   "toc_section_display": true,
   "toc_window_display": true
  },
  "varInspector": {
   "cols": {
    "lenName": 16,
    "lenType": 16,
    "lenVar": 40
   },
   "kernels_config": {
    "python": {
     "delete_cmd_postfix": "",
     "delete_cmd_prefix": "del ",
     "library": "var_list.py",
     "varRefreshCmd": "print(var_dic_list())"
    },
    "r": {
     "delete_cmd_postfix": ") ",
     "delete_cmd_prefix": "rm(",
     "library": "var_list.r",
     "varRefreshCmd": "cat(var_dic_list()) "
    }
   },
   "types_to_exclude": [
    "module",
    "function",
    "builtin_function_or_method",
    "instance",
    "_Feature"
   ],
   "window_display": false
  }
 },
 "nbformat": 4,
 "nbformat_minor": 5
}