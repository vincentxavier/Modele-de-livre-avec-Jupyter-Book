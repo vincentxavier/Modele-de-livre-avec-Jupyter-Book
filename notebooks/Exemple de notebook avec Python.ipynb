{
 "cells": [
  {
   "cell_type": "markdown",
   "metadata": {
    "slideshow": {
     "slide_type": "slide"
    }
   },
   "source": [
    "# Exemple de notebook avec Python"
   ]
  },
  {
   "cell_type": "markdown",
   "metadata": {},
   "source": [
    "## Explications\n",
    "\n",
    "Le kernel Python est installé par défaut avec Jupyter."
   ]
  },
  {
   "cell_type": "markdown",
   "metadata": {
    "slideshow": {
     "slide_type": "slide"
    }
   },
   "source": [
    "## Exemples"
   ]
  },
  {
   "cell_type": "code",
   "execution_count": 1,
   "metadata": {
    "ExecuteTime": {
     "end_time": "2021-02-08T22:13:46.708268Z",
     "start_time": "2021-02-08T22:13:46.694707Z"
    }
   },
   "outputs": [
    {
     "name": "stdout",
     "output_type": "stream",
     "text": [
      "Ceci est du code Python\n"
     ]
    }
   ],
   "source": [
    "print(\"Ceci est du code Python\")"
   ]
  },
  {
   "cell_type": "code",
   "execution_count": 3,
   "metadata": {
    "ExecuteTime": {
     "end_time": "2021-02-08T22:15:38.279697Z",
     "start_time": "2021-02-08T22:15:38.270718Z"
    }
   },
   "outputs": [
    {
     "name": "stdout",
     "output_type": "stream",
     "text": [
      "3.6.9 (default, Oct  8 2020, 12:12:24) \n",
      "[GCC 8.4.0]\n"
     ]
    }
   ],
   "source": [
    "import sys\n",
    "print(sys.version)"
   ]
  },
  {
   "cell_type": "markdown",
   "metadata": {
    "slideshow": {
     "slide_type": "slide"
    }
   },
   "source": [
    "### Fonction factorielle\n",
    "\n",
    "Pour calculer la fonction $n! := 1 \\times 2 \\times \\dots \\times n$ ($n\\in\\mathbb{N}$), on peut penser à une solution récursive (qui coutera en espace mémoire à cause de la pile d'appel) et une solution impérative."
   ]
  },
  {
   "cell_type": "code",
   "execution_count": 11,
   "metadata": {},
   "outputs": [],
   "source": [
    "def fact(n: int) -> int:\n",
    "    # note: ces indications de type sont optionnelles, mais appréciées\n",
    "    \"\"\" Factorielle de n, n! = 1 * 2 * .. * n.\"\"\"\n",
    "    if n <= 1:\n",
    "        return 1\n",
    "    else:\n",
    "        return n * fact(n-1)"
   ]
  },
  {
   "cell_type": "markdown",
   "metadata": {
    "slideshow": {
     "slide_type": "subslide"
    }
   },
   "source": [
    "Note : ces commentaires \"docstring\" entre \"\"\" trois guillements\"\"\" sont optionnels mais appécies, car cela donne une documentation à chaque fonction :"
   ]
  },
  {
   "cell_type": "code",
   "execution_count": 14,
   "metadata": {},
   "outputs": [
    {
     "name": "stdout",
     "output_type": "stream",
     "text": [
      "Help on function fact in module __main__:\n",
      "\n",
      "fact(n:int) -> int\n",
      "    Factorielle de n, n! = 1 * 2 * .. * n.\n",
      "\n"
     ]
    }
   ],
   "source": [
    "help(fact)  # depuis une console Python normale"
   ]
  },
  {
   "cell_type": "code",
   "execution_count": 17,
   "metadata": {},
   "outputs": [
    {
     "name": "stdout",
     "output_type": "stream",
     "text": [
      "\u001b[0;31mSignature:\u001b[0m \u001b[0mfact\u001b[0m\u001b[0;34m(\u001b[0m\u001b[0mn\u001b[0m\u001b[0;34m:\u001b[0m\u001b[0mint\u001b[0m\u001b[0;34m)\u001b[0m \u001b[0;34m->\u001b[0m \u001b[0mint\u001b[0m\u001b[0;34m\u001b[0m\u001b[0;34m\u001b[0m\u001b[0m\n",
      "\u001b[0;31mDocstring:\u001b[0m Factorielle de n, n! = 1 * 2 * .. * n.\n",
      "\u001b[0;31mFile:\u001b[0m      ~/publis/Info-Prepas-MP2I/Modele-de-livre-avec-Jupyter-Book.git/notebooks/<ipython-input-11-4665928d2bba>\n",
      "\u001b[0;31mType:\u001b[0m      function\n"
     ]
    }
   ],
   "source": [
    "# depuis IPython ou Jupyter\n",
    "fact?"
   ]
  },
  {
   "cell_type": "markdown",
   "metadata": {
    "slideshow": {
     "slide_type": "subslide"
    }
   },
   "source": [
    "Exemples :"
   ]
  },
  {
   "cell_type": "code",
   "execution_count": 7,
   "metadata": {},
   "outputs": [
    {
     "name": "stdout",
     "output_type": "stream",
     "text": [
      "fact( 1) = 1\n",
      "fact( 2) = 2\n",
      "fact( 3) = 6\n",
      "fact( 4) = 24\n",
      "fact( 5) = 120\n",
      "fact( 6) = 720\n",
      "fact( 7) = 5040\n",
      "fact( 8) = 40320\n",
      "fact( 9) = 362880\n",
      "fact(10) = 3628800\n",
      "fact(11) = 39916800\n",
      "fact(12) = 479001600\n",
      "fact(13) = 6227020800\n",
      "fact(14) = 87178291200\n",
      "fact(15) = 1307674368000\n",
      "fact(16) = 20922789888000\n",
      "fact(17) = 355687428096000\n",
      "fact(18) = 6402373705728000\n",
      "fact(19) = 121645100408832000\n",
      "fact(20) = 2432902008176640000\n",
      "fact(21) = 51090942171709440000\n",
      "fact(22) = 1124000727777607680000\n"
     ]
    }
   ],
   "source": [
    "for i in range(1, 23):\n",
    "    print(f\"fact({i:2}) = {fact(i)}\")"
   ]
  },
  {
   "cell_type": "markdown",
   "metadata": {
    "slideshow": {
     "slide_type": "subslide"
    }
   },
   "source": [
    "Et la solution impérative :"
   ]
  },
  {
   "cell_type": "code",
   "execution_count": 9,
   "metadata": {
    "ExecuteTime": {
     "end_time": "2021-02-14T15:11:30.538396Z",
     "start_time": "2021-02-14T15:11:30.525181Z"
    }
   },
   "outputs": [],
   "source": [
    "def fact_imp(n: int) -> int:\n",
    "    \"\"\" Factorielle de n, n! = 1 * 2 * .. * n.\"\"\"\n",
    "    f: int = 1\n",
    "    for i in range(2, n+1):\n",
    "        f = f * i  # f *= i est aussi possible \n",
    "    return f"
   ]
  },
  {
   "cell_type": "code",
   "execution_count": 10,
   "metadata": {
    "ExecuteTime": {
     "end_time": "2021-02-14T15:11:30.833542Z",
     "start_time": "2021-02-14T15:11:30.826229Z"
    },
    "slideshow": {
     "slide_type": "subslide"
    }
   },
   "outputs": [
    {
     "name": "stdout",
     "output_type": "stream",
     "text": [
      "fact_imp( 1) = 1\n",
      "fact_imp( 2) = 2\n",
      "fact_imp( 3) = 6\n",
      "fact_imp( 4) = 24\n",
      "fact_imp( 5) = 120\n",
      "fact_imp( 6) = 720\n",
      "fact_imp( 7) = 5040\n",
      "fact_imp( 8) = 40320\n",
      "fact_imp( 9) = 362880\n",
      "fact_imp(10) = 3628800\n",
      "fact_imp(11) = 39916800\n",
      "fact_imp(12) = 479001600\n",
      "fact_imp(13) = 6227020800\n",
      "fact_imp(14) = 87178291200\n",
      "fact_imp(15) = 1307674368000\n",
      "fact_imp(16) = 20922789888000\n",
      "fact_imp(17) = 355687428096000\n",
      "fact_imp(18) = 6402373705728000\n",
      "fact_imp(19) = 121645100408832000\n",
      "fact_imp(20) = 2432902008176640000\n",
      "fact_imp(21) = 51090942171709440000\n",
      "fact_imp(22) = 1124000727777607680000\n"
     ]
    }
   ],
   "source": [
    "for i in range(1, 23):\n",
    "    print(f\"fact_imp({i:2}) = {fact_imp(i)}\")"
   ]
  },
  {
   "cell_type": "markdown",
   "metadata": {
    "slideshow": {
     "slide_type": "slide"
    }
   },
   "source": [
    "### Figures avec TikZ\n",
    "\n",
    "Voir <https://github.com/jbn/itikz>"
   ]
  },
  {
   "cell_type": "code",
   "execution_count": 7,
   "metadata": {
    "ExecuteTime": {
     "end_time": "2021-02-14T16:27:18.513320Z",
     "start_time": "2021-02-14T16:27:18.503625Z"
    }
   },
   "outputs": [
    {
     "name": "stdout",
     "output_type": "stream",
     "text": [
      "The itikz extension is already loaded. To reload it, use:\n",
      "  %reload_ext itikz\n"
     ]
    }
   ],
   "source": [
    "%load_ext itikz"
   ]
  },
  {
   "cell_type": "code",
   "execution_count": 8,
   "metadata": {
    "ExecuteTime": {
     "end_time": "2021-02-14T16:27:18.898403Z",
     "start_time": "2021-02-14T16:27:18.884529Z"
    },
    "slideshow": {
     "slide_type": "subslide"
    }
   },
   "outputs": [
    {
     "data": {
      "image/svg+xml": [
       "<svg height=\"141.931pt\" version=\"1.1\" viewBox=\"0 0 141.931 141.931\" width=\"141.931pt\" xmlns=\"http://www.w3.org/2000/svg\" xmlns:xlink=\"http://www.w3.org/1999/xlink\">\n",
       "<defs>\n",
       "<clipPath id=\"clip1\">\n",
       "  <path d=\"M 0 0 L 141.929688 0 L 141.929688 141.929688 L 0 141.929688 Z M 0 0 \"/>\n",
       "</clipPath>\n",
       "</defs>\n",
       "<g id=\"surface1\">\n",
       "<g clip-path=\"url(#clip1)\" clip-rule=\"nonzero\">\n",
       "<path d=\"M 0.0015625 -0.00103125 L 141.735938 -0.00103125 M 0.0015625 28.346625 L 141.735938 28.346625 M 0.0015625 56.694281 L 141.735938 56.694281 M 0.0015625 85.041938 L 141.735938 85.041938 M 0.0015625 113.385688 L 141.735938 113.385688 M 0.0015625 141.725531 L 141.735938 141.725531 M 0.0015625 -0.00103125 L 0.0015625 141.733344 M 28.345312 -0.00103125 L 28.345312 141.733344 M 56.692969 -0.00103125 L 56.692969 141.733344 M 85.040625 -0.00103125 L 85.040625 141.733344 M 113.388281 -0.00103125 L 113.388281 141.733344 M 141.724219 -0.00103125 L 141.724219 141.733344 \" style=\"fill:none;stroke-width:0.19925;stroke-linecap:butt;stroke-linejoin:miter;stroke:rgb(50%,50%,50%);stroke-opacity:1;stroke-miterlimit:10;\" transform=\"matrix(1,0,0,-1,0.1,141.831)\"/>\n",
       "</g>\n",
       "<path d=\"M 28.345312 28.346625 L 28.345312 56.694281 L 56.692969 56.694281 L 56.692969 28.346625 Z M 28.345312 28.346625 \" style=\"fill-rule:nonzero;fill:rgb(50%,50%,50%);fill-opacity:1;stroke-width:0.3985;stroke-linecap:butt;stroke-linejoin:miter;stroke:rgb(0%,0%,0%);stroke-opacity:1;stroke-miterlimit:10;\" transform=\"matrix(1,0,0,-1,0.1,141.831)\"/>\n",
       "<path d=\"M 56.692969 28.346625 L 56.692969 56.694281 L 85.040625 56.694281 L 85.040625 28.346625 Z M 56.692969 28.346625 \" style=\"fill-rule:nonzero;fill:rgb(50%,50%,50%);fill-opacity:1;stroke-width:0.3985;stroke-linecap:butt;stroke-linejoin:miter;stroke:rgb(0%,0%,0%);stroke-opacity:1;stroke-miterlimit:10;\" transform=\"matrix(1,0,0,-1,0.1,141.831)\"/>\n",
       "<path d=\"M 85.040625 28.346625 L 85.040625 56.694281 L 113.388281 56.694281 L 113.388281 28.346625 Z M 85.040625 28.346625 \" style=\"fill-rule:nonzero;fill:rgb(50%,50%,50%);fill-opacity:1;stroke-width:0.3985;stroke-linecap:butt;stroke-linejoin:miter;stroke:rgb(0%,0%,0%);stroke-opacity:1;stroke-miterlimit:10;\" transform=\"matrix(1,0,0,-1,0.1,141.831)\"/>\n",
       "<path d=\"M 85.040625 56.694281 L 85.040625 85.041938 L 113.388281 85.041938 L 113.388281 56.694281 Z M 85.040625 56.694281 \" style=\"fill-rule:nonzero;fill:rgb(50%,50%,50%);fill-opacity:1;stroke-width:0.3985;stroke-linecap:butt;stroke-linejoin:miter;stroke:rgb(0%,0%,0%);stroke-opacity:1;stroke-miterlimit:10;\" transform=\"matrix(1,0,0,-1,0.1,141.831)\"/>\n",
       "<path d=\"M 56.692969 85.041938 L 56.692969 113.385688 L 85.040625 113.385688 L 85.040625 85.041938 Z M 56.692969 85.041938 \" style=\"fill-rule:nonzero;fill:rgb(50%,50%,50%);fill-opacity:1;stroke-width:0.3985;stroke-linecap:butt;stroke-linejoin:miter;stroke:rgb(0%,0%,0%);stroke-opacity:1;stroke-miterlimit:10;\" transform=\"matrix(1,0,0,-1,0.1,141.831)\"/>\n",
       "</g>\n",
       "</svg>"
      ],
      "text/plain": [
       "<IPython.core.display.SVG object>"
      ]
     },
     "execution_count": 8,
     "metadata": {},
     "output_type": "execute_result"
    }
   ],
   "source": [
    "%%itikz --file-prefix tikz-figures-from-Python- --implicit-pic\n",
    "\\draw[help lines] grid (5, 5);\n",
    "\\draw[fill=black!50] (1, 1) rectangle (2, 2);\n",
    "\\draw[fill=black!50] (2, 1) rectangle (3, 2);\n",
    "\\draw[fill=black!50] (3, 1) rectangle (4, 2);\n",
    "\\draw[fill=black!50] (3, 2) rectangle (4, 3);\n",
    "\\draw[fill=black!50] (2, 3) rectangle (3, 4);"
   ]
  },
  {
   "cell_type": "code",
   "execution_count": 9,
   "metadata": {
    "ExecuteTime": {
     "end_time": "2021-02-14T16:27:19.558288Z",
     "start_time": "2021-02-14T16:27:19.251509Z"
    },
    "code_folding": [
     0
    ],
    "slideshow": {
     "slide_type": "subslide"
    }
   },
   "outputs": [
    {
     "data": {
      "image/svg+xml": [
       "<svg height=\"77.821pt\" version=\"1.1\" viewBox=\"0 0 77.821 77.821\" width=\"77.821pt\" xmlns=\"http://www.w3.org/2000/svg\" xmlns:xlink=\"http://www.w3.org/1999/xlink\">\n",
       "<defs>\n",
       "<clipPath id=\"clip1\">\n",
       "  <path d=\"M 68 34 L 77.820312 34 L 77.820312 44 L 68 44 Z M 68 34 \"/>\n",
       "</clipPath>\n",
       "<clipPath id=\"clip2\">\n",
       "  <path d=\"M 62 28 L 77.820312 28 L 77.820312 50 L 62 50 Z M 62 28 \"/>\n",
       "</clipPath>\n",
       "<clipPath id=\"clip3\">\n",
       "  <path d=\"M 45 68 L 55 68 L 55 77.820312 L 45 77.820312 Z M 45 68 \"/>\n",
       "</clipPath>\n",
       "<clipPath id=\"clip4\">\n",
       "  <path d=\"M 39 62 L 61 62 L 61 77.820312 L 39 77.820312 Z M 39 62 \"/>\n",
       "</clipPath>\n",
       "<clipPath id=\"clip5\">\n",
       "  <path d=\"M 22 68 L 33 68 L 33 77.820312 L 22 77.820312 Z M 22 68 \"/>\n",
       "</clipPath>\n",
       "<clipPath id=\"clip6\">\n",
       "  <path d=\"M 17 62 L 38 62 L 38 77.820312 L 17 77.820312 Z M 17 62 \"/>\n",
       "</clipPath>\n",
       "</defs>\n",
       "<g id=\"surface1\">\n",
       "<path d=\"M 4.694469 -0.00015625 C 4.694469 2.593594 2.592906 4.695156 -0.00084375 4.695156 C -2.594594 4.695156 -4.696156 2.593594 -4.696156 -0.00015625 C -4.696156 -2.593906 -2.594594 -4.695469 -0.00084375 -4.695469 C 2.592906 -4.695469 4.694469 -2.593906 4.694469 -0.00015625 Z M 4.694469 -0.00015625 \" style=\"fill:none;stroke-width:0.3985;stroke-linecap:butt;stroke-linejoin:miter;stroke:rgb(0%,0%,0%);stroke-opacity:1;stroke-miterlimit:10;\" transform=\"matrix(1,0,0,-1,38.911,38.91)\"/>\n",
       "<path d=\"M 4.694469 34.015469 C 4.694469 36.609219 2.592906 38.710781 -0.00084375 38.710781 C -2.594594 38.710781 -4.696156 36.609219 -4.696156 34.015469 C -4.696156 31.421719 -2.594594 29.320156 -0.00084375 29.320156 C 2.592906 29.320156 4.694469 31.421719 4.694469 34.015469 Z M 4.694469 34.015469 \" style=\"fill-rule:nonzero;fill:rgb(0%,100%,0%);fill-opacity:1;stroke-width:0.3985;stroke-linecap:butt;stroke-linejoin:miter;stroke:rgb(0%,0%,0%);stroke-opacity:1;stroke-miterlimit:10;\" transform=\"matrix(1,0,0,-1,38.911,38.91)\"/>\n",
       "<path d=\"M 27.374156 22.675625 C 27.374156 25.269375 25.272594 27.374844 22.678844 27.374844 C 20.085094 27.374844 17.979625 25.269375 17.979625 22.675625 C 17.979625 20.081875 20.085094 17.980313 22.678844 17.980313 C 25.272594 17.980313 27.374156 20.081875 27.374156 22.675625 Z M 27.374156 22.675625 \" style=\"fill-rule:nonzero;fill:rgb(0%,100%,0%);fill-opacity:1;stroke-width:0.3985;stroke-linecap:butt;stroke-linejoin:miter;stroke:rgb(0%,0%,0%);stroke-opacity:1;stroke-miterlimit:10;\" transform=\"matrix(1,0,0,-1,38.911,38.91)\"/>\n",
       "<g clip-path=\"url(#clip1)\" clip-rule=\"nonzero\">\n",
       "<path d=\"M 77.621094 38.910156 C 77.621094 36.316406 75.519531 34.214844 72.925781 34.214844 C 70.332031 34.214844 68.230469 36.316406 68.230469 38.910156 C 68.230469 41.503906 70.332031 43.605469 72.925781 43.605469 C 75.519531 43.605469 77.621094 41.503906 77.621094 38.910156 Z M 77.621094 38.910156 \" style=\" stroke:none;fill-rule:nonzero;fill:rgb(0%,100%,0%);fill-opacity:1;\"/>\n",
       "</g>\n",
       "<g clip-path=\"url(#clip2)\" clip-rule=\"nonzero\">\n",
       "<path d=\"M 38.710094 -0.00015625 C 38.710094 2.593594 36.608531 4.695156 34.014781 4.695156 C 31.421031 4.695156 29.319469 2.593594 29.319469 -0.00015625 C 29.319469 -2.593906 31.421031 -4.695469 34.014781 -4.695469 C 36.608531 -4.695469 38.710094 -2.593906 38.710094 -0.00015625 Z M 38.710094 -0.00015625 \" style=\"fill:none;stroke-width:0.3985;stroke-linecap:butt;stroke-linejoin:miter;stroke:rgb(0%,0%,0%);stroke-opacity:1;stroke-miterlimit:10;\" transform=\"matrix(1,0,0,-1,38.911,38.91)\"/>\n",
       "</g>\n",
       "<path d=\"M 27.374156 -22.675937 C 27.374156 -20.082187 25.272594 -17.980625 22.678844 -17.980625 C 20.085094 -17.980625 17.979625 -20.082187 17.979625 -22.675937 C 17.979625 -25.269687 20.085094 -27.375156 22.678844 -27.375156 C 25.272594 -27.375156 27.374156 -25.269687 27.374156 -22.675937 Z M 27.374156 -22.675937 \" style=\"fill-rule:nonzero;fill:rgb(0%,100%,0%);fill-opacity:1;stroke-width:0.3985;stroke-linecap:butt;stroke-linejoin:miter;stroke:rgb(0%,0%,0%);stroke-opacity:1;stroke-miterlimit:10;\" transform=\"matrix(1,0,0,-1,38.911,38.91)\"/>\n",
       "<g clip-path=\"url(#clip3)\" clip-rule=\"nonzero\">\n",
       "<path d=\"M 54.945312 72.925781 C 54.945312 70.332031 52.84375 68.230469 50.25 68.230469 C 47.65625 68.230469 45.554688 70.332031 45.554688 72.925781 C 45.554688 75.519531 47.65625 77.621094 50.25 77.621094 C 52.84375 77.621094 54.945312 75.519531 54.945312 72.925781 Z M 54.945312 72.925781 \" style=\" stroke:none;fill-rule:nonzero;fill:rgb(0%,100%,0%);fill-opacity:1;\"/>\n",
       "</g>\n",
       "<g clip-path=\"url(#clip4)\" clip-rule=\"nonzero\">\n",
       "<path d=\"M 16.034313 -34.015781 C 16.034313 -31.422031 13.93275 -29.320469 11.339 -29.320469 C 8.74525 -29.320469 6.643688 -31.422031 6.643688 -34.015781 C 6.643688 -36.609531 8.74525 -38.711094 11.339 -38.711094 C 13.93275 -38.711094 16.034313 -36.609531 16.034313 -34.015781 Z M 16.034313 -34.015781 \" style=\"fill:none;stroke-width:0.3985;stroke-linecap:butt;stroke-linejoin:miter;stroke:rgb(0%,0%,0%);stroke-opacity:1;stroke-miterlimit:10;\" transform=\"matrix(1,0,0,-1,38.911,38.91)\"/>\n",
       "</g>\n",
       "<g clip-path=\"url(#clip5)\" clip-rule=\"nonzero\">\n",
       "<path d=\"M 32.269531 72.925781 C 32.269531 70.332031 30.167969 68.230469 27.574219 68.230469 C 24.980469 68.230469 22.875 70.332031 22.875 72.925781 C 22.875 75.519531 24.980469 77.621094 27.574219 77.621094 C 30.167969 77.621094 32.269531 75.519531 32.269531 72.925781 Z M 32.269531 72.925781 \" style=\" stroke:none;fill-rule:nonzero;fill:rgb(0%,100%,0%);fill-opacity:1;\"/>\n",
       "</g>\n",
       "<g clip-path=\"url(#clip6)\" clip-rule=\"nonzero\">\n",
       "<path d=\"M -6.641469 -34.015781 C -6.641469 -31.422031 -8.743031 -29.320469 -11.336781 -29.320469 C -13.930531 -29.320469 -16.036 -31.422031 -16.036 -34.015781 C -16.036 -36.609531 -13.930531 -38.711094 -11.336781 -38.711094 C -8.743031 -38.711094 -6.641469 -36.609531 -6.641469 -34.015781 Z M -6.641469 -34.015781 \" style=\"fill:none;stroke-width:0.3985;stroke-linecap:butt;stroke-linejoin:miter;stroke:rgb(0%,0%,0%);stroke-opacity:1;stroke-miterlimit:10;\" transform=\"matrix(1,0,0,-1,38.911,38.91)\"/>\n",
       "</g>\n",
       "<path d=\"M -17.981312 -22.675937 C -17.981312 -20.082187 -20.082875 -17.980625 -22.676625 -17.980625 C -25.270375 -17.980625 -27.371937 -20.082187 -27.371937 -22.675937 C -27.371937 -25.269687 -25.270375 -27.375156 -22.676625 -27.375156 C -20.082875 -27.375156 -17.981312 -25.269687 -17.981312 -22.675937 Z M -17.981312 -22.675937 \" style=\"fill-rule:nonzero;fill:rgb(0%,100%,0%);fill-opacity:1;stroke-width:0.3985;stroke-linecap:butt;stroke-linejoin:miter;stroke:rgb(0%,0%,0%);stroke-opacity:1;stroke-miterlimit:10;\" transform=\"matrix(1,0,0,-1,38.911,38.91)\"/>\n",
       "<path d=\"M -29.321156 -0.00015625 C -29.321156 2.593594 -31.422719 4.695156 -34.016469 4.695156 C -36.610219 4.695156 -38.711781 2.593594 -38.711781 -0.00015625 C -38.711781 -2.593906 -36.610219 -4.695469 -34.016469 -4.695469 C -31.422719 -4.695469 -29.321156 -2.593906 -29.321156 -0.00015625 Z M -29.321156 -0.00015625 \" style=\"fill-rule:nonzero;fill:rgb(0%,100%,0%);fill-opacity:1;stroke-width:0.3985;stroke-linecap:butt;stroke-linejoin:miter;stroke:rgb(0%,0%,0%);stroke-opacity:1;stroke-miterlimit:10;\" transform=\"matrix(1,0,0,-1,38.911,38.91)\"/>\n",
       "<path d=\"M -17.981312 22.675625 C -17.981312 25.269375 -20.082875 27.374844 -22.676625 27.374844 C -25.270375 27.374844 -27.371937 25.269375 -27.371937 22.675625 C -27.371937 20.081875 -25.270375 17.980313 -22.676625 17.980313 C -20.082875 17.980313 -17.981312 20.081875 -17.981312 22.675625 Z M -17.981312 22.675625 \" style=\"fill-rule:nonzero;fill:rgb(0%,100%,0%);fill-opacity:1;stroke-width:0.3985;stroke-linecap:butt;stroke-linejoin:miter;stroke:rgb(0%,0%,0%);stroke-opacity:1;stroke-miterlimit:10;\" transform=\"matrix(1,0,0,-1,38.911,38.91)\"/>\n",
       "<path d=\"M -19.215687 19.214688 L -3.461781 3.460781 \" style=\"fill:none;stroke-width:0.3985;stroke-linecap:butt;stroke-linejoin:miter;stroke:rgb(0%,0%,0%);stroke-opacity:1;stroke-miterlimit:10;\" transform=\"matrix(1,0,0,-1,38.911,38.91)\"/>\n",
       "<path d=\"M -0.00084375 29.120938 L -0.00084375 4.894375 \" style=\"fill:none;stroke-width:0.3985;stroke-linecap:butt;stroke-linejoin:miter;stroke:rgb(0%,0%,0%);stroke-opacity:1;stroke-miterlimit:10;\" transform=\"matrix(1,0,0,-1,38.911,38.91)\"/>\n",
       "<path d=\"M 19.214 19.214688 L 3.464 3.460781 \" style=\"fill:none;stroke-width:0.3985;stroke-linecap:butt;stroke-linejoin:miter;stroke:rgb(0%,0%,0%);stroke-opacity:1;stroke-miterlimit:10;\" transform=\"matrix(1,0,0,-1,38.911,38.91)\"/>\n",
       "<path d=\"M 19.214 -19.215 L 3.464 -3.461094 \" style=\"fill:none;stroke-width:0.3985;stroke-linecap:butt;stroke-linejoin:miter;stroke:rgb(0%,0%,0%);stroke-opacity:1;stroke-miterlimit:10;\" transform=\"matrix(1,0,0,-1,38.911,38.91)\"/>\n",
       "<path d=\"M 9.788219 -29.367344 L 1.549938 -4.648594 \" style=\"fill:none;stroke-width:0.3985;stroke-linecap:butt;stroke-linejoin:miter;stroke:rgb(0%,0%,0%);stroke-opacity:1;stroke-miterlimit:10;\" transform=\"matrix(1,0,0,-1,38.911,38.91)\"/>\n",
       "<path d=\"M -9.789906 -29.367344 L -1.551625 -4.648594 \" style=\"fill:none;stroke-width:0.3985;stroke-linecap:butt;stroke-linejoin:miter;stroke:rgb(0%,0%,0%);stroke-opacity:1;stroke-miterlimit:10;\" transform=\"matrix(1,0,0,-1,38.911,38.91)\"/>\n",
       "<path d=\"M -19.215687 -19.215 L -3.461781 -3.461094 \" style=\"fill:none;stroke-width:0.3985;stroke-linecap:butt;stroke-linejoin:miter;stroke:rgb(0%,0%,0%);stroke-opacity:1;stroke-miterlimit:10;\" transform=\"matrix(1,0,0,-1,38.911,38.91)\"/>\n",
       "<path d=\"M -4.895375 -0.00015625 L -29.121937 -0.00015625 \" style=\"fill:none;stroke-width:0.3985;stroke-linecap:butt;stroke-linejoin:miter;stroke:rgb(0%,0%,0%);stroke-opacity:1;stroke-miterlimit:10;\" transform=\"matrix(1,0,0,-1,38.911,38.91)\"/>\n",
       "<path d=\"M 4.897594 -0.00015625 L 29.12025 -0.00015625 \" style=\"fill:none;stroke-width:0.3985;stroke-linecap:butt;stroke-linejoin:miter;stroke:rgb(0%,0%,0%);stroke-opacity:1;stroke-miterlimit:10;\" transform=\"matrix(1,0,0,-1,38.911,38.91)\"/>\n",
       "</g>\n",
       "</svg>"
      ],
      "text/plain": [
       "<IPython.core.display.SVG object>"
      ]
     },
     "execution_count": 9,
     "metadata": {},
     "output_type": "execute_result"
    }
   ],
   "source": [
    "%%itikz --file-prefix tikz-figures-from-Python-  --implicit-pic --scale=0.4\n",
    "\\tikzstyle{vertexcover} = [circle,fill=green,draw];\n",
    "\\tikzstyle{matching} = [ draw=blue!55, line width=5];\n",
    "\\tikzstyle{matchingN} = [ draw=green!55, line width=5];\n",
    "\\tikzstyle{vertex} = [circle,fill=none,draw];\n",
    "\\node[vertex] (v2) at (0,0) {};\n",
    "\\node[vertexcover] (v3) at (0,3) {};\n",
    "\\node[vertexcover] (v4) at (2,2) {};\n",
    "\\node[vertexcover] (v11) at (3,0) {};\n",
    "\\node[vertexcover] (v5) at (2,-2) {};\n",
    "\\node[vertexcover] (v6) at (1,-3) {};\n",
    "\\node[vertexcover] (v8) at (-1,-3) {};\n",
    "\\node[vertexcover] (v9) at (-2,-2) {};\n",
    "\\node[vertexcover] (v10) at (-3,0) {};\n",
    "\\node[vertexcover] (v1) at (-2,2) {};\n",
    "\\draw  (v1) edge (v2);\n",
    "\\draw  (v3) edge (v2);\n",
    "\\draw  (v4) edge (v2);\n",
    "\\draw  (v5) edge (v2);\n",
    "\\draw  (v6) edge (v2);\n",
    "\\draw  (v8) edge (v2);\n",
    "\\draw  (v9) edge (v2);\n",
    "\\draw  (v2) edge (v10);\n",
    "\\draw  (v2) edge (v11);"
   ]
  },
  {
   "cell_type": "code",
   "execution_count": 10,
   "metadata": {
    "ExecuteTime": {
     "end_time": "2021-02-14T16:27:27.942595Z",
     "start_time": "2021-02-14T16:27:27.826853Z"
    }
   },
   "outputs": [
    {
     "name": "stdout",
     "output_type": "stream",
     "text": [
      "tikz-figures-from-Python-b7c37e91289ef17e6c34e0d00645dabd.svg\r\n",
      "tikz-figures-from-Python-b7c37e91289ef17e6c34e0d00645dabd.tex\r\n",
      "tikz-figures-from-Python-c33720202396643581aed22f595383d4.svg\r\n",
      "tikz-figures-from-Python-c33720202396643581aed22f595383d4.tex\r\n"
     ]
    }
   ],
   "source": [
    "!ls tikz-figures-from-Python-*"
   ]
  },
  {
   "cell_type": "markdown",
   "metadata": {
    "slideshow": {
     "slide_type": "slide"
    }
   },
   "source": [
    "### D'autres exemples ?\n",
    "\n",
    "TODO: plus tard !"
   ]
  },
  {
   "cell_type": "markdown",
   "metadata": {
    "slideshow": {
     "slide_type": "skip"
    }
   },
   "source": [
    "Cellule invisible en mode slides RISE (type de diapo : sauter)."
   ]
  },
  {
   "cell_type": "markdown",
   "metadata": {
    "slideshow": {
     "slide_type": "slide"
    }
   },
   "source": [
    "## Pour en apprendre plus\n",
    "\n",
    "- Ce petit tutoriel : <https://perso.crans.org/besson/apprendre-python.fr.html> (sous licence GPLv3) ;\n",
    "- Ce WikiBooks : <https://fr.wikibooks.org/wiki/Programmation_Python> (sous licence libre) ;\n",
    "- Ces deux livres de Python au niveau lycée : <https://github.com/exo7math/python1-exo7> et <https://github.com/exo7math/python2-exo7> (sous licence Creative Commons)."
   ]
  }
 ],
 "metadata": {
  "celltoolbar": "Diaporama",
  "kernelspec": {
   "display_name": "Python 3",
   "language": "python",
   "name": "python3"
  },
  "language_info": {
   "codemirror_mode": {
    "name": "ipython",
    "version": 3
   },
   "file_extension": ".py",
   "mimetype": "text/x-python",
   "name": "python",
   "nbconvert_exporter": "python",
   "pygments_lexer": "ipython3",
   "version": "3.6.9"
  },
  "toc": {
   "base_numbering": 1,
   "nav_menu": {},
   "number_sections": true,
   "sideBar": true,
   "skip_h1_title": false,
   "title_cell": "Table of Contents",
   "title_sidebar": "Contents",
   "toc_cell": false,
   "toc_position": {
    "height": "calc(100% - 180px)",
    "left": "10px",
    "top": "150px",
    "width": "280.95px"
   },
   "toc_section_display": true,
   "toc_window_display": false
  },
  "varInspector": {
   "cols": {
    "lenName": 16,
    "lenType": 16,
    "lenVar": 40
   },
   "kernels_config": {
    "python": {
     "delete_cmd_postfix": "",
     "delete_cmd_prefix": "del ",
     "library": "var_list.py",
     "varRefreshCmd": "print(var_dic_list())"
    },
    "r": {
     "delete_cmd_postfix": ") ",
     "delete_cmd_prefix": "rm(",
     "library": "var_list.r",
     "varRefreshCmd": "cat(var_dic_list()) "
    }
   },
   "types_to_exclude": [
    "module",
    "function",
    "builtin_function_or_method",
    "instance",
    "_Feature"
   ],
   "window_display": false
  }
 },
 "nbformat": 4,
 "nbformat_minor": 5
}
