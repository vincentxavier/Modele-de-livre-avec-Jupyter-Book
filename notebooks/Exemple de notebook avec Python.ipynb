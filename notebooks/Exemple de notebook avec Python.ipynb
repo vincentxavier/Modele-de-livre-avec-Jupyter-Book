{
 "cells": [
  {
   "cell_type": "markdown",
   "metadata": {
    "slideshow": {
     "slide_type": "slide"
    }
   },
   "source": [
    "# Exemple de notebook avec Python"
   ]
  },
  {
   "cell_type": "markdown",
   "metadata": {},
   "source": [
    "## Explications\n",
    "\n",
    "Le kernel Python est installé par défaut avec Jupyter."
   ]
  },
  {
   "cell_type": "markdown",
   "metadata": {
    "slideshow": {
     "slide_type": "slide"
    }
   },
   "source": [
    "## Exemples"
   ]
  },
  {
   "cell_type": "code",
   "execution_count": 1,
   "metadata": {
    "ExecuteTime": {
     "end_time": "2021-02-08T22:13:46.708268Z",
     "start_time": "2021-02-08T22:13:46.694707Z"
    }
   },
   "outputs": [
    {
     "name": "stdout",
     "output_type": "stream",
     "text": [
      "Ceci est du code Python\n"
     ]
    }
   ],
   "source": [
    "print(\"Ceci est du code Python\")"
   ]
  },
  {
   "cell_type": "code",
   "execution_count": 3,
   "metadata": {
    "ExecuteTime": {
     "end_time": "2021-02-08T22:15:38.279697Z",
     "start_time": "2021-02-08T22:15:38.270718Z"
    }
   },
   "outputs": [
    {
     "name": "stdout",
     "output_type": "stream",
     "text": [
      "3.6.9 (default, Oct  8 2020, 12:12:24) \n",
      "[GCC 8.4.0]\n"
     ]
    }
   ],
   "source": [
    "import sys\n",
    "print(sys.version)"
   ]
  },
  {
   "cell_type": "markdown",
   "metadata": {
    "slideshow": {
     "slide_type": "slide"
    }
   },
   "source": [
    "### Fonction factorielle\n",
    "\n",
    "Pour calculer la fonction $n! := 1 \\times 2 \\times \\dots \\times n$ ($n\\in\\mathbb{N}$), on peut penser à une solution récursive (qui coutera en espace mémoire à cause de la pile d'appel) et une solution impérative."
   ]
  },
  {
   "cell_type": "code",
   "execution_count": 11,
   "metadata": {},
   "outputs": [],
   "source": [
    "def fact(n: int) -> int:\n",
    "    # note: ces indications de type sont optionnelles, mais appréciées\n",
    "    \"\"\" Factorielle de n, n! = 1 * 2 * .. * n.\"\"\"\n",
    "    if n <= 1:\n",
    "        return 1\n",
    "    else:\n",
    "        return n * fact(n-1)"
   ]
  },
  {
   "cell_type": "markdown",
   "metadata": {
    "slideshow": {
     "slide_type": "subslide"
    }
   },
   "source": [
    "Note : ces commentaires \"docstring\" entre \"\"\" trois guillements\"\"\" sont optionnels mais appécies, car cela donne une documentation à chaque fonction :"
   ]
  },
  {
   "cell_type": "code",
   "execution_count": 14,
   "metadata": {},
   "outputs": [
    {
     "name": "stdout",
     "output_type": "stream",
     "text": [
      "Help on function fact in module __main__:\n",
      "\n",
      "fact(n:int) -> int\n",
      "    Factorielle de n, n! = 1 * 2 * .. * n.\n",
      "\n"
     ]
    }
   ],
   "source": [
    "help(fact)  # depuis une console Python normale"
   ]
  },
  {
   "cell_type": "code",
   "execution_count": 17,
   "metadata": {},
   "outputs": [
    {
     "name": "stdout",
     "output_type": "stream",
     "text": [
      "\u001b[0;31mSignature:\u001b[0m \u001b[0mfact\u001b[0m\u001b[0;34m(\u001b[0m\u001b[0mn\u001b[0m\u001b[0;34m:\u001b[0m\u001b[0mint\u001b[0m\u001b[0;34m)\u001b[0m \u001b[0;34m->\u001b[0m \u001b[0mint\u001b[0m\u001b[0;34m\u001b[0m\u001b[0;34m\u001b[0m\u001b[0m\n",
      "\u001b[0;31mDocstring:\u001b[0m Factorielle de n, n! = 1 * 2 * .. * n.\n",
      "\u001b[0;31mFile:\u001b[0m      ~/publis/Info-Prepas-MP2I/Modele-de-livre-avec-Jupyter-Book.git/notebooks/<ipython-input-11-4665928d2bba>\n",
      "\u001b[0;31mType:\u001b[0m      function\n"
     ]
    }
   ],
   "source": [
    "# depuis IPython ou Jupyter\n",
    "fact?"
   ]
  },
  {
   "cell_type": "markdown",
   "metadata": {
    "slideshow": {
     "slide_type": "subslide"
    }
   },
   "source": [
    "Exemples :"
   ]
  },
  {
   "cell_type": "code",
   "execution_count": 7,
   "metadata": {},
   "outputs": [
    {
     "name": "stdout",
     "output_type": "stream",
     "text": [
      "fact( 1) = 1\n",
      "fact( 2) = 2\n",
      "fact( 3) = 6\n",
      "fact( 4) = 24\n",
      "fact( 5) = 120\n",
      "fact( 6) = 720\n",
      "fact( 7) = 5040\n",
      "fact( 8) = 40320\n",
      "fact( 9) = 362880\n",
      "fact(10) = 3628800\n",
      "fact(11) = 39916800\n",
      "fact(12) = 479001600\n",
      "fact(13) = 6227020800\n",
      "fact(14) = 87178291200\n",
      "fact(15) = 1307674368000\n",
      "fact(16) = 20922789888000\n",
      "fact(17) = 355687428096000\n",
      "fact(18) = 6402373705728000\n",
      "fact(19) = 121645100408832000\n",
      "fact(20) = 2432902008176640000\n",
      "fact(21) = 51090942171709440000\n",
      "fact(22) = 1124000727777607680000\n"
     ]
    }
   ],
   "source": [
    "for i in range(1, 23):\n",
    "    print(f\"fact({i:2}) = {fact(i)}\")"
   ]
  },
  {
   "cell_type": "markdown",
   "metadata": {
    "slideshow": {
     "slide_type": "subslide"
    }
   },
   "source": [
    "Et la solution impérative :"
   ]
  },
  {
   "cell_type": "code",
   "execution_count": 1,
   "metadata": {
    "ExecuteTime": {
     "end_time": "2021-02-13T02:40:07.815794Z",
     "start_time": "2021-02-13T02:40:07.805328Z"
    }
   },
   "outputs": [],
   "source": [
    "def fact_imp(n: int) -> int:\n",
    "    \"\"\" Factorielle de n, n! = 1 * 2 * .. * n.\"\"\"\n",
    "    f: int = 1\n",
    "    for i in range(2, n+1):\n",
    "        f = f * i  # f *= i est aussi possible \n",
    "    return f"
   ]
  },
  {
   "cell_type": "code",
   "execution_count": 10,
   "metadata": {
    "slideshow": {
     "slide_type": "subslide"
    }
   },
   "outputs": [
    {
     "name": "stdout",
     "output_type": "stream",
     "text": [
      "fact_imp( 1) = 1\n",
      "fact_imp( 2) = 2\n",
      "fact_imp( 3) = 6\n",
      "fact_imp( 4) = 24\n",
      "fact_imp( 5) = 120\n",
      "fact_imp( 6) = 720\n",
      "fact_imp( 7) = 5040\n",
      "fact_imp( 8) = 40320\n",
      "fact_imp( 9) = 362880\n",
      "fact_imp(10) = 3628800\n",
      "fact_imp(11) = 39916800\n",
      "fact_imp(12) = 479001600\n",
      "fact_imp(13) = 6227020800\n",
      "fact_imp(14) = 87178291200\n",
      "fact_imp(15) = 1307674368000\n",
      "fact_imp(16) = 20922789888000\n",
      "fact_imp(17) = 355687428096000\n",
      "fact_imp(18) = 6402373705728000\n",
      "fact_imp(19) = 121645100408832000\n",
      "fact_imp(20) = 2432902008176640000\n",
      "fact_imp(21) = 51090942171709440000\n",
      "fact_imp(22) = 1124000727777607680000\n"
     ]
    }
   ],
   "source": [
    "for i in range(1, 23):\n",
    "    print(f\"fact_imp({i:2}) = {fact_imp(i)}\")"
   ]
  },
  {
   "cell_type": "markdown",
   "metadata": {
    "slideshow": {
     "slide_type": "skip"
    }
   },
   "source": [
    "D'autres exemples ?\n",
    "\n",
    "TODO: plus tard !"
   ]
  },
  {
   "cell_type": "markdown",
   "metadata": {
    "slideshow": {
     "slide_type": "skip"
    }
   },
   "source": [
    "Cellule invisible en mode slides RISE (type de diapo : sauter)."
   ]
  },
  {
   "cell_type": "markdown",
   "metadata": {
    "slideshow": {
     "slide_type": "slide"
    }
   },
   "source": [
    "## Pour en apprendre plus\n",
    "\n",
    "- Ce petit tutoriel : <https://perso.crans.org/besson/apprendre-python.fr.html> (sous licence GPLv3) ;\n",
    "- Ce WikiBooks : <https://fr.wikibooks.org/wiki/Programmation_Python> (sous licence libre) ;\n",
    "- Ces deux livres de Python au niveau lycée : <https://github.com/exo7math/python1-exo7> et <https://github.com/exo7math/python2-exo7> (sous licence Creative Commons)."
   ]
  }
 ],
 "metadata": {
  "celltoolbar": "Diaporama",
  "kernelspec": {
   "display_name": "Python 3",
   "language": "python",
   "name": "python3"
  },
  "language_info": {
   "codemirror_mode": {
    "name": "ipython",
    "version": 3
   },
   "file_extension": ".py",
   "mimetype": "text/x-python",
   "name": "python",
   "nbconvert_exporter": "python",
   "pygments_lexer": "ipython3",
   "version": "3.6.9"
  },
  "toc": {
   "base_numbering": 1,
   "nav_menu": {},
   "number_sections": true,
   "sideBar": true,
   "skip_h1_title": false,
   "title_cell": "Table of Contents",
   "title_sidebar": "Contents",
   "toc_cell": false,
   "toc_position": {
    "height": "calc(100% - 180px)",
    "left": "10px",
    "top": "150px",
    "width": "280.95px"
   },
   "toc_section_display": true,
   "toc_window_display": false
  },
  "varInspector": {
   "cols": {
    "lenName": 16,
    "lenType": 16,
    "lenVar": 40
   },
   "kernels_config": {
    "python": {
     "delete_cmd_postfix": "",
     "delete_cmd_prefix": "del ",
     "library": "var_list.py",
     "varRefreshCmd": "print(var_dic_list())"
    },
    "r": {
     "delete_cmd_postfix": ") ",
     "delete_cmd_prefix": "rm(",
     "library": "var_list.r",
     "varRefreshCmd": "cat(var_dic_list()) "
    }
   },
   "types_to_exclude": [
    "module",
    "function",
    "builtin_function_or_method",
    "instance",
    "_Feature"
   ],
   "window_display": false
  }
 },
 "nbformat": 4,
 "nbformat_minor": 5
}
