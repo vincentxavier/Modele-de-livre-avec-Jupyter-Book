{
 "cells": [
  {
   "cell_type": "markdown",
   "id": "seventh-interference",
   "metadata": {},
   "source": [
    "# Exemple de notebook avec Python"
   ]
  },
  {
   "cell_type": "markdown",
   "id": "prompt-humanitarian",
   "metadata": {},
   "source": [
    "## Explications\n",
    "\n",
    "Le kernel Python est installé par défaut avec Jupyter."
   ]
  },
  {
   "cell_type": "markdown",
   "id": "manual-receipt",
   "metadata": {},
   "source": [
    "## Exemples"
   ]
  },
  {
   "cell_type": "code",
   "execution_count": 1,
   "id": "elegant-compound",
   "metadata": {
    "ExecuteTime": {
     "end_time": "2021-02-08T22:13:46.708268Z",
     "start_time": "2021-02-08T22:13:46.694707Z"
    }
   },
   "outputs": [
    {
     "name": "stdout",
     "output_type": "stream",
     "text": [
      "Ceci est du code Python\n"
     ]
    }
   ],
   "source": [
    "print(\"Ceci est du code Python\")"
   ]
  },
  {
   "cell_type": "code",
   "execution_count": 3,
   "id": "generous-customer",
   "metadata": {
    "ExecuteTime": {
     "end_time": "2021-02-08T22:15:38.279697Z",
     "start_time": "2021-02-08T22:15:38.270718Z"
    }
   },
   "outputs": [
    {
     "name": "stdout",
     "output_type": "stream",
     "text": [
      "3.6.9 (default, Oct  8 2020, 12:12:24) \n",
      "[GCC 8.4.0]\n"
     ]
    }
   ],
   "source": [
    "import sys\n",
    "print(sys.version)"
   ]
  },
  {
   "source": [
    "### Fonction factorielle\n",
    "\n",
    "Pour calculer la fonction $n! := 1 \\times 2 \\times \\dots \\times n$ ($n\\in\\mathbb{N}$), on peut penser à une solution récursive (qui coutera en espace mémoire à cause de la pile d'appel) et une solution impérative."
   ],
   "cell_type": "markdown",
   "metadata": {}
  },
  {
   "cell_type": "code",
   "execution_count": 11,
   "metadata": {},
   "outputs": [],
   "source": [
    "def fact(n: int) -> int:\n",
    "    # note: ces indications de type sont optionnelles, mais appréciées\n",
    "    \"\"\" Factorielle de n, n! = 1 * 2 * .. * n.\"\"\"\n",
    "    if n <= 1:\n",
    "        return 1\n",
    "    else:\n",
    "        return n * fact(n-1)"
   ]
  },
  {
   "source": [
    "Note : ces commentaires \"docstring\" entre \"\"\" trois guillements\"\"\" sont optionnels mais appécies, car cela donne une documentation à chaque fonction :"
   ],
   "cell_type": "markdown",
   "metadata": {}
  },
  {
   "cell_type": "code",
   "execution_count": 14,
   "metadata": {},
   "outputs": [
    {
     "output_type": "stream",
     "name": "stdout",
     "text": [
      "Help on function fact in module __main__:\n\nfact(n:int) -> int\n    Factorielle de n, n! = 1 * 2 * .. * n.\n\n"
     ]
    }
   ],
   "source": [
    "help(fact)  # depuis une console Python normale"
   ]
  },
  {
   "cell_type": "code",
   "execution_count": 17,
   "metadata": {},
   "outputs": [
    {
     "output_type": "stream",
     "text": [
      "\u001b[0;31mSignature:\u001b[0m \u001b[0mfact\u001b[0m\u001b[0;34m(\u001b[0m\u001b[0mn\u001b[0m\u001b[0;34m:\u001b[0m\u001b[0mint\u001b[0m\u001b[0;34m)\u001b[0m \u001b[0;34m->\u001b[0m \u001b[0mint\u001b[0m\u001b[0;34m\u001b[0m\u001b[0;34m\u001b[0m\u001b[0m\n",
      "\u001b[0;31mDocstring:\u001b[0m Factorielle de n, n! = 1 * 2 * .. * n.\n",
      "\u001b[0;31mFile:\u001b[0m      ~/publis/Info-Prepas-MP2I/Modele-de-livre-avec-Jupyter-Book.git/notebooks/<ipython-input-11-4665928d2bba>\n",
      "\u001b[0;31mType:\u001b[0m      function\n"
     ],
     "name": "stdout"
    }
   ],
   "source": [
    "# depuis IPython ou Jupyter\n",
    "fact?"
   ]
  },
  {
   "source": [
    "Exemples :"
   ],
   "cell_type": "markdown",
   "metadata": {}
  },
  {
   "cell_type": "code",
   "execution_count": 7,
   "metadata": {},
   "outputs": [
    {
     "output_type": "stream",
     "name": "stdout",
     "text": [
      "fact( 1) = 1\nfact( 2) = 2\nfact( 3) = 6\nfact( 4) = 24\nfact( 5) = 120\nfact( 6) = 720\nfact( 7) = 5040\nfact( 8) = 40320\nfact( 9) = 362880\nfact(10) = 3628800\nfact(11) = 39916800\nfact(12) = 479001600\nfact(13) = 6227020800\nfact(14) = 87178291200\nfact(15) = 1307674368000\nfact(16) = 20922789888000\nfact(17) = 355687428096000\nfact(18) = 6402373705728000\nfact(19) = 121645100408832000\nfact(20) = 2432902008176640000\nfact(21) = 51090942171709440000\nfact(22) = 1124000727777607680000\n"
     ]
    }
   ],
   "source": [
    "for i in range(1, 23):\n",
    "    print(f\"fact({i:2}) = {fact(i)}\")"
   ]
  },
  {
   "source": [
    "Et la solution impérative :"
   ],
   "cell_type": "markdown",
   "metadata": {}
  },
  {
   "cell_type": "code",
   "execution_count": 9,
   "metadata": {},
   "outputs": [],
   "source": [
    "def fact_imp(n: int) -> int:\n",
    "    \"\"\" Factorielle de n, n! = 1 * 2 * .. * n.\"\"\"\n",
    "    f: int = 1\n",
    "    for i in range(2, n+1):\n",
    "        f = f * i  # f *= i est aussi possible \n",
    "    return f"
   ]
  },
  {
   "cell_type": "code",
   "execution_count": 10,
   "metadata": {},
   "outputs": [
    {
     "output_type": "stream",
     "name": "stdout",
     "text": [
      "fact_imp( 1) = 1\nfact_imp( 2) = 2\nfact_imp( 3) = 6\nfact_imp( 4) = 24\nfact_imp( 5) = 120\nfact_imp( 6) = 720\nfact_imp( 7) = 5040\nfact_imp( 8) = 40320\nfact_imp( 9) = 362880\nfact_imp(10) = 3628800\nfact_imp(11) = 39916800\nfact_imp(12) = 479001600\nfact_imp(13) = 6227020800\nfact_imp(14) = 87178291200\nfact_imp(15) = 1307674368000\nfact_imp(16) = 20922789888000\nfact_imp(17) = 355687428096000\nfact_imp(18) = 6402373705728000\nfact_imp(19) = 121645100408832000\nfact_imp(20) = 2432902008176640000\nfact_imp(21) = 51090942171709440000\nfact_imp(22) = 1124000727777607680000\n"
     ]
    }
   ],
   "source": [
    "for i in range(1, 23):\n",
    "    print(f\"fact_imp({i:2}) = {fact_imp(i)}\")"
   ]
  },
  {
   "cell_type": "markdown",
   "id": "diagnostic-directive",
   "metadata": {},
   "source": [
    "D'autres exemples ?\n",
    "\n",
    "TODO: plus tard !"
   ]
  },
  {
   "cell_type": "markdown",
   "id": "pressed-fairy",
   "metadata": {},
   "source": [
    "## Pour en apprendre plus\n",
    "\n",
    "- Ce petit tutoriel : <https://perso.crans.org/besson/apprendre-python.fr.html> (sous licence GPLv3) ;\n",
    "- Ce WikiBooks : <https://fr.wikibooks.org/wiki/Programmation_Python> (sous licence libre) ;\n",
    "- Ces deux livres de Python au niveau lycée : <https://github.com/exo7math/python1-exo7> et <https://github.com/exo7math/python2-exo7> (sous licence Creative Commons)."
   ]
  }
 ],
 "metadata": {
  "kernelspec": {
   "display_name": "Python 3",
   "language": "python",
   "name": "python3"
  },
  "language_info": {
   "codemirror_mode": {
    "name": "ipython",
    "version": 3
   },
   "file_extension": ".py",
   "mimetype": "text/x-python",
   "name": "python",
   "nbconvert_exporter": "python",
   "pygments_lexer": "ipython3",
   "version": "3.6.9-final"
  },
  "toc": {
   "base_numbering": 1,
   "nav_menu": {},
   "number_sections": true,
   "sideBar": true,
   "skip_h1_title": false,
   "title_cell": "Table of Contents",
   "title_sidebar": "Contents",
   "toc_cell": true,
   "toc_position": {},
   "toc_section_display": true,
   "toc_window_display": true
  },
  "varInspector": {
   "cols": {
    "lenName": 16,
    "lenType": 16,
    "lenVar": 40
   },
   "kernels_config": {
    "python": {
     "delete_cmd_postfix": "",
     "delete_cmd_prefix": "del ",
     "library": "var_list.py",
     "varRefreshCmd": "print(var_dic_list())"
    },
    "r": {
     "delete_cmd_postfix": ") ",
     "delete_cmd_prefix": "rm(",
     "library": "var_list.r",
     "varRefreshCmd": "cat(var_dic_list()) "
    }
   },
   "types_to_exclude": [
    "module",
    "function",
    "builtin_function_or_method",
    "instance",
    "_Feature"
   ],
   "window_display": false
  }
 },
 "nbformat": 4,
 "nbformat_minor": 5
}