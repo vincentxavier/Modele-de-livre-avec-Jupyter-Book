{
 "cells": [
  {
   "cell_type": "markdown",
   "id": "flying-image",
   "metadata": {
    "toc": true
   },
   "source": [
    "<h1>Table of Contents<span class=\"tocSkip\"></span></h1>\n",
    "<div class=\"toc\"><ul class=\"toc-item\"><li><span><a href=\"#Exemple-de-notebook-avec-Python\" data-toc-modified-id=\"Exemple-de-notebook-avec-Python-1\"><span class=\"toc-item-num\">1&nbsp;&nbsp;</span>Exemple de notebook avec Python</a></span><ul class=\"toc-item\"><li><span><a href=\"#Explications\" data-toc-modified-id=\"Explications-1.1\"><span class=\"toc-item-num\">1.1&nbsp;&nbsp;</span>Explications</a></span></li><li><span><a href=\"#Exemples\" data-toc-modified-id=\"Exemples-1.2\"><span class=\"toc-item-num\">1.2&nbsp;&nbsp;</span>Exemples</a></span></li><li><span><a href=\"#Pour-en-apprendre-plus\" data-toc-modified-id=\"Pour-en-apprendre-plus-1.3\"><span class=\"toc-item-num\">1.3&nbsp;&nbsp;</span>Pour en apprendre plus</a></span></li></ul></li></ul></div>"
   ]
  },
  {
   "cell_type": "markdown",
   "id": "seventh-interference",
   "metadata": {},
   "source": [
    "# Exemple de notebook avec Python"
   ]
  },
  {
   "cell_type": "markdown",
   "id": "prompt-humanitarian",
   "metadata": {},
   "source": [
    "## Explications\n",
    "\n",
    "Le kernel Python est installé par défaut avec Jupyter."
   ]
  },
  {
   "cell_type": "markdown",
   "id": "manual-receipt",
   "metadata": {},
   "source": [
    "## Exemples"
   ]
  },
  {
   "cell_type": "code",
   "execution_count": 1,
   "id": "elegant-compound",
   "metadata": {
    "ExecuteTime": {
     "end_time": "2021-02-08T22:13:46.708268Z",
     "start_time": "2021-02-08T22:13:46.694707Z"
    }
   },
   "outputs": [
    {
     "name": "stdout",
     "output_type": "stream",
     "text": [
      "Ceci est du code Python\n"
     ]
    }
   ],
   "source": [
    "print(\"Ceci est du code Python\")"
   ]
  },
  {
   "cell_type": "code",
   "execution_count": 3,
   "id": "generous-customer",
   "metadata": {
    "ExecuteTime": {
     "end_time": "2021-02-08T22:15:38.279697Z",
     "start_time": "2021-02-08T22:15:38.270718Z"
    }
   },
   "outputs": [
    {
     "name": "stdout",
     "output_type": "stream",
     "text": [
      "3.6.9 (default, Oct  8 2020, 12:12:24) \n",
      "[GCC 8.4.0]\n"
     ]
    }
   ],
   "source": [
    "import sys\n",
    "print(sys.version)"
   ]
  },
  {
   "cell_type": "markdown",
   "id": "diagnostic-directive",
   "metadata": {},
   "source": [
    "D'autres exemples ?\n",
    "\n",
    "TODO: plus tard !"
   ]
  },
  {
   "cell_type": "markdown",
   "id": "pressed-fairy",
   "metadata": {},
   "source": [
    "## Pour en apprendre plus\n",
    "\n",
    "- Ce petit tutoriel : https://perso.crans.org/besson/apprendre-python.fr.html (sous licence GPLv3) ;\n",
    "- Ce WikiBooks : https://fr.wikibooks.org/wiki/Programmation_Python (sous licence libre) ;\n",
    "- Ces deux livres de Python au niveau lycée : https://github.com/exo7math/python1-exo7 et https://github.com/exo7math/python2-exo7 (sous licence Creative Commons)."
   ]
  }
 ],
 "metadata": {
  "kernelspec": {
   "display_name": "Python 3",
   "language": "python",
   "name": "python3"
  },
  "language_info": {
   "codemirror_mode": {
    "name": "ipython",
    "version": 3
   },
   "file_extension": ".py",
   "mimetype": "text/x-python",
   "name": "python",
   "nbconvert_exporter": "python",
   "pygments_lexer": "ipython3",
   "version": "3.6.9"
  },
  "toc": {
   "base_numbering": 1,
   "nav_menu": {},
   "number_sections": true,
   "sideBar": true,
   "skip_h1_title": false,
   "title_cell": "Table of Contents",
   "title_sidebar": "Contents",
   "toc_cell": true,
   "toc_position": {},
   "toc_section_display": true,
   "toc_window_display": true
  },
  "varInspector": {
   "cols": {
    "lenName": 16,
    "lenType": 16,
    "lenVar": 40
   },
   "kernels_config": {
    "python": {
     "delete_cmd_postfix": "",
     "delete_cmd_prefix": "del ",
     "library": "var_list.py",
     "varRefreshCmd": "print(var_dic_list())"
    },
    "r": {
     "delete_cmd_postfix": ") ",
     "delete_cmd_prefix": "rm(",
     "library": "var_list.r",
     "varRefreshCmd": "cat(var_dic_list()) "
    }
   },
   "types_to_exclude": [
    "module",
    "function",
    "builtin_function_or_method",
    "instance",
    "_Feature"
   ],
   "window_display": false
  }
 },
 "nbformat": 4,
 "nbformat_minor": 5
}
