{
 "cells": [
  {
   "cell_type": "markdown",
   "id": "disciplinary-booth",
   "metadata": {
    "toc": true
   },
   "source": [
    "<h1>Table of Contents<span class=\"tocSkip\"></span></h1>\n",
    "<div class=\"toc\"><ul class=\"toc-item\"><li><span><a href=\"#Exemple-de-notebook-avec-Bash\" data-toc-modified-id=\"Exemple-de-notebook-avec-Bash-1\"><span class=\"toc-item-num\">1&nbsp;&nbsp;</span>Exemple de notebook avec Bash</a></span><ul class=\"toc-item\"><li><span><a href=\"#Explications\" data-toc-modified-id=\"Explications-1.1\"><span class=\"toc-item-num\">1.1&nbsp;&nbsp;</span>Explications</a></span></li><li><span><a href=\"#Exemples\" data-toc-modified-id=\"Exemples-1.2\"><span class=\"toc-item-num\">1.2&nbsp;&nbsp;</span>Exemples</a></span></li><li><span><a href=\"#Pour-en-apprendre-plus\" data-toc-modified-id=\"Pour-en-apprendre-plus-1.3\"><span class=\"toc-item-num\">1.3&nbsp;&nbsp;</span>Pour en apprendre plus</a></span></li></ul></li></ul></div>"
   ]
  },
  {
   "cell_type": "markdown",
   "id": "headed-joint",
   "metadata": {},
   "source": [
    "# Exemple de notebook avec Bash"
   ]
  },
  {
   "cell_type": "markdown",
   "id": "infinite-evolution",
   "metadata": {},
   "source": [
    "## Explications\n",
    "\n",
    "Voir https://github.com/takluyver/bash_kernel\n",
    "\n",
    "Pour installer :\n",
    "\n",
    "```bash\n",
    "$ pip install bash_kernel\n",
    "$ python -m bash_kernel.install\n",
    "```"
   ]
  },
  {
   "cell_type": "markdown",
   "id": "nasty-islam",
   "metadata": {},
   "source": [
    "```{todo}\n",
    "Faire mieux ?\n",
    "```"
   ]
  },
  {
   "cell_type": "markdown",
   "id": "excess-indiana",
   "metadata": {},
   "source": [
    "## Exemples"
   ]
  },
  {
   "cell_type": "markdown",
   "id": "korean-anime",
   "metadata": {},
   "source": [
    "La plupart des programmes en ligne de commande peuvent montrer leur version avec `programme --version` :"
   ]
  },
  {
   "cell_type": "code",
   "execution_count": 4,
   "id": "intellectual-nerve",
   "metadata": {
    "ExecuteTime": {
     "end_time": "2021-02-08T22:02:37.919519Z",
     "start_time": "2021-02-08T22:02:37.810953Z"
    }
   },
   "outputs": [
    {
     "name": "stdout",
     "output_type": "stream",
     "text": [
      "GNU bash, version 4.4.20(1)-release (x86_64-pc-linux-gnu)\n",
      "Copyright (C) 2016 Free Software Foundation, Inc.\n",
      "Licence GPLv3+ : GNU GPL version 3 ou ultérieure <http://gnu.org/licenses/gpl.html>\n",
      "\n",
      "Ceci est un logiciel libre ; vous être libre de le modifier et de le redistribuer.\n",
      "AUCUNE GARANTIE n'est fournie, dans les limites permises par la loi.\n"
     ]
    }
   ],
   "source": [
    "bash --version"
   ]
  },
  {
   "cell_type": "code",
   "execution_count": 7,
   "id": "essential-orange",
   "metadata": {
    "ExecuteTime": {
     "end_time": "2021-02-08T22:06:20.043040Z",
     "start_time": "2021-02-08T22:06:18.389278Z"
    }
   },
   "outputs": [
    {
     "name": "stdout",
     "output_type": "stream",
     "text": [
      "Jupyter Book: 0.10.0\n",
      "MyST-NB: 0.11.1\n",
      "Sphinx Book Theme: 0.0.39\n",
      "MyST-Parser: 0.13.3\n",
      "Jupyter-Cache: 0.4.2\n",
      "NbClient: 0.5.1\n"
     ]
    }
   ],
   "source": [
    "jupyter-book --version"
   ]
  },
  {
   "cell_type": "markdown",
   "id": "defined-occurrence",
   "metadata": {},
   "source": [
    "Les commandes de bases pour traverser des dossiers :"
   ]
  },
  {
   "cell_type": "code",
   "execution_count": 8,
   "id": "passing-director",
   "metadata": {
    "ExecuteTime": {
     "end_time": "2021-02-08T22:06:48.852505Z",
     "start_time": "2021-02-08T22:06:48.693431Z"
    }
   },
   "outputs": [
    {
     "name": "stdout",
     "output_type": "stream",
     "text": [
      "Affiche répertoire courant :\n",
      "/home/lilian/publis/Info-Prepas-MP2I/Modele-de-livre-avec-Jupyter-Book.git/notebooks\n"
     ]
    }
   ],
   "source": [
    "echo \"Affiche répertoire courant :\"\n",
    "pwd"
   ]
  },
  {
   "cell_type": "code",
   "execution_count": 9,
   "id": "small-minute",
   "metadata": {
    "ExecuteTime": {
     "end_time": "2021-02-08T22:06:56.920393Z",
     "start_time": "2021-02-08T22:06:56.756903Z"
    }
   },
   "outputs": [
    {
     "name": "stdout",
     "output_type": "stream",
     "text": [
      "Affiche fichiers du répertoire courant :\n",
      "total 20K\n",
      "drwxr-xr-x 6 lilian lilian 4,0K févr.  8 23:01  \u001b[0m\u001b[01;34m..\u001b[0m/\n",
      "drwxr-xr-x 2 lilian lilian 4,0K févr.  8 23:02  \u001b[01;34m.ipynb_checkpoints\u001b[0m/\n",
      "-rw-r--r-- 1 lilian lilian 5,1K févr.  8 23:06 'Exemple de notebook avec Bash.ipynb'\n",
      "drwxr-xr-x 3 lilian lilian 4,0K févr.  8 23:06  \u001b[01;34m.\u001b[0m/\n"
     ]
    }
   ],
   "source": [
    "echo \"Affiche fichiers du répertoire courant :\"\n",
    "ls -larth"
   ]
  },
  {
   "cell_type": "code",
   "execution_count": 15,
   "id": "sixth-wages",
   "metadata": {
    "ExecuteTime": {
     "end_time": "2021-02-08T22:07:34.040683Z",
     "start_time": "2021-02-08T22:07:33.877812Z"
    }
   },
   "outputs": [
    {
     "name": "stdout",
     "output_type": "stream",
     "text": [
      "Change de répertoire courant :\n",
      "Vous \u001b[01;33mquittez\u001b[01;37m le dossier \u001b[01;34m'/home/lilian/publis/Info-Prepas-MP2I/Modele-de-livre-avec-Jupyter-Book.git/notebooks'\u001b[01;37m.\n",
      "\tDirection ==> \u001b[01;32m.ipynb_checkpoints/\u001b[01;37m\n"
     ]
    }
   ],
   "source": [
    "echo \"Change de répertoire courant :\"\n",
    "cd .ipynb_checkpoints/"
   ]
  },
  {
   "cell_type": "markdown",
   "id": "informational-grass",
   "metadata": {},
   "source": [
    "```{warning}\n",
    "Cette commande montre plus que la commande par défaut, à cause de mes [alias](https://bitbucket.org/lbesson/bin/src/master/.bash_aliases).\n",
    "```\n",
    "\n",
    "```{todo}\n",
    "Faire en sorte de ne pas montrer ça ?\n",
    "```"
   ]
  },
  {
   "cell_type": "code",
   "execution_count": 18,
   "id": "satisfied-behalf",
   "metadata": {
    "ExecuteTime": {
     "end_time": "2021-02-08T22:08:54.029248Z",
     "start_time": "2021-02-08T22:08:53.917689Z"
    }
   },
   "outputs": [
    {
     "name": "stdout",
     "output_type": "stream",
     "text": [
      "-rw-r--r-- 1 lilian lilian 7,1K févr.  8 23:08 './Exemple de notebook avec Bash-checkpoint.ipynb'\n"
     ]
    }
   ],
   "source": [
    "ls -larth ./Exemple*Bash*.ipynb"
   ]
  },
  {
   "cell_type": "code",
   "execution_count": 25,
   "id": "central-french",
   "metadata": {
    "ExecuteTime": {
     "end_time": "2021-02-08T22:09:33.055894Z",
     "start_time": "2021-02-08T22:09:32.944504Z"
    }
   },
   "outputs": [
    {
     "name": "stdout",
     "output_type": "stream",
     "text": [
      "\u001b[32m\u001b[K161\u001b[m\u001b[K\u001b[36m\u001b[K:\u001b[m\u001b[K    \"\u001b[01;31m\u001b[Kls -larth\u001b[m\u001b[K\"\n",
      "\u001b[32m\u001b[K224\u001b[m\u001b[K\u001b[36m\u001b[K:\u001b[m\u001b[K    \"\u001b[01;31m\u001b[Kls -larth\u001b[m\u001b[K ./Exemple*Bash*.ipynb\"\n",
      "\u001b[32m\u001b[K242\u001b[m\u001b[K\u001b[36m\u001b[K:\u001b[m\u001b[K      \"\\u001b[32m\\u001b[K161\\u001b[m\\u001b[K\\u001b[36m\\u001b[K:\\u001b[m\\u001b[K    \\\"\\u001b[01;31m\\u001b[K\u001b[01;31m\u001b[Kls -larth\u001b[m\u001b[K\\u001b[m\\u001b[K\\\"\\n\"\n",
      "\u001b[32m\u001b[K247\u001b[m\u001b[K\u001b[36m\u001b[K:\u001b[m\u001b[K    \"grep -n \\\"\u001b[01;31m\u001b[Kls -larth\u001b[m\u001b[K\\\" ./Exemple*Bash*.ipynb\"\n"
     ]
    }
   ],
   "source": [
    "grep -n \"ls -larth\" ./Exemple*Bash*.ipynb"
   ]
  },
  {
   "cell_type": "markdown",
   "id": "english-abortion",
   "metadata": {},
   "source": [
    "D'autres exemples ?\n",
    "\n",
    "TODO: plus tard !"
   ]
  },
  {
   "cell_type": "markdown",
   "id": "moved-vegetation",
   "metadata": {},
   "source": [
    "## Pour en apprendre plus\n",
    "\n",
    "- Ce super tutoriel : http://nmesnier.free.fr/tips.html\n",
    "- Ce WikiBooks : https://fr.wikibooks.org/wiki/Programmation_Bash\n",
    "- Si vous connaissez d'autres shell : https://hyperpolyglot.org/unix-shells"
   ]
  }
 ],
 "metadata": {
  "kernelspec": {
   "display_name": "Bash",
   "language": "bash",
   "name": "bash"
  },
  "language_info": {
   "codemirror_mode": "shell",
   "file_extension": ".sh",
   "mimetype": "text/x-sh",
   "name": "bash"
  },
  "toc": {
   "base_numbering": 1,
   "nav_menu": {},
   "number_sections": true,
   "sideBar": true,
   "skip_h1_title": false,
   "title_cell": "Table of Contents",
   "title_sidebar": "Contents",
   "toc_cell": true,
   "toc_position": {},
   "toc_section_display": true,
   "toc_window_display": true
  },
  "varInspector": {
   "cols": {
    "lenName": 16,
    "lenType": 16,
    "lenVar": 40
   },
   "kernels_config": {
    "python": {
     "delete_cmd_postfix": "",
     "delete_cmd_prefix": "del ",
     "library": "var_list.py",
     "varRefreshCmd": "print(var_dic_list())"
    },
    "r": {
     "delete_cmd_postfix": ") ",
     "delete_cmd_prefix": "rm(",
     "library": "var_list.r",
     "varRefreshCmd": "cat(var_dic_list()) "
    }
   },
   "types_to_exclude": [
    "module",
    "function",
    "builtin_function_or_method",
    "instance",
    "_Feature"
   ],
   "window_display": false
  }
 },
 "nbformat": 4,
 "nbformat_minor": 5
}
