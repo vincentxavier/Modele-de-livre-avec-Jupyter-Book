{
 "cells": [
  {
   "cell_type": "markdown",
   "id": "every-style",
   "metadata": {
    "toc": true
   },
   "source": [
    "<h1>Table of Contents<span class=\"tocSkip\"></span></h1>\n",
    "<div class=\"toc\"><ul class=\"toc-item\"><li><span><a href=\"#Exemple-de-notebook-avec-C\" data-toc-modified-id=\"Exemple-de-notebook-avec-C-1\"><span class=\"toc-item-num\">1&nbsp;&nbsp;</span>Exemple de notebook avec C</a></span><ul class=\"toc-item\"><li><span><a href=\"#Explications\" data-toc-modified-id=\"Explications-1.1\"><span class=\"toc-item-num\">1.1&nbsp;&nbsp;</span>Explications</a></span></li><li><span><a href=\"#Exemples\" data-toc-modified-id=\"Exemples-1.2\"><span class=\"toc-item-num\">1.2&nbsp;&nbsp;</span>Exemples</a></span><ul class=\"toc-item\"><li><ul class=\"toc-item\"><li><span><a href=\"#D'autres-exemples-?\" data-toc-modified-id=\"D'autres-exemples-?-1.2.0.1\"><span class=\"toc-item-num\">1.2.0.1&nbsp;&nbsp;</span>D'autres exemples ?</a></span></li></ul></li></ul></li><li><span><a href=\"#Pour-en-apprendre-plus\" data-toc-modified-id=\"Pour-en-apprendre-plus-1.3\"><span class=\"toc-item-num\">1.3&nbsp;&nbsp;</span>Pour en apprendre plus</a></span></li></ul></li></ul></div>"
   ]
  },
  {
   "cell_type": "markdown",
   "id": "purple-cookbook",
   "metadata": {},
   "source": [
    "# Exemple de notebook avec C"
   ]
  },
  {
   "cell_type": "markdown",
   "id": "flying-chuck",
   "metadata": {},
   "source": [
    "## Explications\n",
    "\n",
    "Le kernel C n'est pas installé par défaut avec Jupyter.\n",
    "\n",
    "Il faut installer [jupyter-c-kernel](https://github.com/brendan-rius/jupyter-c-kernel)"
   ]
  },
  {
   "cell_type": "markdown",
   "id": "harmful-confidentiality",
   "metadata": {},
   "source": [
    "## Exemples"
   ]
  },
  {
   "cell_type": "code",
   "execution_count": null,
   "id": "speaking-database",
   "metadata": {
    "ExecuteTime": {
     "start_time": "2021-02-08T22:35:42.258Z"
    }
   },
   "outputs": [],
   "source": [
    "#include <stdio.h>\n",
    "\n",
    "int main(int argc, char* argv) {\n",
    "    printf(\"\\nHello world from C!\");\n",
    "}"
   ]
  },
  {
   "cell_type": "markdown",
   "id": "sudden-power",
   "metadata": {},
   "source": [
    "### D'autres exemples ?\n",
    "\n",
    "TODO: plus tard !"
   ]
  },
  {
   "cell_type": "markdown",
   "id": "opponent-economy",
   "metadata": {},
   "source": [
    "## Pour en apprendre plus\n",
    "\n",
    "- Ce petit tutoriel : https://perso.crans.org/besson/apprendre-c.fr.html (sous licence GPLv3) ;\n",
    "- Ce WikiBooks : https://fr.wikibooks.org/wiki/Programmation_C (sous licence libre) ;\n",
    "- Ce cours ArcSys1 de l'ENS Rennes : https://mquinson.frama.io/ensr-arcsys1/ (2020-2021)."
   ]
  }
 ],
 "metadata": {
  "kernelspec": {
   "display_name": "C",
   "language": "c",
   "name": "c"
  },
  "language_info": {
   "codemirror_mode": "text/x-ocaml",
   "file_extension": ".ml",
   "mimetype": "text/x-ocaml",
   "name": "OCaml",
   "nbconverter_exporter": null,
   "pygments_lexer": "OCaml",
   "version": "4.05.0"
  },
  "toc": {
   "base_numbering": 1,
   "nav_menu": {},
   "number_sections": true,
   "sideBar": true,
   "skip_h1_title": false,
   "title_cell": "Table of Contents",
   "title_sidebar": "Contents",
   "toc_cell": true,
   "toc_position": {},
   "toc_section_display": true,
   "toc_window_display": true
  },
  "varInspector": {
   "cols": {
    "lenName": 16,
    "lenType": 16,
    "lenVar": 40
   },
   "kernels_config": {
    "python": {
     "delete_cmd_postfix": "",
     "delete_cmd_prefix": "del ",
     "library": "var_list.py",
     "varRefreshCmd": "print(var_dic_list())"
    },
    "r": {
     "delete_cmd_postfix": ") ",
     "delete_cmd_prefix": "rm(",
     "library": "var_list.r",
     "varRefreshCmd": "cat(var_dic_list()) "
    }
   },
   "types_to_exclude": [
    "module",
    "function",
    "builtin_function_or_method",
    "instance",
    "_Feature"
   ],
   "window_display": false
  }
 },
 "nbformat": 4,
 "nbformat_minor": 5
}
