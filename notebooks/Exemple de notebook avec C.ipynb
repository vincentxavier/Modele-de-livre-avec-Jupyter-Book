{
 "cells": [
  {
   "cell_type": "markdown",
   "id": "purple-cookbook",
   "metadata": {},
   "source": [
    "# Exemple de notebook avec C"
   ]
  },
  {
   "source": [
    "## Explications\n",
    "\n",
    "Le kernel C n'est pas installé par défaut avec Jupyter.\n",
    "\n",
    "Il faut installer [jupyter-c-kernel](https://github.com/brendan-rius/jupyter-c-kernel)"
   ],
   "cell_type": "markdown",
   "metadata": {}
  },
  {
   "cell_type": "markdown",
   "id": "harmful-confidentiality",
   "metadata": {},
   "source": [
    "## Exemples"
   ]
  },
  {
   "cell_type": "code",
   "execution_count": 2,
   "id": "speaking-database",
   "metadata": {
    "ExecuteTime": {
     "start_time": "2021-02-08T22:35:42.258Z"
    }
   },
   "outputs": [
    {
     "output_type": "stream",
     "name": "stdout",
     "text": [
      "\nHello world from C from Jupyter notebook!"
     ]
    }
   ],
   "source": [
    "#include <stdio.h>\n",
    "\n",
    "int main(int argc, char* argv) {\n",
    "    printf(\"\\nHello world from C from Jupyter notebook!\");\n",
    "}"
   ]
  },
  {
   "source": [
    "## Factorielle\n",
    "\n",
    "Pour calculer la fonction $n! := 1 \\times 2 \\times \\dots \\times n$ ($n\\in\\mathbb{N}$), on peut penser à une solution récursive (qui coutera en espace mémoire à cause de la pile d'appel) et une solution impérative."
   ],
   "cell_type": "markdown",
   "metadata": {}
  },
  {
   "cell_type": "code",
   "execution_count": 39,
   "metadata": {},
   "outputs": [
    {
     "output_type": "stream",
     "name": "stdout",
     "text": [
      "\n  factorielle_rec(1) = 1 et factorielle_imp(1) = 1\n  factorielle_rec(2) = 2 et factorielle_imp(2) = 2\n  factorielle_rec(3) = 6 et factorielle_imp(3) = 6\n  factorielle_rec(4) = 24 et factorielle_imp(4) = 24\n  factorielle_rec(5) = 120 et factorielle_imp(5) = 120\n  factorielle_rec(6) = 720 et factorielle_imp(6) = 720\n  factorielle_rec(7) = 5040 et factorielle_imp(7) = 5040\n  factorielle_rec(8) = 40320 et factorielle_imp(8) = 40320\n  factorielle_rec(9) = 362880 et factorielle_imp(9) = 362880\n  factorielle_rec(10) = 3628800 et factorielle_imp(10) = 3628800\n  factorielle_rec(11) = 39916800 et factorielle_imp(11) = 39916800\n  factorielle_rec(12) = 479001600 et factorielle_imp(12) = 479001600\n  factorielle_rec(13) = 1932053504 et factorielle_imp(13) = 1932053504\n  factorielle_rec(14) = 1278945280 et factorielle_imp(14) = 1278945280\n  factorielle_rec(15) = 2004310016 et factorielle_imp(15) = 2004310016\nValeurs fausses après 15\n  factorielle_rec(16) = 2004189184 et factorielle_imp(16) = 2004189184"
     ]
    }
   ],
   "source": [
    "#include <stdio.h>\n",
    "#define MAX_I 15\n",
    "\n",
    "int factorielle_rec(int n) { \n",
    "    if (n <= 1) {\n",
    "        return 1;\n",
    "    }\n",
    "    else {\n",
    "        return n * factorielle_rec(n - 1);\n",
    "    }\n",
    "}\n",
    "\n",
    "int factorielle_imp(int n) {\n",
    "    int f = 1;\n",
    "    for (int i = 1; i <= n; i++) {\n",
    "        f = f * i;  /* f *= i aussi possible*/\n",
    "    }\n",
    "    return f;\n",
    "}\n",
    "\n",
    "int main(int argc, char* argv) {\n",
    "    for (int i = 1; i <= MAX_I+2; i++) {\n",
    "        printf(\"\\n  factorielle_rec(%d) = %d et factorielle_imp(%d) = %d\", i, factorielle_rec(i), i, factorielle_imp(i));\n",
    "        if (i == MAX_I) {\n",
    "            printf(\"\\nValeurs fausses après %i\", MAX_I);\n",
    "        }\n",
    "    }\n",
    "}"
   ]
  },
  {
   "source": [
    "Comme on le voit, les valeurs deviennent fausses dès que $i\\geq16$.\n",
    "On peut augmenter la précision en utilisant des `long` au lieu d'`int`, qui utilisent (sur ma machine) 64 bits au lieu de 32 bits.\n",
    "\n",
    "Par contre, passer à des `long long` n'apporterait rien (sur ma machine)."
   ],
   "cell_type": "markdown",
   "metadata": {}
  },
  {
   "cell_type": "code",
   "execution_count": 43,
   "metadata": {},
   "outputs": [
    {
     "output_type": "stream",
     "name": "stdout",
     "text": [
      "\n  factorielle_rec(1) = 1 et factorielle_imp(1) = 1\n  factorielle_rec(2) = 2 et factorielle_imp(2) = 2\n  factorielle_rec(3) = 6 et factorielle_imp(3) = 6\n  factorielle_rec(4) = 24 et factorielle_imp(4) = 24\n  factorielle_rec(5) = 120 et factorielle_imp(5) = 120\n  factorielle_rec(6) = 720 et factorielle_imp(6) = 720\n  factorielle_rec(7) = 5040 et factorielle_imp(7) = 5040\n  factorielle_rec(8) = 40320 et factorielle_imp(8) = 40320\n  factorielle_rec(9) = 362880 et factorielle_imp(9) = 362880\n  factorielle_rec(10) = 3628800 et factorielle_imp(10) = 3628800\n  factorielle_rec(11) = 39916800 et factorielle_imp(11) = 39916800\n  factorielle_rec(12) = 479001600 et factorielle_imp(12) = 479001600\n  factorielle_rec(13) = 6227020800 et factorielle_imp(13) = 6227020800\n  factorielle_rec(14) = 87178291200 et factorielle_imp(14) = 87178291200\n  factorielle_rec(15) = 1307674368000 et factorielle_imp(15) = 1307674368000\n  factorielle_rec(16) = 20922789888000 et factorielle_imp(16) = 20922789888000\n  factorielle_rec(17) = 355687428096000 et factorielle_imp(17) = 355687428096000\n  factorielle_rec(18) = 6402373705728000 et factorielle_imp(18) = 6402373705728000\n  factorielle_rec(19) = 121645100408832000 et factorielle_imp(19) = 121645100408832000\n  factorielle_rec(20) = 2432902008176640000 et factorielle_imp(20) = 2432902008176640000\nValeurs fausses après 20\n  factorielle_rec(21) = -4249290049419214848 et factorielle_imp(21) = -4249290049419214848\n  factorielle_rec(22) = -1250660718674968576 et factorielle_imp(22) = -1250660718674968576"
     ]
    }
   ],
   "source": [
    "#include <stdio.h>\n",
    "#define MAX_I 20\n",
    "\n",
    "long factorielle_rec(long n) { \n",
    "    if (n <= 1) {\n",
    "        return 1;\n",
    "    }\n",
    "    else {\n",
    "        return n * factorielle_rec(n - 1L);\n",
    "    }\n",
    "}\n",
    "\n",
    "long factorielle_imp(long n) {\n",
    "    long f = 1;\n",
    "    for (int i = 1; i <= n; i++) {\n",
    "        f = f * i;  /* f *= i aussi possible*/\n",
    "    }\n",
    "    return f;\n",
    "}\n",
    "\n",
    "int main(int argc, char* argv) {\n",
    "    for (long i = 1; i <= MAX_I+2; i++) {\n",
    "        printf(\"\\n  factorielle_rec(%li) = %li et factorielle_imp(%li) = %li\", i, factorielle_rec(i), i, factorielle_imp(i));\n",
    "        if (i == MAX_I) {\n",
    "            printf(\"\\nValeurs fausses après %d\", MAX_I);\n",
    "        }\n",
    "    }\n",
    "}"
   ]
  },
  {
   "cell_type": "markdown",
   "id": "sudden-power",
   "metadata": {},
   "source": [
    "### D'autres exemples ?\n",
    "\n",
    "TODO: plus tard !"
   ]
  },
  {
   "cell_type": "markdown",
   "id": "opponent-economy",
   "metadata": {},
   "source": [
    "## Pour en apprendre plus\n",
    "\n",
    "- Ce petit tutoriel : <https://perso.crans.org/besson/apprendre-c.fr.html> (sous licence GPLv3) ;\n",
    "- Ce WikiBooks : <https://fr.wikibooks.org/wiki/Programmation_C> (sous licence libre) ;\n",
    "- Ce cours ArcSys1 de l'ENS Rennes : <https://mquinson.frama.io/ensr-arcsys1/> (2020-2021)."
   ]
  }
 ],
 "metadata": {
  "kernelspec": {
   "display_name": "C",
   "language": "c",
   "name": "c"
  },
  "language_info": {
   "codemirror_mode": "text/x-ocaml",
   "file_extension": ".ml",
   "mimetype": "text/x-ocaml",
   "name": "OCaml",
   "nbconverter_exporter": null,
   "pygments_lexer": "OCaml",
   "version": "4.05.0"
  },
  "toc": {
   "base_numbering": 1,
   "nav_menu": {},
   "number_sections": true,
   "sideBar": true,
   "skip_h1_title": false,
   "title_cell": "Table of Contents",
   "title_sidebar": "Contents",
   "toc_cell": true,
   "toc_position": {},
   "toc_section_display": true,
   "toc_window_display": true
  },
  "varInspector": {
   "cols": {
    "lenName": 16,
    "lenType": 16,
    "lenVar": 40
   },
   "kernels_config": {
    "python": {
     "delete_cmd_postfix": "",
     "delete_cmd_prefix": "del ",
     "library": "var_list.py",
     "varRefreshCmd": "print(var_dic_list())"
    },
    "r": {
     "delete_cmd_postfix": ") ",
     "delete_cmd_prefix": "rm(",
     "library": "var_list.r",
     "varRefreshCmd": "cat(var_dic_list()) "
    }
   },
   "types_to_exclude": [
    "module",
    "function",
    "builtin_function_or_method",
    "instance",
    "_Feature"
   ],
   "window_display": false
  }
 },
 "nbformat": 4,
 "nbformat_minor": 5
}