{
 "cells": [
  {
   "cell_type": "markdown",
   "metadata": {
    "slideshow": {
     "slide_type": "slide"
    }
   },
   "source": [
    "# Exemple de notebook avec OCaml"
   ]
  },
  {
   "cell_type": "markdown",
   "metadata": {},
   "source": [
    "## Explications\n",
    "\n",
    "Le kernel OCaml n'est pas installé par défaut avec Jupyter.\n",
    "\n",
    "Il faut installer OPAM, puis [ocaml-jupyter](https://github.com/akabe/ocaml-jupyter/)."
   ]
  },
  {
   "cell_type": "markdown",
   "metadata": {
    "slideshow": {
     "slide_type": "slide"
    }
   },
   "source": [
    "## Exemples"
   ]
  },
  {
   "cell_type": "code",
   "execution_count": 1,
   "metadata": {
    "ExecuteTime": {
     "end_time": "2021-02-14T16:28:49.305800Z",
     "start_time": "2021-02-14T16:28:49.292Z"
    }
   },
   "outputs": [
    {
     "name": "stdout",
     "output_type": "stream",
     "text": [
      "The OCaml toplevel, version 4.05.0\n"
     ]
    },
    {
     "data": {
      "text/plain": [
       "- : int = 0\n"
      ]
     },
     "execution_count": 1,
     "metadata": {},
     "output_type": "execute_result"
    }
   ],
   "source": [
    "Sys.command \"ocaml -version\";;"
   ]
  },
  {
   "cell_type": "code",
   "execution_count": 2,
   "metadata": {
    "ExecuteTime": {
     "end_time": "2021-02-13T02:22:43.008400Z",
     "start_time": "2021-02-13T02:22:43.002Z"
    }
   },
   "outputs": [
    {
     "name": "stdout",
     "output_type": "stream",
     "text": [
      "Bonjour depuis OCaml !\n"
     ]
    },
    {
     "data": {
      "text/plain": [
       "- : unit = ()\n"
      ]
     },
     "execution_count": 2,
     "metadata": {},
     "output_type": "execute_result"
    }
   ],
   "source": [
    "print_endline \"Bonjour depuis OCaml !\";;"
   ]
  },
  {
   "cell_type": "markdown",
   "metadata": {
    "slideshow": {
     "slide_type": "slide"
    }
   },
   "source": [
    "### Une fonction récursive\n",
    "\n",
    "Pour calculer la fonction $n! := 1 \\times 2 \\times \\dots \\times n$ ($n\\in\\mathbb{N}$), on peut penser à une solution récursive (qui coutera en espace mémoire à cause de la pile d'appel) et une solution impérative."
   ]
  },
  {
   "cell_type": "code",
   "execution_count": 20,
   "metadata": {
    "ExecuteTime": {
     "end_time": "2021-02-13T02:31:33.646800Z",
     "start_time": "2021-02-13T02:31:33.644Z"
    },
    "slideshow": {
     "slide_type": "subslide"
    }
   },
   "outputs": [
    {
     "data": {
      "text/plain": [
       "val fact : int -> int = <fun>\n"
      ]
     },
     "execution_count": 20,
     "metadata": {},
     "output_type": "execute_result"
    }
   ],
   "source": [
    "let rec fact (n: int) : int =\n",
    "    match n with\n",
    "    | 0 -> 1\n",
    "    | n -> n * (fact (n-1))\n",
    ";;"
   ]
  },
  {
   "cell_type": "code",
   "execution_count": 22,
   "metadata": {
    "ExecuteTime": {
     "end_time": "2021-02-13T02:31:36.733200Z",
     "start_time": "2021-02-13T02:31:36.715Z"
    },
    "slideshow": {
     "slide_type": "subslide"
    }
   },
   "outputs": [
    {
     "name": "stdout",
     "output_type": "stream",
     "text": [
      "fact(01) = 1\n",
      "fact(02) = 2\n",
      "fact(03) = 6\n",
      "fact(04) = 24\n",
      "fact(05) = 120\n",
      "fact(06) = 720\n",
      "fact(07) = 5040\n",
      "fact(08) = 40320\n",
      "fact(09) = 362880\n",
      "fact(10) = 3628800\n",
      "fact(11) = 39916800\n",
      "fact(12) = 479001600\n",
      "fact(13) = 6227020800\n",
      "fact(14) = 87178291200\n",
      "fact(15) = 1307674368000\n",
      "fact(16) = 20922789888000\n",
      "fact(17) = 355687428096000\n",
      "fact(18) = 6402373705728000\n",
      "fact(19) = 121645100408832000\n",
      "fact(20) = 2432902008176640000\n",
      "fact(21) = -4249290049419214848\n"
     ]
    },
    {
     "data": {
      "text/plain": [
       "- : unit = ()\n"
      ]
     },
     "execution_count": 22,
     "metadata": {},
     "output_type": "execute_result"
    }
   ],
   "source": [
    "for i = 1 to 21 do\n",
    "    print_endline (Printf.sprintf \"fact(%.2i) = %i\" i (fact i))\n",
    "done;;\n"
   ]
  },
  {
   "cell_type": "markdown",
   "metadata": {
    "slideshow": {
     "slide_type": "subslide"
    }
   },
   "source": [
    "Et la solution impérative :"
   ]
  },
  {
   "cell_type": "code",
   "execution_count": 23,
   "metadata": {
    "ExecuteTime": {
     "end_time": "2021-02-13T02:31:39.805500Z",
     "start_time": "2021-02-13T02:31:39.791Z"
    }
   },
   "outputs": [
    {
     "data": {
      "text/plain": [
       "val fact_imp : int -> int = <fun>\n"
      ]
     },
     "execution_count": 23,
     "metadata": {},
     "output_type": "execute_result"
    }
   ],
   "source": [
    "let fact_imp (n: int) : int =\n",
    "    let f = ref 1 in\n",
    "    for i = 1 to n do\n",
    "        f := (!f) * i;\n",
    "    done;\n",
    "    !f\n",
    ";;"
   ]
  },
  {
   "cell_type": "code",
   "execution_count": 32,
   "metadata": {
    "ExecuteTime": {
     "end_time": "2021-02-13T02:32:14.644700Z",
     "start_time": "2021-02-13T02:32:14.627Z"
    },
    "slideshow": {
     "slide_type": "subslide"
    }
   },
   "outputs": [
    {
     "name": "stdout",
     "output_type": "stream",
     "text": [
      "fact(15) = 1307674368000\n",
      "fact(16) = 20922789888000\n",
      "fact(17) = 355687428096000\n",
      "fact(18) = 6402373705728000\n",
      "fact(19) = 121645100408832000\n",
      "fact(20) = 2432902008176640000\n",
      "fact(21) = -4249290049419214848\n"
     ]
    },
    {
     "data": {
      "text/plain": [
       "- : unit = ()\n"
      ]
     },
     "execution_count": 32,
     "metadata": {},
     "output_type": "execute_result"
    }
   ],
   "source": [
    "for i = 15 to 21 do\n",
    "    print_endline (Printf.sprintf \"fact(%.2i) = %i\" i (fact_imp i))\n",
    "done;;\n"
   ]
  },
  {
   "cell_type": "markdown",
   "metadata": {},
   "source": [
    "Comme les entiers sont bornés, on dépasse la capacité assez rapidement, et les valeurs calculées deviennent fausses."
   ]
  },
  {
   "cell_type": "markdown",
   "metadata": {
    "slideshow": {
     "slide_type": "slide"
    }
   },
   "source": [
    "### Un type non paramétrique récursif et un exemple :"
   ]
  },
  {
   "cell_type": "code",
   "execution_count": 34,
   "metadata": {
    "ExecuteTime": {
     "end_time": "2021-02-13T02:34:18.555000Z",
     "start_time": "2021-02-13T02:34:18.546Z"
    }
   },
   "outputs": [
    {
     "data": {
      "text/plain": [
       "type formulePropositionnelle =\n",
       "    Var of string\n",
       "  | Non of formulePropositionnelle\n",
       "  | Ou of (formulePropositionnelle * formulePropositionnelle)\n",
       "  | Et of (formulePropositionnelle * formulePropositionnelle)\n"
      ]
     },
     "execution_count": 34,
     "metadata": {},
     "output_type": "execute_result"
    }
   ],
   "source": [
    "type formulePropositionnelle =\n",
    "    | Var of string\n",
    "    | Non of formulePropositionnelle\n",
    "    | Ou of (formulePropositionnelle * formulePropositionnelle)\n",
    "    | Et of (formulePropositionnelle * formulePropositionnelle)\n",
    ";;"
   ]
  },
  {
   "cell_type": "code",
   "execution_count": 35,
   "metadata": {
    "ExecuteTime": {
     "end_time": "2021-02-13T02:34:21.509500Z",
     "start_time": "2021-02-13T02:34:21.499Z"
    },
    "slideshow": {
     "slide_type": "subslide"
    }
   },
   "outputs": [
    {
     "data": {
      "text/plain": [
       "val x : formulePropositionnelle = Var \"x\"\n",
       "val y : formulePropositionnelle = Var \"y\"\n",
       "val z : formulePropositionnelle = Var \"z\"\n"
      ]
     },
     "execution_count": 35,
     "metadata": {},
     "output_type": "execute_result"
    }
   ],
   "source": [
    "let x = Var(\"x\")\n",
    "and y = Var(\"y\")\n",
    "and z = Var(\"z\")\n",
    ";;"
   ]
  },
  {
   "cell_type": "code",
   "execution_count": 36,
   "metadata": {
    "ExecuteTime": {
     "end_time": "2021-02-13T02:34:22.826600Z",
     "start_time": "2021-02-13T02:34:22.764Z"
    },
    "slideshow": {
     "slide_type": "subslide"
    }
   },
   "outputs": [
    {
     "data": {
      "text/plain": [
       "val p1 : formulePropositionnelle = Ou (Var \"x\", Var \"y\")\n",
       "val p2 : formulePropositionnelle = Et (Var \"y\", Var \"z\")\n",
       "val p3 : formulePropositionnelle = Non (Var \"x\")\n"
      ]
     },
     "execution_count": 36,
     "metadata": {},
     "output_type": "execute_result"
    },
    {
     "data": {
      "text/plain": [
       "val p4 : formulePropositionnelle =\n",
       "  Et (Ou (Var \"x\", Var \"y\"), Et (Var \"y\", Var \"z\"))\n"
      ]
     },
     "execution_count": 36,
     "metadata": {},
     "output_type": "execute_result"
    },
    {
     "data": {
      "text/plain": [
       "val p5 : formulePropositionnelle =\n",
       "  Ou (Non (Var \"x\"), Et (Ou (Var \"x\", Var \"y\"), Et (Var \"y\", Var \"z\")))\n"
      ]
     },
     "execution_count": 36,
     "metadata": {},
     "output_type": "execute_result"
    },
    {
     "data": {
      "text/plain": [
       "val p6 : formulePropositionnelle =\n",
       "  Non (Ou (Non (Var \"x\"), Et (Ou (Var \"x\", Var \"y\"), Et (Var \"y\", Var \"z\"))))\n"
      ]
     },
     "execution_count": 36,
     "metadata": {},
     "output_type": "execute_result"
    }
   ],
   "source": [
    "let p1 = Ou(x, y)\n",
    "and p2 = Et(y, z)\n",
    "and p3 = Non(x)\n",
    ";;\n",
    "\n",
    "let p4 = Et(p1, p2);;\n",
    "let p5 = Ou(p3, p4);;\n",
    "let p6 = Non(p5);;"
   ]
  },
  {
   "cell_type": "code",
   "execution_count": 37,
   "metadata": {
    "ExecuteTime": {
     "end_time": "2021-02-13T02:34:23.909400Z",
     "start_time": "2021-02-13T02:34:23.898Z"
    },
    "slideshow": {
     "slide_type": "subslide"
    }
   },
   "outputs": [
    {
     "data": {
      "text/plain": [
       "val taille : formulePropositionnelle -> int = <fun>\n"
      ]
     },
     "execution_count": 37,
     "metadata": {},
     "output_type": "execute_result"
    }
   ],
   "source": [
    "let rec taille (formule: formulePropositionnelle) : int =\n",
    "    match formule with\n",
    "    | Var _ -> 1\n",
    "    | Non phi -> 1 + taille phi\n",
    "    | Et (phi1, phi2) | Ou (phi1, phi2) -> 1 + (taille phi1) + (taille phi2)\n",
    "    (* | _ -> 0 *) (* cette ligne est inutile *)\n",
    ";;"
   ]
  },
  {
   "cell_type": "code",
   "execution_count": 38,
   "metadata": {
    "ExecuteTime": {
     "end_time": "2021-02-13T02:34:26.452400Z",
     "start_time": "2021-02-13T02:34:26.449Z"
    },
    "slideshow": {
     "slide_type": "subslide"
    }
   },
   "outputs": [
    {
     "data": {
      "text/plain": [
       "- : int = 1\n"
      ]
     },
     "execution_count": 38,
     "metadata": {},
     "output_type": "execute_result"
    },
    {
     "data": {
      "text/plain": [
       "- : int = 1\n"
      ]
     },
     "execution_count": 38,
     "metadata": {},
     "output_type": "execute_result"
    },
    {
     "data": {
      "text/plain": [
       "- : int = 1\n"
      ]
     },
     "execution_count": 38,
     "metadata": {},
     "output_type": "execute_result"
    }
   ],
   "source": [
    "taille x;;\n",
    "taille y;;\n",
    "taille z;;"
   ]
  },
  {
   "cell_type": "code",
   "execution_count": 39,
   "metadata": {
    "ExecuteTime": {
     "end_time": "2021-02-13T02:34:27.198700Z",
     "start_time": "2021-02-13T02:34:27.189Z"
    }
   },
   "outputs": [
    {
     "data": {
      "text/plain": [
       "- : int = 3\n"
      ]
     },
     "execution_count": 39,
     "metadata": {},
     "output_type": "execute_result"
    },
    {
     "data": {
      "text/plain": [
       "- : int = 3\n"
      ]
     },
     "execution_count": 39,
     "metadata": {},
     "output_type": "execute_result"
    },
    {
     "data": {
      "text/plain": [
       "- : int = 2\n"
      ]
     },
     "execution_count": 39,
     "metadata": {},
     "output_type": "execute_result"
    }
   ],
   "source": [
    "taille p1;;\n",
    "taille p2;;\n",
    "taille p3;;"
   ]
  },
  {
   "cell_type": "markdown",
   "metadata": {
    "slideshow": {
     "slide_type": "subslide"
    }
   },
   "source": [
    "Avec une fonction récursive terminale :"
   ]
  },
  {
   "cell_type": "code",
   "execution_count": 40,
   "metadata": {
    "ExecuteTime": {
     "end_time": "2021-02-13T02:34:29.480700Z",
     "start_time": "2021-02-13T02:34:29.464Z"
    }
   },
   "outputs": [
    {
     "data": {
      "text/plain": [
       "val taille : formulePropositionnelle -> int = <fun>\n"
      ]
     },
     "execution_count": 40,
     "metadata": {},
     "output_type": "execute_result"
    }
   ],
   "source": [
    "let taille (formule: formulePropositionnelle) : int =\n",
    "    let rec aux acc = function\n",
    "        | Var _ -> 1\n",
    "        | Non phi -> aux (acc+1) phi\n",
    "        | Et (phi1, phi2) | Ou (phi1, phi2) -> aux (aux (acc + 1) phi1) phi2\n",
    "    in aux 0 formule\n",
    ";;"
   ]
  },
  {
   "cell_type": "code",
   "execution_count": 41,
   "metadata": {
    "ExecuteTime": {
     "end_time": "2021-02-13T02:34:33.573400Z",
     "start_time": "2021-02-13T02:34:33.564Z"
    },
    "slideshow": {
     "slide_type": "subslide"
    }
   },
   "outputs": [
    {
     "data": {
      "text/plain": [
       "- : int = 1\n"
      ]
     },
     "execution_count": 41,
     "metadata": {},
     "output_type": "execute_result"
    },
    {
     "data": {
      "text/plain": [
       "- : int = 1\n"
      ]
     },
     "execution_count": 41,
     "metadata": {},
     "output_type": "execute_result"
    },
    {
     "data": {
      "text/plain": [
       "- : int = 1\n"
      ]
     },
     "execution_count": 41,
     "metadata": {},
     "output_type": "execute_result"
    }
   ],
   "source": [
    "taille p4;;\n",
    "taille p5;;\n",
    "taille p6;;"
   ]
  },
  {
   "cell_type": "markdown",
   "metadata": {
    "slideshow": {
     "slide_type": "slide"
    }
   },
   "source": [
    "### Un type paramétrique récursif et un exemple :"
   ]
  },
  {
   "cell_type": "code",
   "execution_count": 1,
   "metadata": {
    "ExecuteTime": {
     "end_time": "2021-02-14T15:05:25.643800Z",
     "start_time": "2021-02-14T15:05:25.636Z"
    }
   },
   "outputs": [
    {
     "data": {
      "text/plain": [
       "type 'a arbreBinaire =\n",
       "    Feuille\n",
       "  | Noeud of ('a arbreBinaire * 'a * 'a arbreBinaire)\n"
      ]
     },
     "execution_count": 1,
     "metadata": {},
     "output_type": "execute_result"
    }
   ],
   "source": [
    "type 'a arbreBinaire = Feuille | Noeud of ('a arbreBinaire * 'a * 'a arbreBinaire);;"
   ]
  },
  {
   "cell_type": "code",
   "execution_count": 6,
   "metadata": {
    "ExecuteTime": {
     "end_time": "2021-02-14T15:08:12.643900Z",
     "start_time": "2021-02-14T15:08:12.621Z"
    }
   },
   "outputs": [
    {
     "data": {
      "text/plain": [
       "val a0 : 'a arbreBinaire = Feuille\n"
      ]
     },
     "execution_count": 6,
     "metadata": {},
     "output_type": "execute_result"
    },
    {
     "data": {
      "text/plain": [
       "val a1 : int arbreBinaire = Noeud (Feuille, 1, Feuille)\n"
      ]
     },
     "execution_count": 6,
     "metadata": {},
     "output_type": "execute_result"
    },
    {
     "data": {
      "text/plain": [
       "val a2 : int arbreBinaire = Noeud (Noeud (Feuille, 1, Feuille), 2, Feuille)\n"
      ]
     },
     "execution_count": 6,
     "metadata": {},
     "output_type": "execute_result"
    }
   ],
   "source": [
    "let a0 = Feuille;;\n",
    "(*\n",
    "    1\n",
    "  /   \\\n",
    " F    F\n",
    "*)\n",
    "let a1 = Noeud(a0, 1, a0);;\n",
    "(*\n",
    "       2\n",
    "     /   \\\n",
    "    1     F\n",
    "  /   \\\n",
    " F    F\n",
    "*)\n",
    "let a2 = Noeud(a1, 2, a0);;"
   ]
  },
  {
   "cell_type": "code",
   "execution_count": 7,
   "metadata": {
    "ExecuteTime": {
     "end_time": "2021-02-14T15:08:14.212800Z",
     "start_time": "2021-02-14T15:08:14.201Z"
    },
    "slideshow": {
     "slide_type": "subslide"
    }
   },
   "outputs": [
    {
     "data": {
      "text/plain": [
       "val hauteur : 'a arbreBinaire -> int = <fun>\n"
      ]
     },
     "execution_count": 7,
     "metadata": {},
     "output_type": "execute_result"
    }
   ],
   "source": [
    "let rec hauteur (arbre: 'a arbreBinaire) : int =\n",
    "    match arbre with\n",
    "    | Feuille -> 0\n",
    "    | Noeud(g, _, d) -> 1 + max (hauteur g) (hauteur d)\n",
    ";;"
   ]
  },
  {
   "cell_type": "code",
   "execution_count": 8,
   "metadata": {
    "ExecuteTime": {
     "end_time": "2021-02-14T15:08:14.733700Z",
     "start_time": "2021-02-14T15:08:14.725Z"
    }
   },
   "outputs": [
    {
     "data": {
      "text/plain": [
       "- : int = 0\n"
      ]
     },
     "execution_count": 8,
     "metadata": {},
     "output_type": "execute_result"
    },
    {
     "data": {
      "text/plain": [
       "- : int = 1\n"
      ]
     },
     "execution_count": 8,
     "metadata": {},
     "output_type": "execute_result"
    },
    {
     "data": {
      "text/plain": [
       "- : int = 2\n"
      ]
     },
     "execution_count": 8,
     "metadata": {},
     "output_type": "execute_result"
    }
   ],
   "source": [
    "hauteur a0;;\n",
    "hauteur a1;;\n",
    "hauteur a2;;"
   ]
  },
  {
   "cell_type": "markdown",
   "metadata": {
    "slideshow": {
     "slide_type": "slide"
    }
   },
   "source": [
    "### Afficher des valeurs"
   ]
  },
  {
   "cell_type": "code",
   "execution_count": 18,
   "metadata": {
    "ExecuteTime": {
     "end_time": "2021-02-14T15:15:40.459600Z",
     "start_time": "2021-02-14T15:15:40.453Z"
    }
   },
   "outputs": [
    {
     "data": {
      "text/plain": [
       "- : unit = ()\n"
      ]
     },
     "execution_count": 18,
     "metadata": {},
     "output_type": "execute_result"
    }
   ],
   "source": [
    "print_string \"Hello world from jupyter-ocaml\";;"
   ]
  },
  {
   "cell_type": "code",
   "execution_count": 19,
   "metadata": {
    "ExecuteTime": {
     "end_time": "2021-02-14T15:15:40.758600Z",
     "start_time": "2021-02-14T15:15:40.754Z"
    }
   },
   "outputs": [
    {
     "data": {
      "text/plain": [
       "- : unit = ()\n"
      ]
     },
     "execution_count": 19,
     "metadata": {},
     "output_type": "execute_result"
    }
   ],
   "source": [
    "flush_all();;"
   ]
  },
  {
   "cell_type": "code",
   "execution_count": 20,
   "metadata": {
    "ExecuteTime": {
     "end_time": "2021-02-14T15:15:41.086800Z",
     "start_time": "2021-02-14T15:15:41.083Z"
    }
   },
   "outputs": [
    {
     "name": "stdout",
     "output_type": "stream",
     "text": [
      "Hello world from jupyter-ocamlHello world from jupyter-ocaml\n"
     ]
    },
    {
     "data": {
      "text/plain": [
       "- : unit = ()\n"
      ]
     },
     "execution_count": 20,
     "metadata": {},
     "output_type": "execute_result"
    }
   ],
   "source": [
    "print_endline \"Hello world from jupyter-ocaml\";;"
   ]
  },
  {
   "cell_type": "markdown",
   "metadata": {
    "slideshow": {
     "slide_type": "subslide"
    }
   },
   "source": [
    "Ce comportement est assez perturbant avec `jupyter-ocaml`, [cf ce ticket](https://github.com/akabe/ocaml-jupyter/issues/162)."
   ]
  },
  {
   "cell_type": "code",
   "execution_count": 21,
   "metadata": {
    "ExecuteTime": {
     "end_time": "2021-02-14T15:15:44.400000Z",
     "start_time": "2021-02-14T15:15:44.393Z"
    }
   },
   "outputs": [
    {
     "name": "stdout",
     "output_type": "stream",
     "text": [
      "Hello world from jupyter-ocaml\n"
     ]
    },
    {
     "data": {
      "text/plain": [
       "- : unit = ()\n"
      ]
     },
     "execution_count": 21,
     "metadata": {},
     "output_type": "execute_result"
    }
   ],
   "source": [
    "print_endline \"Hello world from jupyter-ocaml\";;"
   ]
  },
  {
   "cell_type": "markdown",
   "metadata": {
    "slideshow": {
     "slide_type": "subslide"
    }
   },
   "source": [
    "Avec [`Printf.printf`](http://caml.inria.fr/pub/docs/manual-ocaml/libref/Printf.html#VALprintf), c'est encore plus facile :"
   ]
  },
  {
   "cell_type": "code",
   "execution_count": 22,
   "metadata": {
    "ExecuteTime": {
     "end_time": "2021-02-14T15:17:39.604700Z",
     "start_time": "2021-02-14T15:17:39.586Z"
    }
   },
   "outputs": [
    {
     "data": {
      "text/plain": [
       "val print : ('a, out_channel, unit) format -> 'a = <fun>\n"
      ]
     },
     "execution_count": 22,
     "metadata": {},
     "output_type": "execute_result"
    }
   ],
   "source": [
    "let print = Printf.printf ;;"
   ]
  },
  {
   "cell_type": "code",
   "execution_count": 23,
   "metadata": {
    "ExecuteTime": {
     "end_time": "2021-02-14T15:18:09.045100Z",
     "start_time": "2021-02-14T15:18:09.030Z"
    }
   },
   "outputs": [
    {
     "data": {
      "text/plain": [
       "- : unit = ()\n"
      ]
     },
     "execution_count": 23,
     "metadata": {},
     "output_type": "execute_result"
    }
   ],
   "source": [
    "print \"Hello world from jupyter-ocaml\\n%d + %d = %d\\n\" 1 2 (1 + 2);;"
   ]
  },
  {
   "cell_type": "code",
   "execution_count": 24,
   "metadata": {
    "ExecuteTime": {
     "end_time": "2021-02-14T15:18:15.133500Z",
     "start_time": "2021-02-14T15:18:15.128Z"
    }
   },
   "outputs": [
    {
     "name": "stdout",
     "output_type": "stream",
     "text": [
      "Hello world from jupyter-ocaml\n",
      "1 + 2 = 3\n"
     ]
    },
    {
     "data": {
      "text/plain": [
       "- : unit = ()\n"
      ]
     },
     "execution_count": 24,
     "metadata": {},
     "output_type": "execute_result"
    }
   ],
   "source": [
    "flush_all();;"
   ]
  },
  {
   "cell_type": "markdown",
   "metadata": {
    "slideshow": {
     "slide_type": "subslide"
    }
   },
   "source": [
    "Avec une fonction autour de [`Printf.printf`](http://caml.inria.fr/pub/docs/manual-ocaml/libref/Printf.html#VALprintf), c'est encore encore plus facile :"
   ]
  },
  {
   "cell_type": "code",
   "execution_count": 32,
   "metadata": {
    "ExecuteTime": {
     "end_time": "2021-02-14T15:22:31.223800Z",
     "start_time": "2021-02-14T15:22:31.218Z"
    }
   },
   "outputs": [
    {
     "data": {
      "text/plain": [
       "val print : string -> unit = <fun>\n"
      ]
     },
     "execution_count": 32,
     "metadata": {},
     "output_type": "execute_result"
    }
   ],
   "source": [
    "let print s =\n",
    "    print_endline s ;\n",
    "    flush_all ()\n",
    ";;"
   ]
  },
  {
   "cell_type": "code",
   "execution_count": 40,
   "metadata": {
    "ExecuteTime": {
     "end_time": "2021-02-14T15:23:07.588700Z",
     "start_time": "2021-02-14T15:23:07.579Z"
    }
   },
   "outputs": [
    {
     "name": "stdout",
     "output_type": "stream",
     "text": [
      "Hello world from jupyter-ocaml\n",
      "1 + 2 = 3\n",
      "Hello world from jupyter-ocaml\n",
      "1 + 2 = 3\n",
      "Hello world from jupyter-ocaml\n",
      "1 + 2 = 3\n"
     ]
    },
    {
     "data": {
      "text/plain": [
       "- : unit = ()\n"
      ]
     },
     "execution_count": 40,
     "metadata": {},
     "output_type": "execute_result"
    }
   ],
   "source": [
    "for _ = 1 to 3 do\n",
    "    print (Printf.sprintf \"Hello world from jupyter-ocaml\\n%d + %d = %d\" 1 2 (1 + 2))\n",
    "done;;"
   ]
  },
  {
   "cell_type": "markdown",
   "metadata": {
    "slideshow": {
     "slide_type": "slide"
    }
   },
   "source": [
    "### Figures avec TikZ\n",
    "\n",
    "Voir <https://github.com/jbn/itikz>"
   ]
  },
  {
   "cell_type": "code",
   "execution_count": 1,
   "metadata": {
    "ExecuteTime": {
     "end_time": "2021-02-14T15:33:15.877800Z",
     "start_time": "2021-02-14T15:33:15.873Z"
    }
   },
   "outputs": [
    {
     "ename": "error",
     "evalue": "compile_error",
     "output_type": "error",
     "traceback": [
      "\u001b[32mFile \"[1]\", line 1, characters 0-1:\n\u001b[31mError: Syntax error\n\u001b[36m   1: \u001b[30m\u001b[4m%\u001b[0m\u001b[30mload_ext itikz\u001b[0m\n"
     ]
    }
   ],
   "source": [
    "%load_ext itikz"
   ]
  },
  {
   "cell_type": "markdown",
   "metadata": {},
   "source": [
    "Il n'est pas *encore* possible d'utiliser des \"magic commands\" de IPython dans d'autres langages.\n",
    "J'ai ouvert ces tickets : [#164](https://github.com/akabe/ocaml-jupyter/issues/164) et [#165](https://github.com/akabe/ocaml-jupyter/issues/165) sur [le projet ocaml-jupyter sur GitHub](https://github.com/akabe/ocaml-jupyter/).\n",
    "\n",
    "Une solution intermédiaire, et assez facile d'utilisation en fait, est de temporairement changer le \"kernel\" pour utiliser Python, générer les figures, puis repasser à OCaml !"
   ]
  },
  {
   "cell_type": "code",
   "execution_count": 1,
   "metadata": {
    "ExecuteTime": {
     "end_time": "2021-02-14T16:28:02.148267Z",
     "start_time": "2021-02-14T16:28:02.118603Z"
    },
    "slideshow": {
     "slide_type": "subslide"
    }
   },
   "outputs": [],
   "source": [
    "%load_ext itikz"
   ]
  },
  {
   "cell_type": "code",
   "execution_count": 2,
   "metadata": {
    "ExecuteTime": {
     "end_time": "2021-02-14T16:28:04.983036Z",
     "start_time": "2021-02-14T16:28:04.953999Z"
    },
    "slideshow": {
     "slide_type": "-"
    }
   },
   "outputs": [
    {
     "data": {
      "image/svg+xml": [
       "<svg height=\"141.931pt\" version=\"1.1\" viewBox=\"0 0 141.931 141.931\" width=\"141.931pt\" xmlns=\"http://www.w3.org/2000/svg\" xmlns:xlink=\"http://www.w3.org/1999/xlink\">\n",
       "<defs>\n",
       "<clipPath id=\"clip1\">\n",
       "  <path d=\"M 0 0 L 141.929688 0 L 141.929688 141.929688 L 0 141.929688 Z M 0 0 \"/>\n",
       "</clipPath>\n",
       "</defs>\n",
       "<g id=\"surface1\">\n",
       "<g clip-path=\"url(#clip1)\" clip-rule=\"nonzero\">\n",
       "<path d=\"M 0.0015625 -0.00103125 L 141.735938 -0.00103125 M 0.0015625 28.346625 L 141.735938 28.346625 M 0.0015625 56.694281 L 141.735938 56.694281 M 0.0015625 85.041938 L 141.735938 85.041938 M 0.0015625 113.385688 L 141.735938 113.385688 M 0.0015625 141.725531 L 141.735938 141.725531 M 0.0015625 -0.00103125 L 0.0015625 141.733344 M 28.345312 -0.00103125 L 28.345312 141.733344 M 56.692969 -0.00103125 L 56.692969 141.733344 M 85.040625 -0.00103125 L 85.040625 141.733344 M 113.388281 -0.00103125 L 113.388281 141.733344 M 141.724219 -0.00103125 L 141.724219 141.733344 \" style=\"fill:none;stroke-width:0.19925;stroke-linecap:butt;stroke-linejoin:miter;stroke:rgb(50%,50%,50%);stroke-opacity:1;stroke-miterlimit:10;\" transform=\"matrix(1,0,0,-1,0.1,141.831)\"/>\n",
       "</g>\n",
       "<path d=\"M 28.345312 28.346625 L 28.345312 56.694281 L 56.692969 56.694281 L 56.692969 28.346625 Z M 28.345312 28.346625 \" style=\"fill-rule:nonzero;fill:rgb(99.253845%,90.000916%,95.489502%);fill-opacity:1;stroke-width:0.3985;stroke-linecap:butt;stroke-linejoin:miter;stroke:rgb(0%,0%,0%);stroke-opacity:1;stroke-miterlimit:10;\" transform=\"matrix(1,0,0,-1,0.1,141.831)\"/>\n",
       "<path d=\"M 56.692969 28.346625 L 56.692969 56.694281 L 85.040625 56.694281 L 85.040625 28.346625 Z M 56.692969 28.346625 \" style=\"fill-rule:nonzero;fill:rgb(99.253845%,90.000916%,95.489502%);fill-opacity:1;stroke-width:0.3985;stroke-linecap:butt;stroke-linejoin:miter;stroke:rgb(0%,0%,0%);stroke-opacity:1;stroke-miterlimit:10;\" transform=\"matrix(1,0,0,-1,0.1,141.831)\"/>\n",
       "<path d=\"M 85.040625 28.346625 L 85.040625 56.694281 L 113.388281 56.694281 L 113.388281 28.346625 Z M 85.040625 28.346625 \" style=\"fill-rule:nonzero;fill:rgb(99.253845%,90.000916%,95.489502%);fill-opacity:1;stroke-width:0.3985;stroke-linecap:butt;stroke-linejoin:miter;stroke:rgb(0%,0%,0%);stroke-opacity:1;stroke-miterlimit:10;\" transform=\"matrix(1,0,0,-1,0.1,141.831)\"/>\n",
       "<path d=\"M 85.040625 56.694281 L 85.040625 85.041938 L 113.388281 85.041938 L 113.388281 56.694281 Z M 85.040625 56.694281 \" style=\"fill-rule:nonzero;fill:rgb(99.253845%,90.000916%,95.489502%);fill-opacity:1;stroke-width:0.3985;stroke-linecap:butt;stroke-linejoin:miter;stroke:rgb(0%,0%,0%);stroke-opacity:1;stroke-miterlimit:10;\" transform=\"matrix(1,0,0,-1,0.1,141.831)\"/>\n",
       "<path d=\"M 56.692969 85.041938 L 56.692969 113.385688 L 85.040625 113.385688 L 85.040625 85.041938 Z M 56.692969 85.041938 \" style=\"fill-rule:nonzero;fill:rgb(99.253845%,90.000916%,95.489502%);fill-opacity:1;stroke-width:0.3985;stroke-linecap:butt;stroke-linejoin:miter;stroke:rgb(0%,0%,0%);stroke-opacity:1;stroke-miterlimit:10;\" transform=\"matrix(1,0,0,-1,0.1,141.831)\"/>\n",
       "</g>\n",
       "</svg>"
      ],
      "text/plain": [
       "<IPython.core.display.SVG object>"
      ]
     },
     "execution_count": 2,
     "metadata": {},
     "output_type": "execute_result"
    }
   ],
   "source": [
    "%%itikz --file-prefix tikz-figures-from-OCaml- --implicit-pic\n",
    "\\draw[help lines] grid (5, 5);\n",
    "\\draw[fill=magenta!10] (1, 1) rectangle (2, 2);\n",
    "\\draw[fill=magenta!10] (2, 1) rectangle (3, 2);\n",
    "\\draw[fill=magenta!10] (3, 1) rectangle (4, 2);\n",
    "\\draw[fill=magenta!10] (3, 2) rectangle (4, 3);\n",
    "\\draw[fill=magenta!10] (2, 3) rectangle (3, 4);"
   ]
  },
  {
   "cell_type": "code",
   "execution_count": 7,
   "metadata": {
    "ExecuteTime": {
     "end_time": "2021-02-14T16:28:30.345659Z",
     "start_time": "2021-02-14T16:28:30.330761Z"
    },
    "code_folding": [
     0
    ],
    "slideshow": {
     "slide_type": "subslide"
    }
   },
   "outputs": [
    {
     "data": {
      "image/svg+xml": [
       "<svg height=\"77.821pt\" version=\"1.1\" viewBox=\"0 0 77.821 77.821\" width=\"77.821pt\" xmlns=\"http://www.w3.org/2000/svg\" xmlns:xlink=\"http://www.w3.org/1999/xlink\">\n",
       "<defs>\n",
       "<clipPath id=\"clip1\">\n",
       "  <path d=\"M 68 34 L 77.820312 34 L 77.820312 44 L 68 44 Z M 68 34 \"/>\n",
       "</clipPath>\n",
       "<clipPath id=\"clip2\">\n",
       "  <path d=\"M 62 28 L 77.820312 28 L 77.820312 50 L 62 50 Z M 62 28 \"/>\n",
       "</clipPath>\n",
       "<clipPath id=\"clip3\">\n",
       "  <path d=\"M 45 68 L 55 68 L 55 77.820312 L 45 77.820312 Z M 45 68 \"/>\n",
       "</clipPath>\n",
       "<clipPath id=\"clip4\">\n",
       "  <path d=\"M 39 62 L 61 62 L 61 77.820312 L 39 77.820312 Z M 39 62 \"/>\n",
       "</clipPath>\n",
       "<clipPath id=\"clip5\">\n",
       "  <path d=\"M 22 68 L 33 68 L 33 77.820312 L 22 77.820312 Z M 22 68 \"/>\n",
       "</clipPath>\n",
       "<clipPath id=\"clip6\">\n",
       "  <path d=\"M 17 62 L 38 62 L 38 77.820312 L 17 77.820312 Z M 17 62 \"/>\n",
       "</clipPath>\n",
       "</defs>\n",
       "<g id=\"surface1\">\n",
       "<path d=\"M 4.694469 -0.00015625 C 4.694469 2.593594 2.592906 4.695156 -0.00084375 4.695156 C -2.594594 4.695156 -4.696156 2.593594 -4.696156 -0.00015625 C -4.696156 -2.593906 -2.594594 -4.695469 -0.00084375 -4.695469 C 2.592906 -4.695469 4.694469 -2.593906 4.694469 -0.00015625 Z M 4.694469 -0.00015625 \" style=\"fill:none;stroke-width:0.3985;stroke-linecap:butt;stroke-linejoin:miter;stroke:rgb(0%,0%,0%);stroke-opacity:1;stroke-miterlimit:10;\" transform=\"matrix(1,0,0,-1,38.911,38.91)\"/>\n",
       "<path d=\"M 4.694469 34.015469 C 4.694469 36.609219 2.592906 38.710781 -0.00084375 38.710781 C -2.594594 38.710781 -4.696156 36.609219 -4.696156 34.015469 C -4.696156 31.421719 -2.594594 29.320156 -0.00084375 29.320156 C 2.592906 29.320156 4.694469 31.421719 4.694469 34.015469 Z M 4.694469 34.015469 \" style=\"fill-rule:nonzero;fill:rgb(0%,100%,0%);fill-opacity:1;stroke-width:0.3985;stroke-linecap:butt;stroke-linejoin:miter;stroke:rgb(0%,0%,0%);stroke-opacity:1;stroke-miterlimit:10;\" transform=\"matrix(1,0,0,-1,38.911,38.91)\"/>\n",
       "<path d=\"M 27.374156 22.675625 C 27.374156 25.269375 25.272594 27.374844 22.678844 27.374844 C 20.085094 27.374844 17.979625 25.269375 17.979625 22.675625 C 17.979625 20.081875 20.085094 17.980313 22.678844 17.980313 C 25.272594 17.980313 27.374156 20.081875 27.374156 22.675625 Z M 27.374156 22.675625 \" style=\"fill-rule:nonzero;fill:rgb(0%,100%,0%);fill-opacity:1;stroke-width:0.3985;stroke-linecap:butt;stroke-linejoin:miter;stroke:rgb(0%,0%,0%);stroke-opacity:1;stroke-miterlimit:10;\" transform=\"matrix(1,0,0,-1,38.911,38.91)\"/>\n",
       "<g clip-path=\"url(#clip1)\" clip-rule=\"nonzero\">\n",
       "<path d=\"M 77.621094 38.910156 C 77.621094 36.316406 75.519531 34.214844 72.925781 34.214844 C 70.332031 34.214844 68.230469 36.316406 68.230469 38.910156 C 68.230469 41.503906 70.332031 43.605469 72.925781 43.605469 C 75.519531 43.605469 77.621094 41.503906 77.621094 38.910156 Z M 77.621094 38.910156 \" style=\" stroke:none;fill-rule:nonzero;fill:rgb(0%,100%,0%);fill-opacity:1;\"/>\n",
       "</g>\n",
       "<g clip-path=\"url(#clip2)\" clip-rule=\"nonzero\">\n",
       "<path d=\"M 38.710094 -0.00015625 C 38.710094 2.593594 36.608531 4.695156 34.014781 4.695156 C 31.421031 4.695156 29.319469 2.593594 29.319469 -0.00015625 C 29.319469 -2.593906 31.421031 -4.695469 34.014781 -4.695469 C 36.608531 -4.695469 38.710094 -2.593906 38.710094 -0.00015625 Z M 38.710094 -0.00015625 \" style=\"fill:none;stroke-width:0.3985;stroke-linecap:butt;stroke-linejoin:miter;stroke:rgb(0%,0%,0%);stroke-opacity:1;stroke-miterlimit:10;\" transform=\"matrix(1,0,0,-1,38.911,38.91)\"/>\n",
       "</g>\n",
       "<path d=\"M 27.374156 -22.675937 C 27.374156 -20.082187 25.272594 -17.980625 22.678844 -17.980625 C 20.085094 -17.980625 17.979625 -20.082187 17.979625 -22.675937 C 17.979625 -25.269687 20.085094 -27.375156 22.678844 -27.375156 C 25.272594 -27.375156 27.374156 -25.269687 27.374156 -22.675937 Z M 27.374156 -22.675937 \" style=\"fill-rule:nonzero;fill:rgb(0%,100%,0%);fill-opacity:1;stroke-width:0.3985;stroke-linecap:butt;stroke-linejoin:miter;stroke:rgb(0%,0%,0%);stroke-opacity:1;stroke-miterlimit:10;\" transform=\"matrix(1,0,0,-1,38.911,38.91)\"/>\n",
       "<g clip-path=\"url(#clip3)\" clip-rule=\"nonzero\">\n",
       "<path d=\"M 54.945312 72.925781 C 54.945312 70.332031 52.84375 68.230469 50.25 68.230469 C 47.65625 68.230469 45.554688 70.332031 45.554688 72.925781 C 45.554688 75.519531 47.65625 77.621094 50.25 77.621094 C 52.84375 77.621094 54.945312 75.519531 54.945312 72.925781 Z M 54.945312 72.925781 \" style=\" stroke:none;fill-rule:nonzero;fill:rgb(0%,100%,0%);fill-opacity:1;\"/>\n",
       "</g>\n",
       "<g clip-path=\"url(#clip4)\" clip-rule=\"nonzero\">\n",
       "<path d=\"M 16.034313 -34.015781 C 16.034313 -31.422031 13.93275 -29.320469 11.339 -29.320469 C 8.74525 -29.320469 6.643688 -31.422031 6.643688 -34.015781 C 6.643688 -36.609531 8.74525 -38.711094 11.339 -38.711094 C 13.93275 -38.711094 16.034313 -36.609531 16.034313 -34.015781 Z M 16.034313 -34.015781 \" style=\"fill:none;stroke-width:0.3985;stroke-linecap:butt;stroke-linejoin:miter;stroke:rgb(0%,0%,0%);stroke-opacity:1;stroke-miterlimit:10;\" transform=\"matrix(1,0,0,-1,38.911,38.91)\"/>\n",
       "</g>\n",
       "<g clip-path=\"url(#clip5)\" clip-rule=\"nonzero\">\n",
       "<path d=\"M 32.269531 72.925781 C 32.269531 70.332031 30.167969 68.230469 27.574219 68.230469 C 24.980469 68.230469 22.875 70.332031 22.875 72.925781 C 22.875 75.519531 24.980469 77.621094 27.574219 77.621094 C 30.167969 77.621094 32.269531 75.519531 32.269531 72.925781 Z M 32.269531 72.925781 \" style=\" stroke:none;fill-rule:nonzero;fill:rgb(0%,100%,0%);fill-opacity:1;\"/>\n",
       "</g>\n",
       "<g clip-path=\"url(#clip6)\" clip-rule=\"nonzero\">\n",
       "<path d=\"M -6.641469 -34.015781 C -6.641469 -31.422031 -8.743031 -29.320469 -11.336781 -29.320469 C -13.930531 -29.320469 -16.036 -31.422031 -16.036 -34.015781 C -16.036 -36.609531 -13.930531 -38.711094 -11.336781 -38.711094 C -8.743031 -38.711094 -6.641469 -36.609531 -6.641469 -34.015781 Z M -6.641469 -34.015781 \" style=\"fill:none;stroke-width:0.3985;stroke-linecap:butt;stroke-linejoin:miter;stroke:rgb(0%,0%,0%);stroke-opacity:1;stroke-miterlimit:10;\" transform=\"matrix(1,0,0,-1,38.911,38.91)\"/>\n",
       "</g>\n",
       "<path d=\"M -17.981312 -22.675937 C -17.981312 -20.082187 -20.082875 -17.980625 -22.676625 -17.980625 C -25.270375 -17.980625 -27.371937 -20.082187 -27.371937 -22.675937 C -27.371937 -25.269687 -25.270375 -27.375156 -22.676625 -27.375156 C -20.082875 -27.375156 -17.981312 -25.269687 -17.981312 -22.675937 Z M -17.981312 -22.675937 \" style=\"fill-rule:nonzero;fill:rgb(0%,100%,0%);fill-opacity:1;stroke-width:0.3985;stroke-linecap:butt;stroke-linejoin:miter;stroke:rgb(0%,0%,0%);stroke-opacity:1;stroke-miterlimit:10;\" transform=\"matrix(1,0,0,-1,38.911,38.91)\"/>\n",
       "<path d=\"M -29.321156 -0.00015625 C -29.321156 2.593594 -31.422719 4.695156 -34.016469 4.695156 C -36.610219 4.695156 -38.711781 2.593594 -38.711781 -0.00015625 C -38.711781 -2.593906 -36.610219 -4.695469 -34.016469 -4.695469 C -31.422719 -4.695469 -29.321156 -2.593906 -29.321156 -0.00015625 Z M -29.321156 -0.00015625 \" style=\"fill-rule:nonzero;fill:rgb(0%,100%,0%);fill-opacity:1;stroke-width:0.3985;stroke-linecap:butt;stroke-linejoin:miter;stroke:rgb(0%,0%,0%);stroke-opacity:1;stroke-miterlimit:10;\" transform=\"matrix(1,0,0,-1,38.911,38.91)\"/>\n",
       "<path d=\"M -17.981312 22.675625 C -17.981312 25.269375 -20.082875 27.374844 -22.676625 27.374844 C -25.270375 27.374844 -27.371937 25.269375 -27.371937 22.675625 C -27.371937 20.081875 -25.270375 17.980313 -22.676625 17.980313 C -20.082875 17.980313 -17.981312 20.081875 -17.981312 22.675625 Z M -17.981312 22.675625 \" style=\"fill-rule:nonzero;fill:rgb(0%,100%,0%);fill-opacity:1;stroke-width:0.3985;stroke-linecap:butt;stroke-linejoin:miter;stroke:rgb(0%,0%,0%);stroke-opacity:1;stroke-miterlimit:10;\" transform=\"matrix(1,0,0,-1,38.911,38.91)\"/>\n",
       "<path d=\"M -19.215687 19.214688 L -3.461781 3.460781 \" style=\"fill:none;stroke-width:0.3985;stroke-linecap:butt;stroke-linejoin:miter;stroke:rgb(0%,0%,0%);stroke-opacity:1;stroke-miterlimit:10;\" transform=\"matrix(1,0,0,-1,38.911,38.91)\"/>\n",
       "<path d=\"M -0.00084375 29.120938 L -0.00084375 4.894375 \" style=\"fill:none;stroke-width:0.3985;stroke-linecap:butt;stroke-linejoin:miter;stroke:rgb(0%,0%,0%);stroke-opacity:1;stroke-miterlimit:10;\" transform=\"matrix(1,0,0,-1,38.911,38.91)\"/>\n",
       "<path d=\"M 19.214 19.214688 L 3.464 3.460781 \" style=\"fill:none;stroke-width:0.3985;stroke-linecap:butt;stroke-linejoin:miter;stroke:rgb(0%,0%,0%);stroke-opacity:1;stroke-miterlimit:10;\" transform=\"matrix(1,0,0,-1,38.911,38.91)\"/>\n",
       "<path d=\"M 19.214 -19.215 L 3.464 -3.461094 \" style=\"fill:none;stroke-width:0.3985;stroke-linecap:butt;stroke-linejoin:miter;stroke:rgb(0%,0%,0%);stroke-opacity:1;stroke-miterlimit:10;\" transform=\"matrix(1,0,0,-1,38.911,38.91)\"/>\n",
       "<path d=\"M 9.788219 -29.367344 L 1.549938 -4.648594 \" style=\"fill:none;stroke-width:0.3985;stroke-linecap:butt;stroke-linejoin:miter;stroke:rgb(0%,0%,0%);stroke-opacity:1;stroke-miterlimit:10;\" transform=\"matrix(1,0,0,-1,38.911,38.91)\"/>\n",
       "<path d=\"M -9.789906 -29.367344 L -1.551625 -4.648594 \" style=\"fill:none;stroke-width:0.3985;stroke-linecap:butt;stroke-linejoin:miter;stroke:rgb(0%,0%,0%);stroke-opacity:1;stroke-miterlimit:10;\" transform=\"matrix(1,0,0,-1,38.911,38.91)\"/>\n",
       "<path d=\"M -19.215687 -19.215 L -3.461781 -3.461094 \" style=\"fill:none;stroke-width:0.3985;stroke-linecap:butt;stroke-linejoin:miter;stroke:rgb(0%,0%,0%);stroke-opacity:1;stroke-miterlimit:10;\" transform=\"matrix(1,0,0,-1,38.911,38.91)\"/>\n",
       "<path d=\"M -4.895375 -0.00015625 L -29.121937 -0.00015625 \" style=\"fill:none;stroke-width:0.3985;stroke-linecap:butt;stroke-linejoin:miter;stroke:rgb(0%,0%,0%);stroke-opacity:1;stroke-miterlimit:10;\" transform=\"matrix(1,0,0,-1,38.911,38.91)\"/>\n",
       "<path d=\"M 4.897594 -0.00015625 L 29.12025 -0.00015625 \" style=\"fill:none;stroke-width:0.3985;stroke-linecap:butt;stroke-linejoin:miter;stroke:rgb(0%,0%,0%);stroke-opacity:1;stroke-miterlimit:10;\" transform=\"matrix(1,0,0,-1,38.911,38.91)\"/>\n",
       "</g>\n",
       "</svg>"
      ],
      "text/plain": [
       "<IPython.core.display.SVG object>"
      ]
     },
     "execution_count": 7,
     "metadata": {},
     "output_type": "execute_result"
    }
   ],
   "source": [
    "%%itikz --file-prefix tikz-figures-from-OCaml- --implicit-pic --scale=0.4\n",
    "\\tikzstyle{vertexcover} = [circle,fill=green,draw];\n",
    "\\tikzstyle{matching} = [ draw=blue!55, line width=5];\n",
    "\\tikzstyle{matchingN} = [ draw=green!55, line width=5];\n",
    "\\tikzstyle{vertex} = [circle,fill=none,draw];\n",
    "\\node[vertex] (v2) at (0,0) {};\n",
    "\\node[vertexcover] (v3) at (0,3) {};\n",
    "\\node[vertexcover] (v4) at (2,2) {};\n",
    "\\node[vertexcover] (v11) at (3,0) {};\n",
    "\\node[vertexcover] (v5) at (2,-2) {};\n",
    "\\node[vertexcover] (v6) at (1,-3) {};\n",
    "\\node[vertexcover] (v8) at (-1,-3) {};\n",
    "\\node[vertexcover] (v9) at (-2,-2) {};\n",
    "\\node[vertexcover] (v10) at (-3,0) {};\n",
    "\\node[vertexcover] (v1) at (-2,2) {};\n",
    "\\draw  (v1) edge (v2);\n",
    "\\draw  (v3) edge (v2);\n",
    "\\draw  (v4) edge (v2);\n",
    "\\draw  (v5) edge (v2);\n",
    "\\draw  (v6) edge (v2);\n",
    "\\draw  (v8) edge (v2);\n",
    "\\draw  (v9) edge (v2);\n",
    "\\draw  (v2) edge (v10);\n",
    "\\draw  (v2) edge (v11);"
   ]
  },
  {
   "cell_type": "code",
   "execution_count": 6,
   "metadata": {
    "ExecuteTime": {
     "end_time": "2021-02-14T16:28:24.104577Z",
     "start_time": "2021-02-14T16:28:23.983182Z"
    }
   },
   "outputs": [
    {
     "name": "stdout",
     "output_type": "stream",
     "text": [
      "tikz-figures-from-OCaml-c33720202396643581aed22f595383d4.svg\r\n",
      "tikz-figures-from-OCaml-c33720202396643581aed22f595383d4.tex\r\n",
      "tikz-figures-from-OCaml-f9a50e84b7fbf18e85525cc31a91a070.svg\r\n",
      "tikz-figures-from-OCaml-f9a50e84b7fbf18e85525cc31a91a070.tex\r\n"
     ]
    }
   ],
   "source": [
    "!ls tikz-figures-from-OCaml-*"
   ]
  },
  {
   "cell_type": "markdown",
   "metadata": {
    "slideshow": {
     "slide_type": "slide"
    }
   },
   "source": [
    "### IPython magic, en OCaml avec un hack ?\n",
    "\n",
    "Les commandes [IPython magic](https://ipython.readthedocs.io/en/stable/interactive/magics.html), comme utilisées ci-dessus (en basculant au kernel Python pour ces quelques cellules) sont très pratiques.\n",
    "\n",
    "Un autre avantage sont les raccourcis, comme ceux là :"
   ]
  },
  {
   "cell_type": "code",
   "execution_count": 3,
   "metadata": {
    "ExecuteTime": {
     "end_time": "2021-02-14T15:48:24.071814Z",
     "start_time": "2021-02-14T15:48:23.832025Z"
    }
   },
   "outputs": [
    {
     "name": "stdout",
     "output_type": "stream",
     "text": [
      "'Exemple de notebook avec OCaml.ipynb'\n",
      "/home/lilian/publis/Info-Prepas-MP2I/Modele-de-livre-avec-Jupyter-Book.git/notebooks\n"
     ]
    }
   ],
   "source": [
    "# cette cellule doit être exécutée avec le kernel Python\n",
    "!ls *OCaml*nb\n",
    "!pwd"
   ]
  },
  {
   "cell_type": "markdown",
   "metadata": {
    "slideshow": {
     "slide_type": "subslide"
    }
   },
   "source": [
    "Pour certains commandes basiques, peut-être qu'on peut tricher un peu ?"
   ]
  },
  {
   "cell_type": "code",
   "execution_count": 5,
   "metadata": {
    "ExecuteTime": {
     "end_time": "2021-02-14T15:49:38.709400Z",
     "start_time": "2021-02-14T15:49:38.705Z"
    }
   },
   "outputs": [
    {
     "data": {
      "text/plain": [
       "val ( ! ) : string -> int = <fun>\n"
      ]
     },
     "execution_count": 5,
     "metadata": {},
     "output_type": "execute_result"
    }
   ],
   "source": [
    "let (! ) s =\n",
    "    (* Sys.command (\"echo \"^s); *)\n",
    "    Sys.command (s)\n",
    ";;"
   ]
  },
  {
   "cell_type": "code",
   "execution_count": 10,
   "metadata": {
    "ExecuteTime": {
     "end_time": "2021-02-14T15:50:00.639200Z",
     "start_time": "2021-02-14T15:50:00.629Z"
    }
   },
   "outputs": [
    {
     "name": "stdout",
     "output_type": "stream",
     "text": [
      "Exemple de notebook avec OCaml.ipynb\n"
     ]
    },
    {
     "data": {
      "text/plain": [
       "- : int = 0\n"
      ]
     },
     "execution_count": 10,
     "metadata": {},
     "output_type": "execute_result"
    },
    {
     "name": "stdout",
     "output_type": "stream",
     "text": [
      "/home/lilian/publis/Info-Prepas-MP2I/Modele-de-livre-avec-Jupyter-Book.git/notebooks\n"
     ]
    },
    {
     "data": {
      "text/plain": [
       "- : int = 0\n"
      ]
     },
     "execution_count": 10,
     "metadata": {},
     "output_type": "execute_result"
    }
   ],
   "source": [
    "!\"ls *OCaml*nb\";;\n",
    "!\"pwd\";;"
   ]
  },
  {
   "cell_type": "markdown",
   "metadata": {
    "slideshow": {
     "slide_type": "subslide"
    }
   },
   "source": [
    "On pourrait envisager de faire pareil pour d'autres \"cell magics\", en ouvrant un terminal IPython sous-jacent, avec `Sys.command`, et en lui envoyant le code de la cellule, puis en récupérant la sortie, et afficher la sortie comme une sortie normale, avec [`Jupyter_notebook.display`](https://akabe.github.io/ocaml-jupyter/api/jupyter/Jupyter_notebook/#val-display).\n",
    "\n",
    "Je ne pense pas avoir le temps de bidouiller tout ça..."
   ]
  },
  {
   "cell_type": "markdown",
   "metadata": {
    "slideshow": {
     "slide_type": "slide"
    }
   },
   "source": [
    "### D'autres exemples ?\n",
    "\n",
    "TODO: plus tard !"
   ]
  },
  {
   "cell_type": "markdown",
   "metadata": {
    "slideshow": {
     "slide_type": "slide"
    }
   },
   "source": [
    "## Pour en apprendre plus\n",
    "\n",
    "- Ce petit tutoriel : <https://perso.crans.org/besson/apprendre-python.fr.html> (sous licence GPLv3) ;\n",
    "- Ce WikiBooks : <https://fr.wikibooks.org/wiki/Programmation_Python> (sous licence libre) ;\n",
    "- Ces deux livres de Python au niveau lycée : <https://github.com/exo7math/python1-exo7> et <https://github.com/exo7math/python2-exo7> (sous licence Creative Commons)."
   ]
  }
 ],
 "metadata": {
  "celltoolbar": "Diaporama",
  "kernelspec": {
   "display_name": "OCaml 4.05.0",
   "language": "OCaml",
   "name": "ocaml-jupyter"
  },
  "language_info": {
   "codemirror_mode": "text/x-ocaml",
   "file_extension": ".ml",
   "mimetype": "text/x-ocaml",
   "name": "OCaml",
   "nbconverter_exporter": null,
   "pygments_lexer": "OCaml",
   "version": "4.05.0"
  },
  "toc": {
   "base_numbering": 1,
   "nav_menu": {},
   "number_sections": true,
   "sideBar": true,
   "skip_h1_title": false,
   "title_cell": "Table of Contents",
   "title_sidebar": "Contents",
   "toc_cell": false,
   "toc_position": {},
   "toc_section_display": true,
   "toc_window_display": false
  },
  "varInspector": {
   "cols": {
    "lenName": 16,
    "lenType": 16,
    "lenVar": 40
   },
   "kernels_config": {
    "python": {
     "delete_cmd_postfix": "",
     "delete_cmd_prefix": "del ",
     "library": "var_list.py",
     "varRefreshCmd": "print(var_dic_list())"
    },
    "r": {
     "delete_cmd_postfix": ") ",
     "delete_cmd_prefix": "rm(",
     "library": "var_list.r",
     "varRefreshCmd": "cat(var_dic_list()) "
    }
   },
   "types_to_exclude": [
    "module",
    "function",
    "builtin_function_or_method",
    "instance",
    "_Feature"
   ],
   "window_display": false
  },
  "widgets": {
   "application/vnd.jupyter.widget-state+json": {
    "state": {},
    "version_major": 2,
    "version_minor": 0
   }
  }
 },
 "nbformat": 4,
 "nbformat_minor": 5
}
