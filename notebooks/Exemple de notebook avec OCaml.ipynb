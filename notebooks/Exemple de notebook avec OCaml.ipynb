{
 "cells": [
  {
   "cell_type": "markdown",
   "id": "exciting-mitchell",
   "metadata": {},
   "source": [
    "# Exemple de notebook avec OCaml"
   ]
  },
  {
   "cell_type": "markdown",
   "id": "loved-profession",
   "metadata": {},
   "source": [
    "## Explications\n",
    "\n",
    "Le kernel OCaml n'est pas installé par défaut avec Jupyter.\n",
    "\n",
    "Il faut installer OPAM, puis [ocaml-jupyter](https://github.com/akabe/ocaml-jupyter/)."
   ]
  },
  {
   "cell_type": "markdown",
   "id": "posted-reporter",
   "metadata": {},
   "source": [
    "## Exemples"
   ]
  },
  {
   "cell_type": "code",
   "execution_count": 1,
   "id": "stable-hygiene",
   "metadata": {
    "ExecuteTime": {
     "end_time": "2021-02-08T22:21:36.644600Z",
     "start_time": "2021-02-08T22:21:36.588Z"
    }
   },
   "outputs": [
    {
     "output_type": "stream",
     "name": "stdout",
     "text": [
      "The OCaml toplevel, version 4.05.0\n"
     ]
    },
    {
     "output_type": "execute_result",
     "data": {
      "text/plain": [
       "- : int = 0\n"
      ]
     },
     "metadata": {},
     "execution_count": 1
    }
   ],
   "source": [
    "Sys.command \"ocaml -version\";;"
   ]
  },
  {
   "cell_type": "code",
   "execution_count": 2,
   "id": "suspended-france",
   "metadata": {
    "ExecuteTime": {
     "end_time": "2021-02-08T22:21:53.389100Z",
     "start_time": "2021-02-08T22:21:53.385Z"
    }
   },
   "outputs": [
    {
     "output_type": "stream",
     "name": "stdout",
     "text": [
      "Bonjour depuis OCaml !\n"
     ]
    },
    {
     "output_type": "execute_result",
     "data": {
      "text/plain": [
       "- : unit = ()\n"
      ]
     },
     "metadata": {},
     "execution_count": 2
    }
   ],
   "source": [
    "print_endline \"Bonjour depuis OCaml !\";;"
   ]
  },
  {
   "cell_type": "markdown",
   "id": "recognized-fitness",
   "metadata": {},
   "source": [
    "### Une fonction récursive\n",
    "\n",
    "Pour calculer la fonction $n! := 1 \\times 2 \\times \\dots \\times n$ ($n\\in\\mathbb{N}$), on peut penser à une solution récursive (qui coutera en espace mémoire à cause de la pile d'appel) et une solution impérative."
   ]
  },
  {
   "cell_type": "code",
   "execution_count": 1,
   "id": "micro-election",
   "metadata": {
    "ExecuteTime": {
     "end_time": "2021-02-08T22:23:34.221800Z",
     "start_time": "2021-02-08T22:23:34.214Z"
    }
   },
   "outputs": [
    {
     "output_type": "execute_result",
     "data": {
      "text/plain": [
       "val fact : int -> int = <fun>\n"
      ]
     },
     "metadata": {},
     "execution_count": 1
    }
   ],
   "source": [
    "let rec fact (n: int) : int =\n",
    "    match n with\n",
    "    | 0 -> 1\n",
    "    | n -> n * (fact (n-1))\n",
    ";;"
   ]
  },
  {
   "cell_type": "code",
   "execution_count": 4,
   "id": "placed-reproduction",
   "metadata": {
    "ExecuteTime": {
     "end_time": "2021-02-08T22:24:33.790100Z",
     "start_time": "2021-02-08T22:24:33.782Z"
    }
   },
   "outputs": [
    {
     "output_type": "stream",
     "name": "stdout",
     "text": [
      "fact(01) = 1\n",
      "fact(02) = 2\n",
      "fact(03) = 6\n",
      "fact(04) = 24\n",
      "fact(05) = 120\n",
      "fact(06) = 720\n",
      "fact(07) = 5040\n",
      "fact(08) = 40320\n",
      "fact(09) = 362880\n",
      "fact(10) = 3628800\n",
      "fact(11) = 39916800\n",
      "fact(12) = 479001600\n",
      "fact(13) = 6227020800\n",
      "fact(14) = 87178291200\n",
      "fact(15) = 1307674368000\n",
      "fact(16) = 20922789888000\n",
      "fact(17) = 355687428096000\n",
      "fact(18) = 6402373705728000\n",
      "fact(19) = 121645100408832000\n",
      "fact(20) = 2432902008176640000\n",
      "fact(21) = -4249290049419214848\n"
     ]
    },
    {
     "output_type": "execute_result",
     "data": {
      "text/plain": [
       "- : unit = ()\n"
      ]
     },
     "metadata": {},
     "execution_count": 4
    }
   ],
   "source": [
    "for i = 1 to 21 do\n",
    "    print_endline (Printf.sprintf \"fact(%.2i) = %i\" i (fact i))\n",
    "done;;\n"
   ]
  },
  {
   "source": [
    "Et la solution impérative :"
   ],
   "cell_type": "markdown",
   "metadata": {}
  },
  {
   "cell_type": "code",
   "execution_count": 6,
   "metadata": {},
   "outputs": [
    {
     "output_type": "execute_result",
     "data": {
      "text/plain": [
       "val fact_imp : int -> int = <fun>\n"
      ]
     },
     "metadata": {},
     "execution_count": 6
    }
   ],
   "source": [
    "let fact_imp (n: int) : int =\n",
    "    let f = ref 1 in\n",
    "    for i = 1 to n do\n",
    "        f := (!f) * i;\n",
    "    done;\n",
    "    !f\n",
    ";;"
   ]
  },
  {
   "cell_type": "code",
   "execution_count": 7,
   "metadata": {},
   "outputs": [
    {
     "output_type": "stream",
     "name": "stdout",
     "text": [
      "fact(01) = 1\n",
      "fact(02) = 2\n",
      "fact(03) = 6\n",
      "fact(04) = 24\n",
      "fact(05) = 120\n",
      "fact(06) = 720\n",
      "fact(07) = 5040\n",
      "fact(08) = 40320\n",
      "fact(09) = 362880\n",
      "fact(10) = 3628800\n",
      "fact(11) = 39916800\n",
      "fact(12) = 479001600\n",
      "fact(13) = 6227020800\n",
      "fact(14) = 87178291200\n",
      "fact(15) = 1307674368000\n",
      "fact(16) = 20922789888000\n",
      "fact(17) = 355687428096000\n",
      "fact(18) = 6402373705728000\n",
      "fact(19) = 121645100408832000\n",
      "fact(20) = 2432902008176640000\n",
      "fact(21) = -4249290049419214848\n"
     ]
    },
    {
     "output_type": "execute_result",
     "data": {
      "text/plain": [
       "- : unit = ()\n"
      ]
     },
     "metadata": {},
     "execution_count": 7
    }
   ],
   "source": [
    "for i = 1 to 21 do\n",
    "    print_endline (Printf.sprintf \"fact(%.2i) = %i\" i (fact_imp i))\n",
    "done;;\n"
   ]
  },
  {
   "source": [
    "Comme les entiers sont bornés, on dépasse la capacité assez rapidement, et les valeurs calculées deviennent fausses."
   ],
   "cell_type": "markdown",
   "metadata": {}
  },
  {
   "cell_type": "markdown",
   "id": "persistent-assumption",
   "metadata": {},
   "source": [
    "### Un type non paramétrique récursif et un exemple :"
   ]
  },
  {
   "cell_type": "code",
   "execution_count": 44,
   "id": "sustained-maintenance",
   "metadata": {
    "ExecuteTime": {
     "end_time": "2021-02-08T22:27:37.070300Z",
     "start_time": "2021-02-08T22:27:37.068Z"
    }
   },
   "outputs": [
    {
     "data": {
      "text/plain": [
       "type formulePropositionnelle =\n",
       "    Var of string\n",
       "  | Non of formulePropositionnelle\n",
       "  | Ou of (formulePropositionnelle * formulePropositionnelle)\n",
       "  | Et of (formulePropositionnelle * formulePropositionnelle)\n"
      ]
     },
     "execution_count": 44,
     "metadata": {},
     "output_type": "execute_result"
    }
   ],
   "source": [
    "type formulePropositionnelle =\n",
    "    | Var of string\n",
    "    | Non of formulePropositionnelle\n",
    "    | Ou of (formulePropositionnelle * formulePropositionnelle)\n",
    "    | Et of (formulePropositionnelle * formulePropositionnelle)\n",
    ";;"
   ]
  },
  {
   "cell_type": "code",
   "execution_count": 45,
   "id": "passing-sauce",
   "metadata": {
    "ExecuteTime": {
     "end_time": "2021-02-08T22:28:08.719100Z",
     "start_time": "2021-02-08T22:28:08.707Z"
    }
   },
   "outputs": [
    {
     "data": {
      "text/plain": [
       "val x : formulePropositionnelle = Var \"x\"\n",
       "val y : formulePropositionnelle = Var \"y\"\n",
       "val z : formulePropositionnelle = Var \"z\"\n"
      ]
     },
     "execution_count": 45,
     "metadata": {},
     "output_type": "execute_result"
    }
   ],
   "source": [
    "let x = Var(\"x\")\n",
    "and y = Var(\"y\")\n",
    "and z = Var(\"z\")\n",
    ";;"
   ]
  },
  {
   "cell_type": "code",
   "execution_count": 59,
   "id": "informative-reproduction",
   "metadata": {
    "ExecuteTime": {
     "end_time": "2021-02-08T22:32:05.861700Z",
     "start_time": "2021-02-08T22:32:05.831Z"
    }
   },
   "outputs": [
    {
     "data": {
      "text/plain": [
       "val p1 : formulePropositionnelle = Ou (Var \"x\", Var \"y\")\n",
       "val p2 : formulePropositionnelle = Et (Var \"y\", Var \"z\")\n",
       "val p3 : formulePropositionnelle = Non (Var \"x\")\n"
      ]
     },
     "execution_count": 59,
     "metadata": {},
     "output_type": "execute_result"
    },
    {
     "data": {
      "text/plain": [
       "val p4 : formulePropositionnelle =\n",
       "  Et (Ou (Var \"x\", Var \"y\"), Et (Var \"y\", Var \"z\"))\n"
      ]
     },
     "execution_count": 59,
     "metadata": {},
     "output_type": "execute_result"
    },
    {
     "data": {
      "text/plain": [
       "val p5 : formulePropositionnelle =\n",
       "  Ou (Non (Var \"x\"), Et (Ou (Var \"x\", Var \"y\"), Et (Var \"y\", Var \"z\")))\n"
      ]
     },
     "execution_count": 59,
     "metadata": {},
     "output_type": "execute_result"
    },
    {
     "data": {
      "text/plain": [
       "val p6 : formulePropositionnelle =\n",
       "  Non (Ou (Non (Var \"x\"), Et (Ou (Var \"x\", Var \"y\"), Et (Var \"y\", Var \"z\"))))\n"
      ]
     },
     "execution_count": 59,
     "metadata": {},
     "output_type": "execute_result"
    }
   ],
   "source": [
    "let p1 = Ou(x, y)\n",
    "and p2 = Et(y, z)\n",
    "and p3 = Non(x)\n",
    ";;\n",
    "\n",
    "let p4 = Et(p1, p2);;\n",
    "let p5 = Ou(p3, p4);;\n",
    "let p6 = Non(p5);;"
   ]
  },
  {
   "cell_type": "code",
   "execution_count": 63,
   "id": "scheduled-label",
   "metadata": {
    "ExecuteTime": {
     "end_time": "2021-02-08T22:32:35.372900Z",
     "start_time": "2021-02-08T22:32:35.364Z"
    }
   },
   "outputs": [
    {
     "name": "stderr",
     "output_type": "stream",
     "text": [
      "File \"[63]\", line 6, characters 6-7:\n",
      "Warning 11: this match case is unused.\n"
     ]
    },
    {
     "data": {
      "text/plain": [
       "val taille : formulePropositionnelle -> int = <fun>\n"
      ]
     },
     "execution_count": 63,
     "metadata": {},
     "output_type": "execute_result"
    }
   ],
   "source": [
    "let rec taille (formule: formulePropositionnelle) : int =\n",
    "    match formule with\n",
    "    | Var _ -> 1\n",
    "    | Non phi -> 1 + taille phi\n",
    "    | Et (phi1, phi2) | Ou (phi1, phi2) -> 1 + (taille phi1) + (taille phi2)\n",
    "    | _ -> 0\n",
    ";;"
   ]
  },
  {
   "cell_type": "code",
   "execution_count": 67,
   "id": "billion-wyoming",
   "metadata": {
    "ExecuteTime": {
     "end_time": "2021-02-08T22:32:55.924100Z",
     "start_time": "2021-02-08T22:32:55.915Z"
    }
   },
   "outputs": [
    {
     "data": {
      "text/plain": [
       "- : int = 1\n"
      ]
     },
     "execution_count": 67,
     "metadata": {},
     "output_type": "execute_result"
    },
    {
     "data": {
      "text/plain": [
       "- : int = 1\n"
      ]
     },
     "execution_count": 67,
     "metadata": {},
     "output_type": "execute_result"
    },
    {
     "data": {
      "text/plain": [
       "- : int = 1\n"
      ]
     },
     "execution_count": 67,
     "metadata": {},
     "output_type": "execute_result"
    }
   ],
   "source": [
    "taille x;;\n",
    "taille y;;\n",
    "taille z;;"
   ]
  },
  {
   "cell_type": "code",
   "execution_count": 64,
   "id": "killing-physics",
   "metadata": {
    "ExecuteTime": {
     "end_time": "2021-02-08T22:32:38.462400Z",
     "start_time": "2021-02-08T22:32:38.457Z"
    }
   },
   "outputs": [
    {
     "data": {
      "text/plain": [
       "- : int = 3\n"
      ]
     },
     "execution_count": 64,
     "metadata": {},
     "output_type": "execute_result"
    },
    {
     "data": {
      "text/plain": [
       "- : int = 3\n"
      ]
     },
     "execution_count": 64,
     "metadata": {},
     "output_type": "execute_result"
    },
    {
     "data": {
      "text/plain": [
       "- : int = 2\n"
      ]
     },
     "execution_count": 64,
     "metadata": {},
     "output_type": "execute_result"
    }
   ],
   "source": [
    "taille p1;;\n",
    "taille p2;;\n",
    "taille p3;;"
   ]
  },
  {
   "cell_type": "markdown",
   "id": "commercial-degree",
   "metadata": {},
   "source": [
    "Avec une fonction récursive terminale :"
   ]
  },
  {
   "cell_type": "code",
   "execution_count": 55,
   "id": "weighted-duncan",
   "metadata": {
    "ExecuteTime": {
     "end_time": "2021-02-08T22:31:15.751200Z",
     "start_time": "2021-02-08T22:31:15.742Z"
    }
   },
   "outputs": [
    {
     "data": {
      "text/plain": [
       "val taille : formulePropositionnelle -> int = <fun>\n"
      ]
     },
     "execution_count": 55,
     "metadata": {},
     "output_type": "execute_result"
    }
   ],
   "source": [
    "let taille (formule: formulePropositionnelle) : int =\n",
    "    let rec aux acc = function\n",
    "        | Var _ -> 1\n",
    "        | Non phi -> aux (acc+1) phi\n",
    "        | Et (phi1, phi2) | Ou (phi1, phi2) -> aux (aux (acc + 1) phi1) phi2\n",
    "    in aux 0 formule\n",
    ";;"
   ]
  },
  {
   "cell_type": "code",
   "execution_count": 61,
   "id": "vital-thanks",
   "metadata": {
    "ExecuteTime": {
     "end_time": "2021-02-08T22:32:24.005400Z",
     "start_time": "2021-02-08T22:32:23.995Z"
    }
   },
   "outputs": [
    {
     "data": {
      "text/plain": [
       "- : int = 7\n"
      ]
     },
     "execution_count": 61,
     "metadata": {},
     "output_type": "execute_result"
    },
    {
     "data": {
      "text/plain": [
       "- : int = 10\n"
      ]
     },
     "execution_count": 61,
     "metadata": {},
     "output_type": "execute_result"
    },
    {
     "data": {
      "text/plain": [
       "- : int = 11\n"
      ]
     },
     "execution_count": 61,
     "metadata": {},
     "output_type": "execute_result"
    }
   ],
   "source": [
    "taille p4;;\n",
    "taille p5;;\n",
    "taille p6;;"
   ]
  },
  {
   "cell_type": "markdown",
   "id": "funny-prairie",
   "metadata": {},
   "source": [
    "### Un type paramétrique récursif et un exemple :"
   ]
  },
  {
   "cell_type": "code",
   "execution_count": 41,
   "id": "substantial-polls",
   "metadata": {
    "ExecuteTime": {
     "end_time": "2021-02-08T22:26:08.902000Z",
     "start_time": "2021-02-08T22:26:08.893Z"
    }
   },
   "outputs": [
    {
     "data": {
      "text/plain": [
       "type 'a arbreBinaire =\n",
       "    Feuille\n",
       "  | Noeud of ('a arbreBinaire * 'a * 'a arbreBinaire)\n"
      ]
     },
     "execution_count": 41,
     "metadata": {},
     "output_type": "execute_result"
    }
   ],
   "source": [
    "type 'a arbreBinaire = Feuille | Noeud of ('a arbreBinaire * 'a * 'a arbreBinaire);;"
   ]
  },
  {
   "cell_type": "code",
   "execution_count": 42,
   "id": "occasional-pillow",
   "metadata": {
    "ExecuteTime": {
     "end_time": "2021-02-08T22:26:25.769700Z",
     "start_time": "2021-02-08T22:26:25.765Z"
    }
   },
   "outputs": [
    {
     "data": {
      "text/plain": [
       "- : int arbreBinaire = Noeud (Feuille, 10, Feuille)\n"
      ]
     },
     "execution_count": 42,
     "metadata": {},
     "output_type": "execute_result"
    }
   ],
   "source": [
    "Noeud(Feuille, 10, Feuille)"
   ]
  },
  {
   "cell_type": "markdown",
   "id": "economic-mounting",
   "metadata": {},
   "source": [
    "### D'autres exemples ?\n",
    "\n",
    "TODO: plus tard !"
   ]
  },
  {
   "cell_type": "markdown",
   "id": "collaborative-belize",
   "metadata": {},
   "source": [
    "## Pour en apprendre plus\n",
    "\n",
    "- Ce petit tutoriel : https://perso.crans.org/besson/apprendre-python.fr.html (sous licence GPLv3) ;\n",
    "- Ce WikiBooks : https://fr.wikibooks.org/wiki/Programmation_Python (sous licence libre) ;\n",
    "- Ces deux livres de Python au niveau lycée : https://github.com/exo7math/python1-exo7 et https://github.com/exo7math/python2-exo7 (sous licence Creative Commons)."
   ]
  }
 ],
 "metadata": {
  "kernelspec": {
   "display_name": "OCaml 4.05.0",
   "language": "OCaml",
   "name": "ocaml-jupyter"
  },
  "language_info": {
   "codemirror_mode": "text/x-ocaml",
   "file_extension": ".ml",
   "mimetype": "text/x-ocaml",
   "name": "OCaml",
   "nbconverter_exporter": null,
   "pygments_lexer": "OCaml",
   "version": "3.6.9-final"
  },
  "toc": {
   "base_numbering": 1,
   "nav_menu": {},
   "number_sections": true,
   "sideBar": true,
   "skip_h1_title": false,
   "title_cell": "Table of Contents",
   "title_sidebar": "Contents",
   "toc_cell": true,
   "toc_position": {},
   "toc_section_display": true,
   "toc_window_display": true
  },
  "varInspector": {
   "cols": {
    "lenName": 16,
    "lenType": 16,
    "lenVar": 40
   },
   "kernels_config": {
    "python": {
     "delete_cmd_postfix": "",
     "delete_cmd_prefix": "del ",
     "library": "var_list.py",
     "varRefreshCmd": "print(var_dic_list())"
    },
    "r": {
     "delete_cmd_postfix": ") ",
     "delete_cmd_prefix": "rm(",
     "library": "var_list.r",
     "varRefreshCmd": "cat(var_dic_list()) "
    }
   },
   "types_to_exclude": [
    "module",
    "function",
    "builtin_function_or_method",
    "instance",
    "_Feature"
   ],
   "window_display": false
  }
 },
 "nbformat": 4,
 "nbformat_minor": 5
}